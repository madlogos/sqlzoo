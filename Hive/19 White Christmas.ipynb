{
 "cells": [
  {
   "cell_type": "markdown",
   "metadata": {},
   "source": [
    "# White Christmas\n",
    "\n",
    "## HadCET\n",
    "The [HadCET](http://www.metoffice.gov.uk/hadobs/hadcet/) data is \"the longest available instrumental record of temperature in the world\", currently available from the UK Met Office. It provides the daily mean temperature for the centre of England since 1772.\n",
    "\n",
    "From that table you can see that the mean daily temperature for 1st January 2001 was recorded as 40 meaning 4.0°C, the temperature for 2nd January 2001 has 77 which translates to 7.7°C\n",
    "\n",
    "The February temperatures are in the m2 column, notice that -999 has been entered for invalid cells such as 31 Feb 2001.\n",
    "\n",
    "```\n",
    "+------+----+-----+-----+-----+-----+-----+-----+-----+-----+-----+-----+-----+-----+\n",
    "| yr   | dy |  m1 |  m2 |  m3 |  m4 |  m5 |  m6 |  m7 |  m8 |  m9 | m10 | m11 | m12 |\n",
    "+------+----+-----+-----+-----+-----+-----+-----+-----+-----+-----+-----+-----+-----+\n",
    "| 2001 |  1 |  40 |  11 |   9 | 112 |  87 | 131 | 185 | 180 | 150 | 151 |  91 |  98 |\n",
    "| 2001 |  2 |  77 |  32 |  -4 | 114 |  99 | 126 | 207 | 163 | 168 | 143 |  99 |  29 |\n",
    "| 2001 |  3 |  52 |  66 |  -3 |  84 | 105 | 100 | 209 | 166 | 153 | 142 |  87 |  55 |\n",
    "| 2001 |  4 |  50 |  57 |   5 |  69 |  72 | 130 | 219 | 151 | 134 | 139 |  90 |  73 |\n",
    "| 2001 |  5 |  47 |  68 |  12 |  71 |  82 | 136 | 217 | 161 | 139 | 159 |  75 |  82 |\n",
    "| 2001 |  6 |  43 |  83 |  57 |  90 |  76 | 135 | 201 | 173 | 141 | 142 |  95 |  46 |\n",
    "| 2001 |  7 |  49 |  85 |  86 |  69 |  90 | 110 | 185 | 161 | 153 | 128 | 112 |  62 |\n",
    "| 2001 |  8 |  51 |  34 |  87 |  71 |  93 | 102 | 163 | 155 | 147 | 127 |  50 |  40 |\n",
    "| 2001 |  9 |  22 |  21 |  90 | 101 | 102 | 101 | 157 | 141 | 121 | 132 |  33 |  16 |\n",
    "| 2001 | 10 |  23 |  51 | 102 |  96 | 147 | 110 | 160 | 152 | 119 | 125 |  44 |  19 |\n",
    "| 2001 | 11 |  29 |  81 | 101 |  72 | 172 | 106 | 141 | 152 | 142 | 150 |  78 |  20 |\n",
    "| 2001 | 12 |  40 |  79 |  60 |  74 | 168 | 138 | 144 | 171 | 142 | 153 | 101 |  46 |\n",
    "| 2001 | 13 |  31 |  40 |  57 |  57 | 165 | 148 | 143 | 195 | 124 | 160 |  53 |  47 |\n",
    "| 2001 | 14 |  24 |  35 |  64 |  75 | 118 | 144 | 132 | 205 | 124 | 155 |  40 |  15 |\n",
    "| 2001 | 15 |  18 |  44 |  53 |  91 | 120 | 153 | 127 | 210 | 129 | 154 |  43 |  13 |\n",
    "| 2001 | 16 | -12 |  46 |  54 |  73 | 128 | 138 | 133 | 176 | 125 | 117 |  55 |  23 |\n",
    "| 2001 | 17 |  -9 |  21 |  26 |  52 |  89 | 123 | 143 | 157 | 109 | 138 |  83 |  20 |\n",
    "| 2001 | 18 |  -5 |   3 |  28 |  44 | 101 | 128 | 149 | 167 | 124 | 147 |  73 |  38 |\n",
    "| 2001 | 19 |  -8 |  26 |  20 |  54 | 119 | 160 | 137 | 181 | 129 | 113 |  63 |  48 |\n",
    "| 2001 | 20 |  -5 |  36 |  22 |  54 | 130 | 156 | 146 | 169 | 138 | 135 |  67 |  26 |\n",
    "| 2001 | 21 |  13 |  62 |  26 |  52 | 129 | 140 | 153 | 159 | 116 | 104 |  96 |  41 |\n",
    "| 2001 | 22 |  45 |  73 |  60 |  64 | 131 | 139 | 169 | 179 | 119 | 118 |  91 |  12 |\n",
    "| 2001 | 23 |  69 |  49 |  77 |  84 | 150 | 160 | 170 | 179 | 103 | 137 |  48 |  18 |\n",
    "| 2001 | 24 |  69 |  27 |  68 |  68 | 157 | 173 | 155 | 191 | 127 | 130 |  68 |  34 |\n",
    "| 2001 | 25 |  48 |  14 |  49 |  85 | 137 | 191 | 181 | 193 | 123 | 124 | 115 |  45 |\n",
    "| 2001 | 26 |  47 |  27 |  38 |  90 | 157 | 219 | 184 | 171 | 112 | 124 |  51 |  27 |\n",
    "| 2001 | 27 |  40 |  27 |  50 |  84 | 160 | 187 | 194 | 152 | 145 | 122 |  48 |  40 |\n",
    "| 2001 | 28 |  11 |  23 |  70 |  99 | 176 | 170 | 206 | 143 | 166 | 116 |  76 |  43 |\n",
    "| 2001 | 29 |  20 |-999 |  66 |  76 | 160 | 177 | 230 | 149 | 168 | 106 |  96 |  18 |\n",
    "| 2001 | 30 |  25 |-999 |  83 |  80 | 149 | 170 | 201 | 154 | 141 | 140 | 124 |  15 |\n",
    "| 2001 | 31 |  40 |-999 | 100 |-999 | 130 |-999 | 192 | 146 |-999 | 101 |-999 |  -4 |\n",
    "| 2002 |  1 | -18 |  86 |  45 | 113 |  93 | 143 | 131 | 161 | 126 | 145 | 114 |  87 |\n",
    "| 2002 |  2 | -18 | 109 |  31 | 100 |  84 | 162 | 135 | 156 | 140 | 156 | 114 |  83 |\n",
    "+------+----+-----+-----+-----+-----+-----+-----+-----+-----+-----+-----+-----+-----+\n",
    "```"
   ]
  },
  {
   "cell_type": "code",
   "execution_count": 1,
   "metadata": {},
   "outputs": [],
   "source": [
    "# Prerequesites\n",
    "from pyhive import hive\n",
    "%load_ext sql\n",
    "%sql hive://cloudera@quickstart.cloudera:10000/sqlzoo\n",
    "%config SqlMagic.displaylimit = 20"
   ]
  },
  {
   "cell_type": "markdown",
   "metadata": {},
   "source": [
    "## 1. Days, Months and Years\n",
    "The units are 10th of a degree Celcius. The columns are yr and dy for year and day of month. The next twelve columns are for January through to December.\n",
    "\n",
    "**Show the average daily temperature for August 10th 1964**\n",
    "\n",
    "```sql\n",
    "show create table hadcet\n",
    "```"
   ]
  },
  {
   "cell_type": "code",
   "execution_count": 2,
   "metadata": {},
   "outputs": [
    {
     "name": "stdout",
     "output_type": "stream",
     "text": [
      " * hive://cloudera@quickstart.cloudera:10000/sqlzoo\n",
      "Done.\n"
     ]
    },
    {
     "data": {
      "text/html": [
       "<table>\n",
       "    <tr>\n",
       "        <th>m8</th>\n",
       "    </tr>\n",
       "    <tr>\n",
       "        <td>139</td>\n",
       "    </tr>\n",
       "</table>"
      ],
      "text/plain": [
       "[(139,)]"
      ]
     },
     "execution_count": 2,
     "metadata": {},
     "output_type": "execute_result"
    }
   ],
   "source": [
    "%%sql\n",
    "SELECT m8 FROM hadcet\n",
    "  WHERE yr=1964 AND dy=10"
   ]
  },
  {
   "cell_type": "markdown",
   "metadata": {},
   "source": [
    "## 2. preteen Dickens\n",
    "\n",
    "Charles Dickens is said to be responsible for the tradition of expecting snow at Christmas [Daily Telegraph](http://www.telegraph.co.uk/topics/christmas/3933091/Dreaming-of-a-white-Christmas-Blame-the-nostalgia-of-Charles-Dickens-snowy-childhood.html). Show the temperature on Christmas day (25th December) for each year of his childhood. He was born in February 1812 - so he was 1 (more or less) in December 1812.\n",
    "\n",
    "**Show the twelve temperatures.**\n",
    "\n",
    "```sql\n",
    "SELECT yr-1811 as age FROM hadcet\n",
    "  WHERE yr BETWEEN 1812 and 1812+12 AND dy=25\n",
    "```"
   ]
  },
  {
   "cell_type": "code",
   "execution_count": 3,
   "metadata": {},
   "outputs": [
    {
     "name": "stdout",
     "output_type": "stream",
     "text": [
      " * hive://cloudera@quickstart.cloudera:10000/sqlzoo\n",
      "Done.\n"
     ]
    },
    {
     "data": {
      "text/html": [
       "<table>\n",
       "    <tr>\n",
       "        <th>age</th>\n",
       "        <th>m12</th>\n",
       "    </tr>\n",
       "    <tr>\n",
       "        <td>1</td>\n",
       "        <td>0</td>\n",
       "    </tr>\n",
       "    <tr>\n",
       "        <td>2</td>\n",
       "        <td>81</td>\n",
       "    </tr>\n",
       "    <tr>\n",
       "        <td>3</td>\n",
       "        <td>11</td>\n",
       "    </tr>\n",
       "    <tr>\n",
       "        <td>4</td>\n",
       "        <td>-8</td>\n",
       "    </tr>\n",
       "    <tr>\n",
       "        <td>5</td>\n",
       "        <td>30</td>\n",
       "    </tr>\n",
       "    <tr>\n",
       "        <td>6</td>\n",
       "        <td>-4</td>\n",
       "    </tr>\n",
       "    <tr>\n",
       "        <td>7</td>\n",
       "        <td>10</td>\n",
       "    </tr>\n",
       "    <tr>\n",
       "        <td>8</td>\n",
       "        <td>-8</td>\n",
       "    </tr>\n",
       "    <tr>\n",
       "        <td>9</td>\n",
       "        <td>-3</td>\n",
       "    </tr>\n",
       "    <tr>\n",
       "        <td>10</td>\n",
       "        <td>35</td>\n",
       "    </tr>\n",
       "    <tr>\n",
       "        <td>11</td>\n",
       "        <td>5</td>\n",
       "    </tr>\n",
       "    <tr>\n",
       "        <td>12</td>\n",
       "        <td>78</td>\n",
       "    </tr>\n",
       "    <tr>\n",
       "        <td>13</td>\n",
       "        <td>104</td>\n",
       "    </tr>\n",
       "</table>"
      ],
      "text/plain": [
       "[(1, 0),\n",
       " (2, 81),\n",
       " (3, 11),\n",
       " (4, -8),\n",
       " (5, 30),\n",
       " (6, -4),\n",
       " (7, 10),\n",
       " (8, -8),\n",
       " (9, -3),\n",
       " (10, 35),\n",
       " (11, 5),\n",
       " (12, 78),\n",
       " (13, 104)]"
      ]
     },
     "execution_count": 3,
     "metadata": {},
     "output_type": "execute_result"
    }
   ],
   "source": [
    "%%sql\n",
    "SELECT yr-1811 AS age, m12 FROM hadcet\n",
    "  WHERE yr BETWEEN 1812 AND 1812+12 AND dy=25"
   ]
  },
  {
   "cell_type": "markdown",
   "metadata": {},
   "source": [
    "## 3. Minimum Temperature Before Christmas\n",
    "\n",
    "We declare a White Christmas if there was a day with an average temperature below zero between 21st and 25th of December.\n",
    "\n",
    "**For each age 1-12 show which years were a White Christmas. Show 'White Christmas' or 'No snow' for each age.**\n",
    "\n",
    "```sql\n",
    "SELECT yr-1811 as age FROM hadcet\n",
    "  WHERE yr BETWEEN 1812 and 1812+12 AND dy=25\n",
    "```"
   ]
  },
  {
   "cell_type": "code",
   "execution_count": 4,
   "metadata": {},
   "outputs": [
    {
     "name": "stdout",
     "output_type": "stream",
     "text": [
      " * hive://cloudera@quickstart.cloudera:10000/sqlzoo\n",
      "Done.\n"
     ]
    },
    {
     "data": {
      "text/html": [
       "<table>\n",
       "    <tr>\n",
       "        <th>age</th>\n",
       "        <th>lbl</th>\n",
       "    </tr>\n",
       "    <tr>\n",
       "        <td>1</td>\n",
       "        <td>No snow</td>\n",
       "    </tr>\n",
       "    <tr>\n",
       "        <td>2</td>\n",
       "        <td>No snow</td>\n",
       "    </tr>\n",
       "    <tr>\n",
       "        <td>3</td>\n",
       "        <td>White Christmas</td>\n",
       "    </tr>\n",
       "    <tr>\n",
       "        <td>4</td>\n",
       "        <td>White Christmas</td>\n",
       "    </tr>\n",
       "    <tr>\n",
       "        <td>5</td>\n",
       "        <td>White Christmas</td>\n",
       "    </tr>\n",
       "    <tr>\n",
       "        <td>6</td>\n",
       "        <td>White Christmas</td>\n",
       "    </tr>\n",
       "    <tr>\n",
       "        <td>7</td>\n",
       "        <td>White Christmas</td>\n",
       "    </tr>\n",
       "    <tr>\n",
       "        <td>8</td>\n",
       "        <td>White Christmas</td>\n",
       "    </tr>\n",
       "    <tr>\n",
       "        <td>9</td>\n",
       "        <td>White Christmas</td>\n",
       "    </tr>\n",
       "    <tr>\n",
       "        <td>10</td>\n",
       "        <td>No snow</td>\n",
       "    </tr>\n",
       "    <tr>\n",
       "        <td>11</td>\n",
       "        <td>White Christmas</td>\n",
       "    </tr>\n",
       "    <tr>\n",
       "        <td>12</td>\n",
       "        <td>No snow</td>\n",
       "    </tr>\n",
       "</table>"
      ],
      "text/plain": [
       "[(1, 'No snow'),\n",
       " (2, 'No snow'),\n",
       " (3, 'White Christmas'),\n",
       " (4, 'White Christmas'),\n",
       " (5, 'White Christmas'),\n",
       " (6, 'White Christmas'),\n",
       " (7, 'White Christmas'),\n",
       " (8, 'White Christmas'),\n",
       " (9, 'White Christmas'),\n",
       " (10, 'No snow'),\n",
       " (11, 'White Christmas'),\n",
       " (12, 'No snow')]"
      ]
     },
     "execution_count": 4,
     "metadata": {},
     "output_type": "execute_result"
    }
   ],
   "source": [
    "%%sql\n",
    "SELECT yr-1811 AS age, CASE WHEN MIN(m12)<0 \n",
    "    THEN 'White Christmas' ELSE 'No snow' END lbl\n",
    "      FROM hadcet\n",
    "    WHERE yr BETWEEN 1812 AND 1812+11 AND dy BETWEEN 21 AND 25\n",
    "    AND m12 != -999\n",
    "    GROUP BY yr"
   ]
  },
  {
   "cell_type": "markdown",
   "metadata": {},
   "source": [
    "## 4. White Christmas Count\n",
    "\n",
    "A person's White Christmas Count (wcc) is the number of White Christmases they were exposed to as a child (between 3 and 12 inclusive assuming they were born at the beginning of the year and were about 1 year old on their first Christmas).\n",
    "\n",
    "Charles Dickens's wcc was 8.\n",
    "\n",
    "**List all the years and the wcc for children born in each year of the data set. Only show years where the wcc was at least 7.**\n",
    "\n",
    "```sql\n",
    "SELECT yr-1811 as age FROM hadcet\n",
    "  WHERE yr BETWEEN 1812 and 1812+12 AND dy=25\n",
    "```\n",
    "\n",
    "```\n",
    "+------+-----+\n",
    "| yob  | wcc |\n",
    "+------+-----+\n",
    "| 1805 |   7 |\n",
    "| 1806 |   7 |\n",
    "| 1807 |   7 |\n",
    "| 1808 |   8 |\n",
    "| 1809 |   9 |\n",
    "| 1810 |   8 |\n",
    "| 1811 |   8 |\n",
    "| 1812 |   8 |\n",
    "| 1813 |   7 |\n",
    "+------+-----+\n",
    "```"
   ]
  },
  {
   "cell_type": "code",
   "execution_count": 2,
   "metadata": {},
   "outputs": [
    {
     "name": "stdout",
     "output_type": "stream",
     "text": [
      " * hive://cloudera@quickstart.cloudera:10000/sqlzoo\n",
      "Done.\n"
     ]
    },
    {
     "data": {
      "text/html": [
       "<table>\n",
       "    <tr>\n",
       "        <th>yr</th>\n",
       "        <th>wcc</th>\n",
       "    </tr>\n",
       "    <tr>\n",
       "        <td>1809</td>\n",
       "        <td>7</td>\n",
       "    </tr>\n",
       "    <tr>\n",
       "        <td>1810</td>\n",
       "        <td>7</td>\n",
       "    </tr>\n",
       "    <tr>\n",
       "        <td>1811</td>\n",
       "        <td>8</td>\n",
       "    </tr>\n",
       "    <tr>\n",
       "        <td>1812</td>\n",
       "        <td>8</td>\n",
       "    </tr>\n",
       "    <tr>\n",
       "        <td>1813</td>\n",
       "        <td>7</td>\n",
       "    </tr>\n",
       "</table>"
      ],
      "text/plain": [
       "[(1809, 7), (1810, 7), (1811, 8), (1812, 8), (1813, 7)]"
      ]
     },
     "execution_count": 2,
     "metadata": {},
     "output_type": "execute_result"
    }
   ],
   "source": [
    "%%sql\n",
    "SELECT x.yr, COUNT(y.yr) wcc\n",
    "FROM (SELECT DISTINCT yr FROM hadcet) x JOIN (\n",
    "   SELECT yr FROM hadcet \n",
    "    WHERE dy BETWEEN 21 AND 25 AND m12 != -999\n",
    "    GROUP BY yr \n",
    "    HAVING SUM(CASE WHEN m12 < 0 THEN 1 ELSE 0 END) > 0\n",
    ") y ON (1=1)\n",
    "WHERE y.yr >= x.yr + 2 AND y.yr <= x.yr + 11\n",
    "GROUP BY x.yr\n",
    "HAVING COUNT(y.yr) >= 7"
   ]
  },
  {
   "cell_type": "markdown",
   "metadata": {},
   "source": [
    "## 5. Climate Change\n",
    "\n",
    "Here are the average temperatures for August by decade. You decide."
   ]
  },
  {
   "cell_type": "code",
   "execution_count": 3,
   "metadata": {},
   "outputs": [
    {
     "name": "stdout",
     "output_type": "stream",
     "text": [
      " * hive://cloudera@quickstart.cloudera:10000/sqlzoo\n",
      "Done.\n"
     ]
    },
    {
     "data": {
      "text/html": [
       "<table>\n",
       "    <tr>\n",
       "        <th>decade</th>\n",
       "        <th>avg_m8</th>\n",
       "    </tr>\n",
       "    <tr>\n",
       "        <td>1770.0</td>\n",
       "        <td>164.53</td>\n",
       "    </tr>\n",
       "    <tr>\n",
       "        <td>1780.0</td>\n",
       "        <td>159.86</td>\n",
       "    </tr>\n",
       "    <tr>\n",
       "        <td>1790.0</td>\n",
       "        <td>155.47</td>\n",
       "    </tr>\n",
       "    <tr>\n",
       "        <td>1800.0</td>\n",
       "        <td>161.7</td>\n",
       "    </tr>\n",
       "    <tr>\n",
       "        <td>1810.0</td>\n",
       "        <td>153.61</td>\n",
       "    </tr>\n",
       "    <tr>\n",
       "        <td>1820.0</td>\n",
       "        <td>151.37</td>\n",
       "    </tr>\n",
       "    <tr>\n",
       "        <td>1830.0</td>\n",
       "        <td>154.82</td>\n",
       "    </tr>\n",
       "    <tr>\n",
       "        <td>1840.0</td>\n",
       "        <td>153.34</td>\n",
       "    </tr>\n",
       "    <tr>\n",
       "        <td>1850.0</td>\n",
       "        <td>150.29</td>\n",
       "    </tr>\n",
       "    <tr>\n",
       "        <td>1860.0</td>\n",
       "        <td>155.83</td>\n",
       "    </tr>\n",
       "    <tr>\n",
       "        <td>1870.0</td>\n",
       "        <td>157.08</td>\n",
       "    </tr>\n",
       "    <tr>\n",
       "        <td>1880.0</td>\n",
       "        <td>156.19</td>\n",
       "    </tr>\n",
       "    <tr>\n",
       "        <td>1890.0</td>\n",
       "        <td>148.9</td>\n",
       "    </tr>\n",
       "    <tr>\n",
       "        <td>1900.0</td>\n",
       "        <td>154.99</td>\n",
       "    </tr>\n",
       "    <tr>\n",
       "        <td>1910.0</td>\n",
       "        <td>153.31</td>\n",
       "    </tr>\n",
       "    <tr>\n",
       "        <td>1920.0</td>\n",
       "        <td>150.68</td>\n",
       "    </tr>\n",
       "    <tr>\n",
       "        <td>1930.0</td>\n",
       "        <td>158.21</td>\n",
       "    </tr>\n",
       "    <tr>\n",
       "        <td>1940.0</td>\n",
       "        <td>162.31</td>\n",
       "    </tr>\n",
       "    <tr>\n",
       "        <td>1950.0</td>\n",
       "        <td>158.09</td>\n",
       "    </tr>\n",
       "    <tr>\n",
       "        <td>1960.0</td>\n",
       "        <td>154.69</td>\n",
       "    </tr>\n",
       "</table>\n",
       "<span style=\"font-style:italic;text-align:center;\">26 rows, truncated to displaylimit of 20</span>"
      ],
      "text/plain": [
       "[(1770.0, 164.53),\n",
       " (1780.0, 159.86),\n",
       " (1790.0, 155.47),\n",
       " (1800.0, 161.7),\n",
       " (1810.0, 153.61),\n",
       " (1820.0, 151.37),\n",
       " (1830.0, 154.82),\n",
       " (1840.0, 153.34),\n",
       " (1850.0, 150.29),\n",
       " (1860.0, 155.83),\n",
       " (1870.0, 157.08),\n",
       " (1880.0, 156.19),\n",
       " (1890.0, 148.9),\n",
       " (1900.0, 154.99),\n",
       " (1910.0, 153.31),\n",
       " (1920.0, 150.68),\n",
       " (1930.0, 158.21),\n",
       " (1940.0, 162.31),\n",
       " (1950.0, 158.09),\n",
       " (1960.0, 154.69),\n",
       " (1970.0, 155.48),\n",
       " (1980.0, 164.26),\n",
       " (1990.0, 156.69),\n",
       " (2000.0, 173.0),\n",
       " (2010.0, 159.64),\n",
       " (2020.0, 164.61)]"
      ]
     },
     "execution_count": 3,
     "metadata": {},
     "output_type": "execute_result"
    }
   ],
   "source": [
    "df = %sql SELECT decade, ROUND(AVG(m8), 2) avg_m8 FROM \\\n",
    "(SELECT ROUND(yr/10,0)*10 decade, \\\n",
    "  CASE WHEN m8=-999 THEN NULL ELSE m8 END m8 \\\n",
    "  FROM hadcet) a \\\n",
    "GROUP BY decade\n",
    "df"
   ]
  },
  {
   "cell_type": "code",
   "execution_count": 4,
   "metadata": {},
   "outputs": [
    {
     "data": {
      "image/png": "[encoded data removed]",
      "text/plain": [
       "<Figure size 432x288 with 1 Axes>"
      ]
     },
     "metadata": {
      "needs_background": "light"
     },
     "output_type": "display_data"
    }
   ],
   "source": [
    "%matplotlib inline\n",
    "import pandas as pd\n",
    "import matplotlib.pyplot as plt\n",
    "df = pd.DataFrame(df)\n",
    "df.columns=['decade', 'avg_m8']\n",
    "df['avg_m8'] = df['avg_m8']/10\n",
    "plt.plot(df['decade'], df['avg_m8'])\n",
    "plt.show()"
   ]
  },
  {
   "cell_type": "code",
   "execution_count": null,
   "metadata": {},
   "outputs": [],
   "source": []
  }
 ],
 "metadata": {
  "kernelspec": {
   "display_name": "Python 3",
   "language": "python",
   "name": "python3"
  },
  "language_info": {
   "codemirror_mode": {
    "name": "ipython",
    "version": 3
   },
   "file_extension": ".py",
   "mimetype": "text/x-python",
   "name": "python",
   "nbconvert_exporter": "python",
   "pygments_lexer": "ipython3",
   "version": "3.7.7"
  }
 },
 "nbformat": 4,
 "nbformat_minor": 4
}
