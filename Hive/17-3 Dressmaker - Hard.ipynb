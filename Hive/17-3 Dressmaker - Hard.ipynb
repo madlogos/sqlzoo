{
 "cells": [
  {
   "cell_type": "markdown",
   "metadata": {},
   "source": [
    "# Dressmaker - Hard\n",
    "You may need to create views to complete these questions - but you do not have permission to create tables or views in the default schema. Your SQL commands are executed by user scott in schema gisq - you may create or drop views and tables in schema scott but not in gisq."
   ]
  },
  {
   "cell_type": "code",
   "execution_count": 1,
   "metadata": {},
   "outputs": [],
   "source": [
    "# Prerequesites\n",
    "from pyhive import hive\n",
    "%load_ext sql\n",
    "%sql hive://cloudera@quickstart.cloudera:10000/sqlzoo\n",
    "%config SqlMagic.displaylimit = 20"
   ]
  },
  {
   "cell_type": "markdown",
   "metadata": {},
   "source": [
    "## 1.\n",
    "When creating a view in scott you must specify the schema name of the sources and the destination."
   ]
  },
  {
   "cell_type": "code",
   "execution_count": 2,
   "metadata": {},
   "outputs": [
    {
     "name": "stdout",
     "output_type": "stream",
     "text": [
      " * hive://cloudera@quickstart.cloudera:10000/sqlzoo\n",
      "Done.\n"
     ]
    },
    {
     "data": {
      "text/plain": [
       "[]"
      ]
     },
     "execution_count": 2,
     "metadata": {},
     "output_type": "execute_result"
    }
   ],
   "source": [
    "%%sql\n",
    "CREATE SCHEMA IF NOT EXISTS scott"
   ]
  },
  {
   "cell_type": "markdown",
   "metadata": {},
   "source": [
    "## 2.\n",
    "It is decided to review the materials stock. How much did each material contribute to turnover in 2002?"
   ]
  },
  {
   "cell_type": "code",
   "execution_count": 3,
   "metadata": {},
   "outputs": [
    {
     "name": "stdout",
     "output_type": "stream",
     "text": [
      " * hive://cloudera@quickstart.cloudera:10000/sqlzoo\n",
      "Done.\n"
     ]
    },
    {
     "data": {
      "text/html": [
       "<table>\n",
       "    <tr>\n",
       "        <th>material_no</th>\n",
       "        <th>fabric</th>\n",
       "        <th>colour</th>\n",
       "        <th>pattern</th>\n",
       "        <th>quantity</th>\n",
       "        <th>cost</th>\n",
       "    </tr>\n",
       "    <tr>\n",
       "        <td>1</td>\n",
       "        <td>Silk</td>\n",
       "        <td>Black</td>\n",
       "        <td>Plain</td>\n",
       "        <td>4.9</td>\n",
       "        <td>34.3</td>\n",
       "    </tr>\n",
       "    <tr>\n",
       "        <td>2</td>\n",
       "        <td>Silk</td>\n",
       "        <td>Red Abstract</td>\n",
       "        <td>Printed</td>\n",
       "        <td>9.3</td>\n",
       "        <td>93.0</td>\n",
       "    </tr>\n",
       "    <tr>\n",
       "        <td>3</td>\n",
       "        <td>Cotton</td>\n",
       "        <td>Yellow Stripe</td>\n",
       "        <td>Woven</td>\n",
       "        <td>5.7</td>\n",
       "        <td>17.1</td>\n",
       "    </tr>\n",
       "    <tr>\n",
       "        <td>4</td>\n",
       "        <td>Cotton</td>\n",
       "        <td>Green Stripe</td>\n",
       "        <td>Woven</td>\n",
       "        <td>2.2</td>\n",
       "        <td>6.6</td>\n",
       "    </tr>\n",
       "    <tr>\n",
       "        <td>5</td>\n",
       "        <td>Cotton</td>\n",
       "        <td>Black Dotted</td>\n",
       "        <td>Woven</td>\n",
       "        <td>6.4</td>\n",
       "        <td>19.2</td>\n",
       "    </tr>\n",
       "    <tr>\n",
       "        <td>6</td>\n",
       "        <td>Cotton</td>\n",
       "        <td>Red Stripe</td>\n",
       "        <td>Woven</td>\n",
       "        <td>2.2</td>\n",
       "        <td>6.6</td>\n",
       "    </tr>\n",
       "    <tr>\n",
       "        <td>7</td>\n",
       "        <td>Polyester</td>\n",
       "        <td>Pale Yellow</td>\n",
       "        <td>Printed</td>\n",
       "        <td>4.3</td>\n",
       "        <td>10.96</td>\n",
       "    </tr>\n",
       "    <tr>\n",
       "        <td>8</td>\n",
       "        <td>Cotton</td>\n",
       "        <td>Blue Stripe</td>\n",
       "        <td>Woven</td>\n",
       "        <td>4.2</td>\n",
       "        <td>12.6</td>\n",
       "    </tr>\n",
       "    <tr>\n",
       "        <td>9</td>\n",
       "        <td>Cotton</td>\n",
       "        <td>Pink Check</td>\n",
       "        <td>Woven</td>\n",
       "        <td>4.6</td>\n",
       "        <td>13.8</td>\n",
       "    </tr>\n",
       "    <tr>\n",
       "        <td>10</td>\n",
       "        <td>Silk</td>\n",
       "        <td>Green Abstract</td>\n",
       "        <td>Printed</td>\n",
       "        <td>8.3</td>\n",
       "        <td>124.5</td>\n",
       "    </tr>\n",
       "    <tr>\n",
       "        <td>11</td>\n",
       "        <td>Rayon</td>\n",
       "        <td>Red/Orange</td>\n",
       "        <td>Printed</td>\n",
       "        <td>9.7</td>\n",
       "        <td>38.8</td>\n",
       "    </tr>\n",
       "    <tr>\n",
       "        <td>12</td>\n",
       "        <td>Serge</td>\n",
       "        <td>Navy Blue</td>\n",
       "        <td>Woven</td>\n",
       "        <td>4.5</td>\n",
       "        <td>24.75</td>\n",
       "    </tr>\n",
       "    <tr>\n",
       "        <td>13</td>\n",
       "        <td>Cotton</td>\n",
       "        <td>Blue Abstract</td>\n",
       "        <td>Printed</td>\n",
       "        <td>4.6</td>\n",
       "        <td>16.1</td>\n",
       "    </tr>\n",
       "    <tr>\n",
       "        <td>14</td>\n",
       "        <td>Cotton</td>\n",
       "        <td>Green Abstract</td>\n",
       "        <td>Printed</td>\n",
       "        <td>4.5</td>\n",
       "        <td>15.75</td>\n",
       "    </tr>\n",
       "</table>"
      ],
      "text/plain": [
       "[(1, 'Silk', 'Black', 'Plain', 4.9, 34.3),\n",
       " (2, 'Silk', 'Red Abstract', 'Printed', 9.3, 93.0),\n",
       " (3, 'Cotton', 'Yellow Stripe', 'Woven', 5.7, 17.1),\n",
       " (4, 'Cotton', 'Green Stripe', 'Woven', 2.2, 6.6),\n",
       " (5, 'Cotton', 'Black Dotted', 'Woven', 6.4, 19.2),\n",
       " (6, 'Cotton', 'Red Stripe', 'Woven', 2.2, 6.6),\n",
       " (7, 'Polyester', 'Pale Yellow', 'Printed', 4.3, 10.96),\n",
       " (8, 'Cotton', 'Blue Stripe', 'Woven', 4.2, 12.6),\n",
       " (9, 'Cotton', 'Pink Check', 'Woven', 4.6, 13.8),\n",
       " (10, 'Silk', 'Green Abstract', 'Printed', 8.3, 124.5),\n",
       " (11, 'Rayon', 'Red/Orange', 'Printed', 9.7, 38.8),\n",
       " (12, 'Serge', 'Navy Blue', 'Woven', 4.5, 24.75),\n",
       " (13, 'Cotton', 'Blue Abstract', 'Printed', 4.6, 16.1),\n",
       " (14, 'Cotton', 'Green Abstract', 'Printed', 4.5, 15.75)]"
      ]
     },
     "execution_count": 3,
     "metadata": {},
     "output_type": "execute_result"
    }
   ],
   "source": [
    "%%sql\n",
    "SELECT material_no, fabric, colour, pattern, \n",
    "    ROUND(SUM(quantity), 2) AS quantity,\n",
    "    ROUND(SUM(cost*quantity), 2) AS cost\n",
    "    FROM material JOIN order_line ON (\n",
    "        order_line.ol_material=material.material_no) JOIN quantities ON (\n",
    "        quantities.size_q=order_line.ol_size AND\n",
    "            quantities.style_q=order_line.ol_style) JOIN\n",
    "        dress_order ON (dress_order.order_no=order_line.order_ref)\n",
    "        WHERE YEAR(order_date)=2002\n",
    "        GROUP BY material_no, fabric, colour, pattern"
   ]
  },
  {
   "cell_type": "markdown",
   "metadata": {},
   "source": [
    "## 3.\n",
    "An order for shorts has just been placed and the work is to be distributed amongst the workforce, and we wish to know how busy the shorts makers are. For each of the workers who have experience of making shorts show the number of hours work that she is currently committed to, assuming a meagre wage of £4.50 per hour"
   ]
  },
  {
   "cell_type": "code",
   "execution_count": 4,
   "metadata": {},
   "outputs": [
    {
     "name": "stdout",
     "output_type": "stream",
     "text": [
      " * hive://cloudera@quickstart.cloudera:10000/sqlzoo\n",
      "Done.\n"
     ]
    },
    {
     "data": {
      "text/html": [
       "<table>\n",
       "    <tr>\n",
       "        <th>d_name</th>\n",
       "        <th>hrs</th>\n",
       "    </tr>\n",
       "    <tr>\n",
       "        <td>Miss Pins</td>\n",
       "        <td>28.17</td>\n",
       "    </tr>\n",
       "    <tr>\n",
       "        <td>Miss Stitch</td>\n",
       "        <td>49.17</td>\n",
       "    </tr>\n",
       "    <tr>\n",
       "        <td>Mr Needles</td>\n",
       "        <td>18.61</td>\n",
       "    </tr>\n",
       "    <tr>\n",
       "        <td>Mr Seam</td>\n",
       "        <td>28.17</td>\n",
       "    </tr>\n",
       "    <tr>\n",
       "        <td>Mr Taylor</td>\n",
       "        <td>18.61</td>\n",
       "    </tr>\n",
       "    <tr>\n",
       "        <td>Ms Sew</td>\n",
       "        <td>18.61</td>\n",
       "    </tr>\n",
       "</table>"
      ],
      "text/plain": [
       "[('Miss Pins', 28.17),\n",
       " ('Miss Stitch', 49.17),\n",
       " ('Mr Needles', 18.61),\n",
       " ('Mr Seam', 28.17),\n",
       " ('Mr Taylor', 18.61),\n",
       " ('Ms Sew', 18.61)]"
      ]
     },
     "execution_count": 4,
     "metadata": {},
     "output_type": "execute_result"
    }
   ],
   "source": [
    "%%sql\n",
    "WITH t AS (\n",
    "    SELECT DISTINCT d_no\n",
    "      FROM dressmaker JOIN construction ON (\n",
    "          dressmaker.d_no=construction.maker) JOIN\n",
    "          dress_order ON (dress_order.order_no=construction.order_ref) JOIN\n",
    "          order_line ON (order_line.order_ref=dress_order.order_no) JOIN\n",
    "        garment ON (garment.style_no=order_line.ol_style)\n",
    "        WHERE LOWER(garment.description)='shorts'\n",
    ")\n",
    "SELECT d_name, ROUND(SUM(labour_cost)/4.5, 2) hrs\n",
    "  FROM dressmaker JOIN construction ON (\n",
    "      dressmaker.d_no=construction.maker) JOIN\n",
    "      dress_order ON (dress_order.order_no=construction.order_ref) JOIN\n",
    "        order_line ON (order_line.order_ref=dress_order.order_no) JOIN\n",
    "        garment ON (garment.style_no=order_line.ol_style) JOIN\n",
    "        quantities ON (quantities.style_q=order_line.ol_style AND\n",
    "                       quantities.size_q=order_line.ol_size) JOIN\n",
    "        t ON (dressmaker.d_no=t.d_no)\n",
    "    WHERE completed='N'\n",
    "    GROUP BY d_name"
   ]
  },
  {
   "cell_type": "markdown",
   "metadata": {},
   "source": [
    "## 4.\n",
    "\"Big spender of the year\" is the customer who spends the most on high value items. Identify the \"Big spender of the year 2002\" if the \"high value\" threshold is set at £30. Also who would it be if the threshold was £20 or £50?"
   ]
  },
  {
   "cell_type": "code",
   "execution_count": 5,
   "metadata": {},
   "outputs": [
    {
     "name": "stdout",
     "output_type": "stream",
     "text": [
      " * hive://cloudera@quickstart.cloudera:10000/sqlzoo\n",
      "Done.\n"
     ]
    },
    {
     "data": {
      "text/html": [
       "<table>\n",
       "    <tr>\n",
       "        <th>c_name</th>\n",
       "        <th>thres</th>\n",
       "        <th>spending</th>\n",
       "    </tr>\n",
       "    <tr>\n",
       "        <td>Mr Brass</td>\n",
       "        <td>20</td>\n",
       "        <td>198.54</td>\n",
       "    </tr>\n",
       "    <tr>\n",
       "        <td>Ms White</td>\n",
       "        <td>30</td>\n",
       "        <td>173.55</td>\n",
       "    </tr>\n",
       "    <tr>\n",
       "        <td>Mr Brass</td>\n",
       "        <td>50</td>\n",
       "        <td>72.0</td>\n",
       "    </tr>\n",
       "</table>"
      ],
      "text/plain": [
       "[('Mr Brass', 20, 198.54), ('Ms White', 30, 173.55), ('Mr Brass', 50, 72.0)]"
      ]
     },
     "execution_count": 5,
     "metadata": {},
     "output_type": "execute_result"
    }
   ],
   "source": [
    "%%sql\n",
    "WITH t AS (\n",
    "  SELECT order_ref, line_no, quantity*cost+labour_cost tot_cost\n",
    "    FROM order_line JOIN quantities ON (\n",
    "        order_line.ol_style=quantities.style_q AND \n",
    "        order_line.ol_size=quantities.size_q) JOIN\n",
    "    garment ON (order_line.ol_style=garment.style_no) JOIN\n",
    "    material ON (material.material_no=order_line.ol_material)\n",
    ")\n",
    "SELECT c_name, thres, ROUND(cost, 2) spending FROM\n",
    "(SELECT c_name, 20 AS thres, SUM(tot_cost) AS cost\n",
    "  FROM (SELECT * FROM t WHERE tot_cost>=20) t JOIN dress_order ON (\n",
    "      t.order_ref=dress_order.order_no) JOIN\n",
    "    jmcust ON (jmcust.c_no=dress_order.cust_no)\n",
    "    GROUP BY c_name\n",
    "    ORDER BY cost DESC\n",
    "    LIMIT 1\n",
    "UNION ALL\n",
    "SELECT c_name, 30 AS thres, SUM(tot_cost) AS cost\n",
    "  FROM (SELECT * FROM t WHERE tot_cost>=30) t JOIN dress_order ON (\n",
    "      t.order_ref=dress_order.order_no) JOIN\n",
    "    jmcust ON (jmcust.c_no=dress_order.cust_no)\n",
    "    GROUP BY c_name\n",
    "    ORDER BY cost DESC\n",
    "    LIMIT 1\n",
    "UNION ALL\n",
    "SELECT c_name, 50 AS thres, SUM(tot_cost) AS cost\n",
    "  FROM (SELECT * FROM t WHERE tot_cost>=50) t JOIN dress_order ON (\n",
    "      t.order_ref=dress_order.order_no) JOIN\n",
    "    jmcust ON (jmcust.c_no=dress_order.cust_no)\n",
    "    GROUP BY c_name\n",
    "    ORDER BY cost DESC\n",
    "    LIMIT 1) a"
   ]
  },
  {
   "cell_type": "markdown",
   "metadata": {},
   "source": [
    "## 5.\n",
    "Who is the fastest at making trousers?"
   ]
  },
  {
   "cell_type": "code",
   "execution_count": 6,
   "metadata": {},
   "outputs": [
    {
     "name": "stdout",
     "output_type": "stream",
     "text": [
      " * hive://cloudera@quickstart.cloudera:10000/sqlzoo\n",
      "Done.\n"
     ]
    },
    {
     "data": {
      "text/html": [
       "<table>\n",
       "    <tr>\n",
       "        <th>d_no</th>\n",
       "        <th>d_name</th>\n",
       "        <th>days</th>\n",
       "    </tr>\n",
       "    <tr>\n",
       "        <td>3</td>\n",
       "        <td>Mr Needles</td>\n",
       "        <td>3</td>\n",
       "    </tr>\n",
       "</table>"
      ],
      "text/plain": [
       "[(3, 'Mr Needles', 3)]"
      ]
     },
     "execution_count": 6,
     "metadata": {},
     "output_type": "execute_result"
    }
   ],
   "source": [
    "%%sql\n",
    "SELECT d_no, d_name, DATEDIFF(finish_date, start_date) days\n",
    "  FROM dressmaker JOIN construction ON (\n",
    "      dressmaker.d_no=construction.maker) JOIN\n",
    "      order_line ON (order_line.order_ref=construction.order_ref AND\n",
    "                order_line.line_no=construction.line_ref) JOIN\n",
    "    garment ON (garment.style_no=order_line.ol_style)\n",
    "    WHERE LOWER(description)='trousers' AND\n",
    "        finish_date IS NOT NULL AND start_date IS NOT NULL\n",
    "    ORDER BY days\n",
    "    LIMIT 1"
   ]
  },
  {
   "cell_type": "markdown",
   "metadata": {},
   "source": [
    "## 6.\n",
    "\"Employee of the month\" is the seamstress who completes the greatest value of clothes. Show the \"employees of the month\" for months in 2002."
   ]
  },
  {
   "cell_type": "code",
   "execution_count": 7,
   "metadata": {},
   "outputs": [
    {
     "name": "stdout",
     "output_type": "stream",
     "text": [
      " * hive://cloudera@quickstart.cloudera:10000/sqlzoo\n",
      "Done.\n"
     ]
    },
    {
     "data": {
      "text/html": [
       "<table>\n",
       "    <tr>\n",
       "        <th>month</th>\n",
       "        <th>d_name</th>\n",
       "    </tr>\n",
       "    <tr>\n",
       "        <td>1</td>\n",
       "        <td>Miss Stitch</td>\n",
       "    </tr>\n",
       "    <tr>\n",
       "        <td>2</td>\n",
       "        <td>Mrs Hem</td>\n",
       "    </tr>\n",
       "    <tr>\n",
       "        <td>3</td>\n",
       "        <td>Miss Stitch</td>\n",
       "    </tr>\n",
       "</table>"
      ],
      "text/plain": [
       "[(1, 'Miss Stitch'), (2, 'Mrs Hem'), (3, 'Miss Stitch')]"
      ]
     },
     "execution_count": 7,
     "metadata": {},
     "output_type": "execute_result"
    }
   ],
   "source": [
    "%%sql\n",
    "WITH t AS (\n",
    "  SELECT d_name, MONTH(start_date) AS month, \n",
    "    ROUND(SUM(quantity*cost+labour_cost), 2) val,\n",
    "    RANK() OVER(PARTITION BY MONTH(start_date) \n",
    "                ORDER BY SUM(quantity*cost+labour_cost) DESC) AS rank\n",
    "    FROM material JOIN order_line ON (\n",
    "        order_line.ol_material=material.material_no) JOIN quantities ON (\n",
    "        quantities.size_q=order_line.ol_size AND\n",
    "            quantities.style_q=order_line.ol_style) JOIN garment ON (\n",
    "        garment.style_no=order_line.ol_style) JOIN construction ON (\n",
    "        order_line.order_ref=construction.order_ref AND\n",
    "            order_line.line_no=construction.line_ref) JOIN dressmaker ON (\n",
    "        dressmaker.d_no=construction.maker)\n",
    "        WHERE YEAR(start_date)=2002\n",
    "        GROUP BY d_name, MONTH(start_date)\n",
    ")\n",
    "SELECT month, d_name FROM t WHERE rank=1"
   ]
  },
  {
   "cell_type": "code",
   "execution_count": null,
   "metadata": {},
   "outputs": [],
   "source": []
  }
 ],
 "metadata": {
  "kernelspec": {
   "display_name": "Python 3",
   "language": "python",
   "name": "python3"
  },
  "language_info": {
   "codemirror_mode": {
    "name": "ipython",
    "version": 3
   },
   "file_extension": ".py",
   "mimetype": "text/x-python",
   "name": "python",
   "nbconvert_exporter": "python",
   "pygments_lexer": "ipython3",
   "version": "3.7.7"
  }
 },
 "nbformat": 4,
 "nbformat_minor": 4
}
