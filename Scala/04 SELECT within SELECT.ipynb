{
 "cells": [
  {
   "cell_type": "markdown",
   "metadata": {},
   "source": [
    "# SELECT within SELECT"
   ]
  },
  {
   "cell_type": "code",
   "execution_count": 1,
   "metadata": {},
   "outputs": [
    {
     "name": "stdout",
     "output_type": "stream",
     "text": [
      "Loading spark-stubs, spark-hive\n",
      "Adding Hive conf dir /opt/hive/conf to classpath\n",
      "Creating SparkSession\n"
     ]
    },
    {
     "name": "stderr",
     "output_type": "stream",
     "text": [
      "SLF4J: No SLF4J providers were found.\n",
      "SLF4J: Defaulting to no-operation (NOP) logger implementation\n",
      "SLF4J: See https://www.slf4j.org/codes.html#noProviders for further details.\n"
     ]
    },
    {
     "data": {
      "text/html": [
       "<a target=\"_blank\" href=\"http://jupyter:4041\">Spark UI</a>"
      ]
     },
     "metadata": {},
     "output_type": "display_data"
    },
    {
     "data": {
      "text/plain": [
       "\u001b[32mimport \u001b[39m\u001b[36m$ivy.$                                  \n",
       "\n",
       "\u001b[39m\n",
       "\u001b[32mimport \u001b[39m\u001b[36morg.apache.log4j.{Level, Logger}\n",
       "\u001b[39m\n",
       "\u001b[32mimport \u001b[39m\u001b[36morg.apache.spark._\n",
       "\u001b[39m\n",
       "\u001b[32mimport \u001b[39m\u001b[36morg.apache.spark.sql._\n",
       "\u001b[39m\n",
       "\u001b[32mimport \u001b[39m\u001b[36morg.apache.spark.sql.functions._\n",
       "\n",
       "\u001b[39m\n",
       "\u001b[36mspark\u001b[39m: \u001b[32mSparkSession\u001b[39m = org.apache.spark.sql.SparkSession@466d3665"
      ]
     },
     "execution_count": 1,
     "metadata": {},
     "output_type": "execute_result"
    }
   ],
   "source": [
    "import $ivy.`org.apache.spark::spark-sql:3.4.0`\n",
    "\n",
    "import org.apache.log4j.{Level, Logger}\n",
    "Logger.getLogger(\"org\").setLevel(Level.OFF)\n",
    "\n",
    "import org.apache.spark._\n",
    "import org.apache.spark.sql._\n",
    "import org.apache.spark.sql.functions._\n",
    "\n",
    "val spark = {\n",
    "    NotebookSparkSession.builder()\n",
    "    .progress(false)\n",
    "    .appName(\"app04\")\n",
    "    // .master(\"spark://192.168.31.31:7077\")\n",
    "    .master(\"local[*]\")\n",
    "    .config(\"spark.sql.warehouse.dir\", \n",
    "            \"hdfs://192.168.31.31:9000/user/hive/warehouse\") \n",
    "    .config(\"spark.cores.max\", \"4\") \n",
    "    .config(\"spark.executor.instances\", \"1\") \n",
    "    .config(\"spark.executor.cores\", \"2\") \n",
    "    .config(\"spark.executor.memory\", \"10g\") \n",
    "    .config(\"spark.shuffle.service.enabled\", \"false\") \n",
    "    .config(\"spark.dynamicAllocation.enabled\", \"false\") \n",
    "    .config(\"spark.sql.catalogImplementation\", \"hive\")\n",
    "    .config(\"spark.sql.repl.eagerEval.enabled\", \"true\")\n",
    "    .config(\"spark.driver.allowMultipleContexts\", \"true\")\n",
    "    .getOrCreate()\n",
    "}"
   ]
  },
  {
   "cell_type": "code",
   "execution_count": 2,
   "metadata": {},
   "outputs": [
    {
     "data": {
      "text/plain": [
       "\u001b[32mimport \u001b[39m\u001b[36mspark.implicits._\n",
       "\u001b[39m\n",
       "defined \u001b[32mfunction\u001b[39m \u001b[36msc\u001b[39m\n",
       "\u001b[36mhiveCxt\u001b[39m: \u001b[32msql\u001b[39m.\u001b[32mhive\u001b[39m.\u001b[32mHiveContext\u001b[39m = org.apache.spark.sql.hive.HiveContext@6856ae5e"
      ]
     },
     "execution_count": 2,
     "metadata": {},
     "output_type": "execute_result"
    }
   ],
   "source": [
    "import spark.implicits._\n",
    "def sc = spark.sparkContext\n",
    "val hiveCxt = new org.apache.spark.sql.hive.HiveContext(sc)"
   ]
  },
  {
   "cell_type": "code",
   "execution_count": 3,
   "metadata": {},
   "outputs": [
    {
     "data": {
      "text/plain": [
       "defined \u001b[32mclass\u001b[39m \u001b[36mRichDF\u001b[39m"
      ]
     },
     "execution_count": 3,
     "metadata": {},
     "output_type": "execute_result"
    }
   ],
   "source": [
    "// Credit to Aivean\n",
    "implicit class RichDF(val ds:DataFrame) {\n",
    "    def showHTML(limit: Int = 50, truncate: Int = 100) = {\n",
    "        import xml.Utility.escape\n",
    "        val data = ds.take(limit)\n",
    "        val header = ds.schema.fieldNames.toSeq        \n",
    "        val rows: Seq[Seq[String]] = data.map { row =>\n",
    "          row.toSeq.map {cell =>\n",
    "            val str = cell match {\n",
    "              case null => \"null\"\n",
    "              case binary: Array[Byte] => binary.map(\"%02X\".format(_)).mkString(\"[\", \" \", \"]\")\n",
    "              case array: Array[_] => array.mkString(\"[\", \", \", \"]\")\n",
    "              case seq: Seq[_] => seq.mkString(\"[\", \", \", \"]\")\n",
    "              case _ => cell.toString\n",
    "            }\n",
    "            if (truncate > 0 && str.length > truncate) {\n",
    "              // do not show ellipses for strings shorter than 4 characters.\n",
    "              if (truncate < 4) str.substring(0, truncate)\n",
    "              else str.substring(0, truncate - 3) + \"...\"\n",
    "            } else {\n",
    "              str\n",
    "            }\n",
    "          }: Seq[String]\n",
    "        }\n",
    "    publish.html(s\"\"\" <table>\n",
    "                <tr>\n",
    "                 ${header.map(h => s\"<th>${escape(h)}</th>\").mkString}\n",
    "                </tr>\n",
    "                ${rows.map {row =>\n",
    "                  s\"<tr>${row.map{c => s\"<td>${escape(c)}</td>\" }.mkString}</tr>\"\n",
    "                }.mkString}\n",
    "            </table>\n",
    "        \"\"\")\n",
    "    }\n",
    "}"
   ]
  },
  {
   "cell_type": "code",
   "execution_count": 4,
   "metadata": {},
   "outputs": [
    {
     "data": {
      "text/plain": [
       "\u001b[36mworld\u001b[39m: \u001b[32mDataFrame\u001b[39m = [name: string, continent: string ... 6 more fields]"
      ]
     },
     "execution_count": 4,
     "metadata": {},
     "output_type": "execute_result"
    }
   ],
   "source": [
    "val world = hiveCxt.table(\"sqlzoo.world\")"
   ]
  },
  {
   "cell_type": "markdown",
   "metadata": {},
   "source": [
    "## 1. Bigger than Russia\n",
    "\n",
    "**List each country name where the population is larger than that of 'Russia'.**\n",
    "\n",
    "```\n",
    "world(name, continent, area, population, gdp)\n",
    "```"
   ]
  },
  {
   "cell_type": "code",
   "execution_count": 5,
   "metadata": {},
   "outputs": [
    {
     "data": {
      "text/html": [
       " <table>\n",
       "                <tr>\n",
       "                 <th>name</th>\n",
       "                </tr>\n",
       "                <tr><td>Bangladesh</td></tr><tr><td>Brazil</td></tr><tr><td>China</td></tr><tr><td>India</td></tr><tr><td>Indonesia</td></tr><tr><td>Nigeria</td></tr><tr><td>Pakistan</td></tr><tr><td>United States</td></tr>\n",
       "            </table>\n",
       "        "
      ]
     },
     "metadata": {},
     "output_type": "display_data"
    }
   ],
   "source": [
    "(world.filter($\"population\" > world.filter($\"name\"===\"Russia\")\n",
    "              .select(\"population\")\n",
    "              .collect()(0)(0))\n",
    " .select($\"name\").showHTML())"
   ]
  },
  {
   "cell_type": "markdown",
   "metadata": {},
   "source": [
    "## 2. Richer than UK\n",
    "\n",
    "**Show the countries in Europe with a per capita GDP greater than 'United Kingdom'.**\n",
    "\n",
    "> _Per Capita GDP_   \n",
    "> The per capita GDP is the gdp/population"
   ]
  },
  {
   "cell_type": "code",
   "execution_count": 6,
   "metadata": {},
   "outputs": [
    {
     "data": {
      "text/html": [
       " <table>\n",
       "                <tr>\n",
       "                 <th>name</th>\n",
       "                </tr>\n",
       "                <tr><td>Andorra</td></tr><tr><td>Austria</td></tr><tr><td>Belgium</td></tr><tr><td>Denmark</td></tr><tr><td>Finland</td></tr><tr><td>Germany</td></tr><tr><td>Iceland</td></tr><tr><td>Ireland</td></tr><tr><td>Liechtenstein</td></tr><tr><td>Luxembourg</td></tr><tr><td>Monaco</td></tr><tr><td>Netherlands</td></tr><tr><td>Norway</td></tr><tr><td>San Marino</td></tr><tr><td>Sweden</td></tr><tr><td>Switzerland</td></tr>\n",
       "            </table>\n",
       "        "
      ]
     },
     "metadata": {},
     "output_type": "display_data"
    },
    {
     "data": {
      "text/plain": [
       "\u001b[36ma\u001b[39m: \u001b[32mDataFrame\u001b[39m = [name: string, continent: string ... 7 more fields]"
      ]
     },
     "execution_count": 6,
     "metadata": {},
     "output_type": "execute_result"
    }
   ],
   "source": [
    "val a = world.withColumn(\"pcgdp\", $\"gdp\"/$\"population\")\n",
    "(a.filter(($\"pcgdp\" > a.filter($\"name\"===\"United Kingdom\")\n",
    "          .select(\"pcgdp\").head()(0)) && \n",
    "         ($\"continent\"===\"Europe\"))\n",
    " .select($\"name\").showHTML())"
   ]
  },
  {
   "cell_type": "markdown",
   "metadata": {},
   "source": [
    "## 3. Neighbours of Argentina and Australia\n",
    "\n",
    "\n",
    "List the name and continent of countries in the continents containing either Argentina or Australia. Order by name of the country."
   ]
  },
  {
   "cell_type": "code",
   "execution_count": 7,
   "metadata": {},
   "outputs": [
    {
     "data": {
      "text/html": [
       " <table>\n",
       "                <tr>\n",
       "                 <th>name</th><th>continent</th>\n",
       "                </tr>\n",
       "                <tr><td>Argentina</td><td>South America</td></tr><tr><td>Australia</td><td>Oceania</td></tr><tr><td>Bolivia</td><td>South America</td></tr><tr><td>Brazil</td><td>South America</td></tr><tr><td>Chile</td><td>South America</td></tr><tr><td>Colombia</td><td>South America</td></tr><tr><td>Ecuador</td><td>South America</td></tr><tr><td>Fiji</td><td>Oceania</td></tr><tr><td>Guyana</td><td>South America</td></tr><tr><td>Kiribati</td><td>Oceania</td></tr><tr><td>Marshall Islands</td><td>Oceania</td></tr><tr><td>Nauru</td><td>Oceania</td></tr><tr><td>New Zealand</td><td>Oceania</td></tr><tr><td>Palau</td><td>Oceania</td></tr><tr><td>Papua New Guinea</td><td>Oceania</td></tr><tr><td>Paraguay</td><td>South America</td></tr><tr><td>Peru</td><td>South America</td></tr><tr><td>Saint Vincent and the Grenadines</td><td>South America</td></tr><tr><td>Samoa</td><td>Oceania</td></tr><tr><td>Solomon Islands</td><td>Oceania</td></tr><tr><td>Suriname</td><td>South America</td></tr><tr><td>Tonga</td><td>Oceania</td></tr><tr><td>Tuvalu</td><td>Oceania</td></tr><tr><td>Uruguay</td><td>South America</td></tr><tr><td>Vanuatu</td><td>Oceania</td></tr><tr><td>Venezuela</td><td>South America</td></tr>\n",
       "            </table>\n",
       "        "
      ]
     },
     "metadata": {},
     "output_type": "display_data"
    },
    {
     "data": {
      "text/plain": [
       "\u001b[36mbm\u001b[39m: \u001b[32mList\u001b[39m[\u001b[32mAny\u001b[39m] = \u001b[33mList\u001b[39m(\u001b[32m\"South America\"\u001b[39m, \u001b[32m\"Oceania\"\u001b[39m)"
      ]
     },
     "execution_count": 7,
     "metadata": {},
     "output_type": "execute_result"
    }
   ],
   "source": [
    "val bm = (world.filter($\"name\".isin(List(\"Argentina\", \"Australia\"): _*))\n",
    "          .select($\"continent\").collect()\n",
    "          .map(_(0)).toList)\n",
    "\n",
    "world.filter($\"continent\".isin(bm:_*)).select($\"name\", $\"continent\").showHTML()"
   ]
  },
  {
   "cell_type": "markdown",
   "metadata": {},
   "source": [
    "## 4. Between Canada and Poland\n",
    "\n",
    "Which country has a population that is more than Canada but less than Poland? Show the name and the population."
   ]
  },
  {
   "cell_type": "code",
   "execution_count": 8,
   "metadata": {},
   "outputs": [
    {
     "data": {
      "text/html": [
       " <table>\n",
       "                <tr>\n",
       "                 <th>name</th><th>population</th>\n",
       "                </tr>\n",
       "                \n",
       "            </table>\n",
       "        "
      ]
     },
     "metadata": {},
     "output_type": "display_data"
    },
    {
     "data": {
      "text/plain": [
       "\u001b[36mpopl_can\u001b[39m: \u001b[32mAny\u001b[39m = \u001b[32m3.8007166E7\u001b[39m\n",
       "\u001b[36mpopl_pol\u001b[39m: \u001b[32mAny\u001b[39m = \u001b[32m3.8379E7\u001b[39m"
      ]
     },
     "execution_count": 8,
     "metadata": {},
     "output_type": "execute_result"
    }
   ],
   "source": [
    "val popl_can = world.filter($\"name\"===\"Canada\").select($\"population\").head()(0)\n",
    "val popl_pol = world.filter($\"name\"===\"Poland\").select($\"population\").head()(0)\n",
    "(world.filter(($\"population\" > popl_can) &&\n",
    "              ($\"population\" < popl_pol))\n",
    " .select($\"name\", $\"population\").showHTML())"
   ]
  },
  {
   "cell_type": "markdown",
   "metadata": {},
   "source": [
    "## 5. Percentages of Germany\n",
    "\n",
    "Germany (population 80 million) has the largest population of the countries in Europe. Austria (population 8.5 million) has 11% of the population of Germany.\n",
    "\n",
    "**Show the name and the population of each country in Europe. Show the population as a percentage of the population of Germany.**\n",
    "\n",
    "The format should be Name, Percentage for example:\n",
    "\n",
    "name\t| percentage\n",
    "--------|-----------\n",
    "Albania\t| 3%\n",
    "Andorra\t| 0%\n",
    "Austria\t| 11%\n",
    "...\t| ...\n",
    "\n",
    "> _Decimal places_   \n",
    "> You can use the function ROUND to remove the decimal places.\n",
    "\n",
    "> _Percent symbol %_\n",
    "> You can use the function CONCAT to add the percentage symbol.\n",
    "\n",
    "[To get a well rounded view of the important features of SQL you should move on to the next tutorial concerning aggregates.](https://sqlzoo.net/wiki/SUM_and_COUNT)\n",
    "\n",
    "To gain an absurdly detailed view of one insignificant feature of the language, read on.\n",
    "\n",
    "We can use the word `ALL` to allow >= or > or < or <=to act over a list. For example, you can find the largest country in the world, by population with this query:\n",
    "\n",
    "```sql\n",
    "SELECT name\n",
    "  FROM world\n",
    " WHERE population >= ALL(SELECT population\n",
    "                           FROM world\n",
    "                          WHERE population>0)\n",
    "```\n",
    "\n",
    "You need the condition **population>0** in the sub-query as some countries have **null** for population."
   ]
  },
  {
   "cell_type": "code",
   "execution_count": 9,
   "metadata": {},
   "outputs": [
    {
     "data": {
      "text/html": [
       " <table>\n",
       "                <tr>\n",
       "                 <th>name</th><th>pct</th>\n",
       "                </tr>\n",
       "                <tr><td>Albania</td><td>3%</td></tr><tr><td>Andorra</td><td>0%</td></tr><tr><td>Austria</td><td>11%</td></tr><tr><td>Belarus</td><td>11%</td></tr><tr><td>Belgium</td><td>14%</td></tr><tr><td>Bosnia and Herzegovina</td><td>4%</td></tr><tr><td>Bulgaria</td><td>8%</td></tr><tr><td>Croatia</td><td>5%</td></tr><tr><td>Czech Republic</td><td>13%</td></tr><tr><td>Denmark</td><td>7%</td></tr><tr><td>Estonia</td><td>2%</td></tr><tr><td>Finland</td><td>7%</td></tr><tr><td>France</td><td>81%</td></tr><tr><td>Germany</td><td>100%</td></tr><tr><td>Greece</td><td>13%</td></tr><tr><td>Hungary</td><td>12%</td></tr><tr><td>Iceland</td><td>0%</td></tr><tr><td>Ireland</td><td>6%</td></tr><tr><td>Italy</td><td>72%</td></tr><tr><td>Kazakhstan</td><td>22%</td></tr><tr><td>Latvia</td><td>2%</td></tr><tr><td>Liechtenstein</td><td>0%</td></tr><tr><td>Lithuania</td><td>3%</td></tr><tr><td>Luxembourg</td><td>1%</td></tr><tr><td>Malta</td><td>1%</td></tr><tr><td>Moldova</td><td>3%</td></tr><tr><td>Monaco</td><td>0%</td></tr><tr><td>Montenegro</td><td>1%</td></tr><tr><td>Netherlands</td><td>21%</td></tr><tr><td>North Macedonia</td><td>2%</td></tr><tr><td>Norway</td><td>6%</td></tr><tr><td>Poland</td><td>46%</td></tr><tr><td>Portugal</td><td>12%</td></tr><tr><td>Romania</td><td>23%</td></tr><tr><td>San Marino</td><td>0%</td></tr><tr><td>Serbia</td><td>8%</td></tr><tr><td>Slovakia</td><td>7%</td></tr><tr><td>Slovenia</td><td>3%</td></tr><tr><td>Spain</td><td>57%</td></tr><tr><td>Sweden</td><td>12%</td></tr><tr><td>Switzerland</td><td>10%</td></tr><tr><td>Ukraine</td><td>50%</td></tr><tr><td>United Kingdom</td><td>80%</td></tr><tr><td>Vatican City</td><td>0%</td></tr>\n",
       "            </table>\n",
       "        "
      ]
     },
     "metadata": {},
     "output_type": "display_data"
    },
    {
     "data": {
      "text/plain": [
       "\u001b[36mbm\u001b[39m: \u001b[32mAny\u001b[39m = \u001b[32m8.31493E7\u001b[39m"
      ]
     },
     "execution_count": 9,
     "metadata": {},
     "output_type": "execute_result"
    }
   ],
   "source": [
    "val bm = world.filter($\"name\"===\"Germany\").select(\"population\").head()(0)\n",
    "(world.filter($\"continent\"===\"Europe\")\n",
    "    .withColumn(\"pct\", format_string(\"%d%%\", floor(round(lit(100) * $\"population\"/bm, 0))))\n",
    "    .select($\"name\", $\"pct\").showHTML())"
   ]
  },
  {
   "cell_type": "markdown",
   "metadata": {},
   "source": [
    "## 6. Bigger than every country in Europe\n",
    "\n",
    "Which countries have a GDP greater than every country in Europe? [Give the name only.] (Some countries may have NULL gdp values)\n",
    "\n",
    "We can refer to values in the outer SELECT within the inner SELECT. We can name the tables so that we can tell the difference between the inner and outer versions."
   ]
  },
  {
   "cell_type": "code",
   "execution_count": 10,
   "metadata": {},
   "outputs": [
    {
     "data": {
      "text/html": [
       " <table>\n",
       "                <tr>\n",
       "                 <th>name</th>\n",
       "                </tr>\n",
       "                <tr><td>China</td></tr><tr><td>Japan</td></tr><tr><td>United States</td></tr>\n",
       "            </table>\n",
       "        "
      ]
     },
     "metadata": {},
     "output_type": "display_data"
    }
   ],
   "source": [
    "(world.filter($\"gdp\" > world.filter(\n",
    "    $\"continent\"===\"Europe\").agg(max($\"gdp\")).head()(0))\n",
    " .select($\"name\").showHTML())"
   ]
  },
  {
   "cell_type": "markdown",
   "metadata": {},
   "source": [
    "## 7. Largest in each continent\n",
    "\n",
    "**Find the largest country (by area) in each continent, show the continent, the name and the area:**\n",
    "\n",
    "```sql\n",
    "SELECT continent, name, population FROM world x\n",
    "  WHERE population >= ALL\n",
    "    (SELECT population FROM world y\n",
    "        WHERE y.continent=x.continent\n",
    "          AND population>0)\n",
    "```\n",
    "\n",
    "> __The above example is known as a correlated or synchronized sub-query.__   \n",
    "> \n",
    "> Using correlated subqueries\n",
    "> A correlated subquery works like a nested loop: the subquery only has access to rows related to a single > record at a time in the outer query. The technique relies on table aliases to identify two different uses of the same table, one in the outer query and the other in the subquery.\n",
    "> \n",
    "> One way to interpret the line in the **WHERE** clause that references the two table is _“… where the correlated values are the same”._\n",
    "> \n",
    "> In the example provided, you would say _“select the country details from world where the population is greater than or equal to the population of all countries where the continent is the same”._"
   ]
  },
  {
   "cell_type": "code",
   "execution_count": 11,
   "metadata": {},
   "outputs": [
    {
     "data": {
      "text/html": [
       " <table>\n",
       "                <tr>\n",
       "                 <th>continent</th><th>name</th><th>area</th>\n",
       "                </tr>\n",
       "                <tr><td>Africa</td><td>Algeria</td><td>2381741.0</td></tr><tr><td>Oceania</td><td>Australia</td><td>7692024.0</td></tr><tr><td>South America</td><td>Brazil</td><td>8515767.0</td></tr><tr><td>North America</td><td>Canada</td><td>9984670.0</td></tr><tr><td>Asia</td><td>China</td><td>9596961.0</td></tr><tr><td>Caribbean</td><td>Cuba</td><td>109884.0</td></tr><tr><td>Europe</td><td>Kazakhstan</td><td>2724900.0</td></tr><tr><td> Federated States of,Oceania</td><td>Micronesia</td><td>702.0</td></tr><tr><td>Eurasia</td><td>Russia</td><td>1.7125242E7</td></tr>\n",
       "            </table>\n",
       "        "
      ]
     },
     "metadata": {},
     "output_type": "display_data"
    },
    {
     "data": {
      "text/plain": [
       "\u001b[36mmax_area\u001b[39m: \u001b[32mDataFrame\u001b[39m = [continent: string, area: double]"
      ]
     },
     "execution_count": 11,
     "metadata": {},
     "output_type": "execute_result"
    }
   ],
   "source": [
    "val max_area = (world.groupBy($\"continent\")\n",
    "            .agg(max($\"area\").as(\"area\")))\n",
    "(world.join(max_area, Seq(\"continent\", \"area\"), joinType=\"inner\")\n",
    "     .select(\"continent\", \"name\", \"area\")\n",
    "     .showHTML())"
   ]
  },
  {
   "cell_type": "markdown",
   "metadata": {},
   "source": [
    "## 8. First country of each continent (alphabetically)\n",
    "\n",
    "**List each continent and the name of the country that comes first alphabetically.**"
   ]
  },
  {
   "cell_type": "code",
   "execution_count": 12,
   "metadata": {},
   "outputs": [
    {
     "data": {
      "text/html": [
       " <table>\n",
       "                <tr>\n",
       "                 <th>continent</th><th>name</th>\n",
       "                </tr>\n",
       "                <tr><td> Federated States of,Oceania</td><td>Micronesia</td></tr><tr><td>Africa</td><td>Algeria</td></tr><tr><td>Asia</td><td>Afghanistan</td></tr><tr><td>Caribbean</td><td>Antigua and Barbuda</td></tr><tr><td>Eurasia</td><td>Armenia</td></tr><tr><td>Europe</td><td>Albania</td></tr><tr><td>North America</td><td>Belize</td></tr><tr><td>Oceania</td><td>Australia</td></tr><tr><td>South America</td><td>Argentina</td></tr>\n",
       "            </table>\n",
       "        "
      ]
     },
     "metadata": {},
     "output_type": "display_data"
    }
   ],
   "source": [
    "(world.groupBy(\"continent\")\n",
    "     .agg(min(\"name\").as(\"name\"))\n",
    "     .showHTML())"
   ]
  },
  {
   "cell_type": "markdown",
   "metadata": {},
   "source": [
    "## 9. Difficult Questions That Utilize Techniques Not Covered In Prior Sections\n",
    "\n",
    "**Find the continents where all countries have a population <= 25000000. Then find the names of the countries associated with these continents. Show name, continent and population.**"
   ]
  },
  {
   "cell_type": "code",
   "execution_count": 13,
   "metadata": {},
   "outputs": [
    {
     "data": {
      "text/html": [
       " <table>\n",
       "                <tr>\n",
       "                 <th>name</th><th>continent</th><th>population</th>\n",
       "                </tr>\n",
       "                <tr><td>Antigua and Barbuda</td><td>Caribbean</td><td>96453.0</td></tr><tr><td>Bahamas</td><td>Caribbean</td><td>385340.0</td></tr><tr><td>Barbados</td><td>Caribbean</td><td>287025.0</td></tr><tr><td>Cuba</td><td>Caribbean</td><td>1.1209628E7</td></tr><tr><td>Dominica</td><td>Caribbean</td><td>71808.0</td></tr><tr><td>Dominican Republic</td><td>Caribbean</td><td>1.035832E7</td></tr><tr><td>Grenada</td><td>Caribbean</td><td>112003.0</td></tr><tr><td>Haiti</td><td>Caribbean</td><td>1.1577779E7</td></tr><tr><td>Jamaica</td><td>Caribbean</td><td>2726667.0</td></tr><tr><td>Micronesia</td><td> Federated States of,Oceania</td><td>101351.0</td></tr><tr><td>Saint Lucia</td><td>Caribbean</td><td>178696.0</td></tr><tr><td>Trinidad and Tobago</td><td>Caribbean</td><td>1363985.0</td></tr>\n",
       "            </table>\n",
       "        "
      ]
     },
     "metadata": {},
     "output_type": "display_data"
    },
    {
     "data": {
      "text/plain": [
       "\u001b[36mbm\u001b[39m: \u001b[32mList\u001b[39m[\u001b[32mAny\u001b[39m] = \u001b[33mList\u001b[39m(\n",
       "  \u001b[32m\"Europe\"\u001b[39m,\n",
       "  \u001b[32m\"Eurasia\"\u001b[39m,\n",
       "  \u001b[32m\"Africa\"\u001b[39m,\n",
       "  \u001b[32m\"North America\"\u001b[39m,\n",
       "  \u001b[32m\"South America\"\u001b[39m,\n",
       "  \u001b[32m\"Oceania\"\u001b[39m,\n",
       "  \u001b[32m\"Asia\"\u001b[39m\n",
       ")"
      ]
     },
     "execution_count": 13,
     "metadata": {},
     "output_type": "execute_result"
    }
   ],
   "source": [
    "val bm = (world.filter($\"population\" > 2.5e7)\n",
    "          .select(\"continent\").distinct()\n",
    "          .collect().map(_(0)).toList)\n",
    "(world.filter(! $\"continent\".isin(bm: _*))\n",
    " .select(\"name\", \"continent\", \"population\")\n",
    " .showHTML())"
   ]
  },
  {
   "cell_type": "markdown",
   "metadata": {},
   "source": [
    "## 10.\n",
    "\n",
    "**Some countries have populations more than three times that of any of their neighbours (in the same continent). Give the countries and continents.**"
   ]
  },
  {
   "cell_type": "code",
   "execution_count": 14,
   "metadata": {},
   "outputs": [
    {
     "data": {
      "text/html": [
       " <table>\n",
       "                <tr>\n",
       "                 <th>name</th><th>continent</th>\n",
       "                </tr>\n",
       "                <tr><td>Russia</td><td>Eurasia</td></tr><tr><td>Brazil</td><td>South America</td></tr>\n",
       "            </table>\n",
       "        "
      ]
     },
     "metadata": {},
     "output_type": "display_data"
    },
    {
     "data": {
      "text/plain": [
       "\u001b[36mbm\u001b[39m: \u001b[32mDataFrame\u001b[39m = [continent: string, nbhrs: bigint]\n",
       "\u001b[36ma\u001b[39m: \u001b[32mDataFrame\u001b[39m = [continent: string, name: string ... 8 more fields]\n",
       "\u001b[36mb\u001b[39m: \u001b[32mDataFrame\u001b[39m = [continent: string, name: string ... 2 more fields]"
      ]
     },
     "execution_count": 14,
     "metadata": {},
     "output_type": "execute_result"
    }
   ],
   "source": [
    "// how many neighbors are there for each continent\n",
    "val bm = (world.groupBy(\"continent\")\n",
    "          .agg(count($\"name\").as(\"nbhrs\"))\n",
    "          .withColumn(\"nbhrs\", $\"nbhrs\"-lit(1)))\n",
    "// compare with tripple population\n",
    "val a = world.join(world\n",
    "        .withColumn(\"popl3\", lit(3) * $\"population\")\n",
    "        .select(\"continent\", \"name\", \"popl3\")\n",
    "        .withColumnRenamed(\"name\", \"name_y\"),\n",
    "    \"continent\", joinType=\"outer\")\n",
    "val b = (a.filter($\"population\" > $\"popl3\")\n",
    "         .select(\"continent\", \"name_y\", \"name\")\n",
    "         .groupBy($\"continent\", $\"name\")\n",
    "         .agg(count(\"name\").as(\"cnt\"))\n",
    "         .join(bm, \"continent\", joinType=\"left\"))\n",
    "b.filter($\"cnt\"===$\"nbhrs\").select(\"name\", \"continent\").showHTML()"
   ]
  },
  {
   "cell_type": "code",
   "execution_count": 15,
   "metadata": {},
   "outputs": [],
   "source": [
    "spark.stop()"
   ]
  },
  {
   "cell_type": "code",
   "execution_count": null,
   "metadata": {},
   "outputs": [],
   "source": []
  }
 ],
 "metadata": {
  "kernelspec": {
   "display_name": "Scala",
   "language": "scala",
   "name": "scala"
  },
  "language_info": {
   "codemirror_mode": "text/x-scala",
   "file_extension": ".sc",
   "mimetype": "text/x-scala",
   "name": "scala",
   "nbconvert_exporter": "script",
   "version": "2.12.15"
  }
 },
 "nbformat": 4,
 "nbformat_minor": 4
}
