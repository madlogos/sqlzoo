{
 "cells": [
  {
   "cell_type": "markdown",
   "metadata": {},
   "source": [
    "# Dressmaker - Samples"
   ]
  },
  {
   "cell_type": "markdown",
   "metadata": {},
   "source": [
    "The data model of the tables.\n",
    "\n",
    "![](../src/img/dressmaker_str.svg)"
   ]
  },
  {
   "cell_type": "code",
   "execution_count": 1,
   "metadata": {},
   "outputs": [
    {
     "name": "stdout",
     "output_type": "stream",
     "text": [
      "Loading spark-stubs, spark-hive\n",
      "Adding Hive conf dir /opt/hive/conf to classpath\n",
      "Creating SparkSession\n"
     ]
    },
    {
     "name": "stderr",
     "output_type": "stream",
     "text": [
      "SLF4J: No SLF4J providers were found.\n",
      "SLF4J: Defaulting to no-operation (NOP) logger implementation\n",
      "SLF4J: See https://www.slf4j.org/codes.html#noProviders for further details.\n"
     ]
    },
    {
     "data": {
      "text/html": [
       "<a target=\"_blank\" href=\"http://jupyter:4040\">Spark UI</a>"
      ]
     },
     "metadata": {},
     "output_type": "display_data"
    },
    {
     "data": {
      "text/plain": [
       "\u001b[32mimport \u001b[39m\u001b[36m$ivy.$                                  \n",
       "\n",
       "\u001b[39m\n",
       "\u001b[32mimport \u001b[39m\u001b[36morg.apache.log4j.{Level, Logger}\n",
       "\u001b[39m\n",
       "\u001b[32mimport \u001b[39m\u001b[36morg.apache.spark._\n",
       "\u001b[39m\n",
       "\u001b[32mimport \u001b[39m\u001b[36morg.apache.spark.sql._\n",
       "\u001b[39m\n",
       "\u001b[32mimport \u001b[39m\u001b[36morg.apache.spark.sql.types._\n",
       "\u001b[39m\n",
       "\u001b[32mimport \u001b[39m\u001b[36morg.apache.spark.sql.functions._\n",
       "\u001b[39m\n",
       "\u001b[32mimport \u001b[39m\u001b[36morg.apache.spark.sql.expressions.Window\n",
       "\n",
       "\u001b[39m\n",
       "\u001b[36mspark\u001b[39m: \u001b[32mSparkSession\u001b[39m = org.apache.spark.sql.SparkSession@1a5364d1"
      ]
     },
     "execution_count": 1,
     "metadata": {},
     "output_type": "execute_result"
    }
   ],
   "source": [
    "import $ivy.`org.apache.spark::spark-sql:3.4.0`\n",
    "\n",
    "import org.apache.log4j.{Level, Logger}\n",
    "Logger.getLogger(\"org\").setLevel(Level.OFF)\n",
    "\n",
    "import org.apache.spark._\n",
    "import org.apache.spark.sql._\n",
    "import org.apache.spark.sql.types._\n",
    "import org.apache.spark.sql.functions._\n",
    "import org.apache.spark.sql.expressions.Window\n",
    "\n",
    "val spark = {\n",
    "    NotebookSparkSession.builder()\n",
    "    .progress(false)\n",
    "    .appName(\"app17-0\")\n",
    "    // .master(\"spark://192.168.31.31:7077\")\n",
    "    .master(\"local[*]\")\n",
    "    .config(\"spark.sql.warehouse.dir\", \n",
    "            \"hdfs://192.168.31.31:9000/user/hive/warehouse\") \n",
    "    .config(\"spark.cores.max\", \"4\") \n",
    "    .config(\"spark.executor.instances\", \"1\") \n",
    "    .config(\"spark.executor.cores\", \"2\") \n",
    "    .config(\"spark.executor.memory\", \"10g\") \n",
    "    .config(\"spark.shuffle.service.enabled\", \"false\") \n",
    "    .config(\"spark.dynamicAllocation.enabled\", \"false\") \n",
    "    .config(\"spark.sql.catalogImplementation\", \"hive\")\n",
    "    .config(\"spark.sql.repl.eagerEval.enabled\", \"true\")\n",
    "    .config(\"spark.driver.allowMultipleContexts\", \"true\")\n",
    "    .getOrCreate()\n",
    "}"
   ]
  },
  {
   "cell_type": "code",
   "execution_count": 2,
   "metadata": {},
   "outputs": [
    {
     "data": {
      "text/plain": [
       "\u001b[32mimport \u001b[39m\u001b[36mspark.implicits._\n",
       "\u001b[39m\n",
       "\u001b[32mimport \u001b[39m\u001b[36mspark.sqlContext.implicits._\n",
       "\u001b[39m\n",
       "defined \u001b[32mfunction\u001b[39m \u001b[36msc\u001b[39m\n",
       "\u001b[36mhiveCxt\u001b[39m: \u001b[32msql\u001b[39m.\u001b[32mhive\u001b[39m.\u001b[32mHiveContext\u001b[39m = org.apache.spark.sql.hive.HiveContext@1b8cd7e1"
      ]
     },
     "execution_count": 2,
     "metadata": {},
     "output_type": "execute_result"
    }
   ],
   "source": [
    "import spark.implicits._\n",
    "import spark.sqlContext.implicits._\n",
    "def sc = spark.sparkContext\n",
    "val hiveCxt = new org.apache.spark.sql.hive.HiveContext(sc)"
   ]
  },
  {
   "cell_type": "code",
   "execution_count": 3,
   "metadata": {},
   "outputs": [
    {
     "data": {
      "text/plain": [
       "defined \u001b[32mclass\u001b[39m \u001b[36mRichDF\u001b[39m"
      ]
     },
     "execution_count": 3,
     "metadata": {},
     "output_type": "execute_result"
    }
   ],
   "source": [
    "// Credit to Aivean\n",
    "implicit class RichDF(val ds:DataFrame) {\n",
    "    def showHTML(limit: Int = 50, truncate: Int = 100) = {\n",
    "        import xml.Utility.escape\n",
    "        val data = ds.take(limit)\n",
    "        val header = ds.schema.fieldNames.toSeq        \n",
    "        val rows: Seq[Seq[String]] = data.map { row =>\n",
    "          row.toSeq.map {cell =>\n",
    "            val str = cell match {\n",
    "              case null => \"null\"\n",
    "              case binary: Array[Byte] => binary.map(\"%02X\".format(_)).mkString(\"[\", \" \", \"]\")\n",
    "              case array: Array[_] => array.mkString(\"[\", \", \", \"]\")\n",
    "              case seq: Seq[_] => seq.mkString(\"[\", \", \", \"]\")\n",
    "              case _ => cell.toString\n",
    "            }\n",
    "            if (truncate > 0 && str.length > truncate) {\n",
    "              // do not show ellipses for strings shorter than 4 characters.\n",
    "              if (truncate < 4) str.substring(0, truncate)\n",
    "              else str.substring(0, truncate - 3) + \"...\"\n",
    "            } else {\n",
    "              str\n",
    "            }\n",
    "          }: Seq[String]\n",
    "        }\n",
    "    publish.html(s\"\"\" <table>\n",
    "                <tr>\n",
    "                 ${header.map(h => s\"<th>${escape(h)}</th>\").mkString}\n",
    "                </tr>\n",
    "                ${rows.map {row =>\n",
    "                  s\"<tr>${row.map{c => s\"<td>${escape(c)}</td>\" }.mkString}</tr>\"\n",
    "                }.mkString}\n",
    "            </table>\n",
    "        \"\"\")\n",
    "    }\n",
    "}"
   ]
  },
  {
   "cell_type": "code",
   "execution_count": 4,
   "metadata": {},
   "outputs": [
    {
     "data": {
      "text/plain": [
       "\u001b[36mjmcust\u001b[39m: \u001b[32mDataFrame\u001b[39m = [c_no: int, c_name: string ... 2 more fields]\n",
       "\u001b[36mdressmaker\u001b[39m: \u001b[32mDataFrame\u001b[39m = [d_no: int, d_name: string ... 2 more fields]\n",
       "\u001b[36mdress_order\u001b[39m: \u001b[32mDataFrame\u001b[39m = [order_no: int, cust_no: int ... 2 more fields]\n",
       "\u001b[36mconstruction\u001b[39m: \u001b[32mDataFrame\u001b[39m = [maker: int, order_ref: int ... 3 more fields]\n",
       "\u001b[36mquantities\u001b[39m: \u001b[32mDataFrame\u001b[39m = [style_q: int, size_q: int ... 1 more field]\n",
       "\u001b[36morder_line\u001b[39m: \u001b[32mDataFrame\u001b[39m = [order_ref: int, line_no: int ... 3 more fields]\n",
       "\u001b[36mgarment\u001b[39m: \u001b[32mDataFrame\u001b[39m = [style_no: int, description: string ... 2 more fields]\n",
       "\u001b[36mmaterial\u001b[39m: \u001b[32mDataFrame\u001b[39m = [material_no: int, fabric: string ... 3 more fields]"
      ]
     },
     "execution_count": 4,
     "metadata": {},
     "output_type": "execute_result"
    }
   ],
   "source": [
    "val jmcust = hiveCxt.table(\"sqlzoo.jmcust\")\n",
    "val dressmaker = hiveCxt.table(\"sqlzoo.dressmaker\")\n",
    "val dress_order = hiveCxt.table(\"sqlzoo.dress_order\")\n",
    "val construction = hiveCxt.table(\"sqlzoo.construction\")\n",
    "val quantities = hiveCxt.table(\"sqlzoo.quantities\")\n",
    "val order_line = hiveCxt.table(\"sqlzoo.order_line\")\n",
    "val garment = hiveCxt.table(\"sqlzoo.garment\")\n",
    "val material = hiveCxt.table(\"sqlzoo.material\")"
   ]
  },
  {
   "cell_type": "markdown",
   "metadata": {},
   "source": [
    "## 1.\n",
    "The \"central\" table in this database is order_line - every garment ordered takes one line in this table. Many of the fields in this table are references to other tables. The fields of this table have the following meaning: \n",
    "\n",
    "- order_ref\n",
    "\n",
    "This is a link to the dress_order table. We can join the dress_order table to find information such as the the date of the order and the customer number for a given garment order.\n",
    "\n",
    "- line_no\n",
    "\n",
    "The line number is used to distinguish different items on the same order - for example order number 5 has three lines - 1, 2 and 3.\n",
    "\n",
    "- ol_style\n",
    "\n",
    "Indicates the article of clothing ordered. For example ol_style 1 indicates trousers - we can see this by joining to the garments table. Line 1 in the garment table is trousers.\n",
    "\n",
    "- ol_size\n",
    "\n",
    "The size of the item ordered is given here - this is particularly important when it comes to working out how much material is required to build the item. We can see from the quantities table that trousers (style 1) in size 8 takes 2.7 meters - whereas trousers in size 12 needs 2.8 meters.\n",
    "\n",
    "- ol_material\n",
    "\n",
    "Each order specifies the material to be used. We can join to the material table to find a description or cost per meter. Material 1 is Silk, Black, Plain costing £7 per meter.\n"
   ]
  },
  {
   "cell_type": "code",
   "execution_count": 5,
   "metadata": {},
   "outputs": [
    {
     "data": {
      "text/plain": [
       "\u001b[36mres4\u001b[39m: \u001b[32mRow\u001b[39m = [1,1,1,8,1]"
      ]
     },
     "execution_count": 5,
     "metadata": {},
     "output_type": "execute_result"
    }
   ],
   "source": [
    "order_line.head()"
   ]
  },
  {
   "cell_type": "markdown",
   "metadata": {},
   "source": [
    "## 2.\n",
    "A sample join:\n",
    "\n",
    "In order to translate the numbers in order_line into meaningful values we need to join a related table. For example if we want to access the descriptions of the materials we need to join the material table.\n",
    "\n",
    "To achieve the join we include the table material on the FROM line and the join condition as a WHERE clause.\n",
    "\n",
    "For each pair of tables there is a join condition between them (if they are linked). To find the join condition between order_line and material we look at the order_line table CREATE statement and notice the line that specifies that ol_material references the material table. This link will always be to the primary key of material table.\n",
    "\n",
    "```sql\n",
    "CREATE TABLE order_line (\n",
    "  order_ref\tINTEGER\tNOT NULL REFERENCES dress_order\n",
    " ,line_no\tINTEGER\tNOT NULL\n",
    " ,ol_style\tINTEGER\tREFERENCES garment\n",
    " ,ol_size\tINTEGER\tNOT NULL\n",
    " ,ol_material\tINTEGER\tREFERENCES material\n",
    " ,PRIMARY KEY (order_ref, line_no)\n",
    " ,FOREIGN KEY (ol_style, ol_size) REFERENCES quantities\n",
    " );\n",
    "SELECT order_ref, line_no, fabric, colour, pattern, cost\n",
    "  FROM order_line, material\n",
    " WHERE ol_material = material_no\n",
    "```"
   ]
  },
  {
   "cell_type": "code",
   "execution_count": 6,
   "metadata": {},
   "outputs": [
    {
     "data": {
      "text/html": [
       " <table>\n",
       "                <tr>\n",
       "                 <th>order_ref</th><th>line_no</th><th>fabric</th><th>colour</th><th>pattern</th><th>cost</th>\n",
       "                </tr>\n",
       "                <tr><td>12</td><td>3</td><td>Silk                </td><td>Black               </td><td>Plain               </td><td>7.0</td></tr><tr><td>7</td><td>1</td><td>Silk                </td><td>Black               </td><td>Plain               </td><td>7.0</td></tr><tr><td>1</td><td>1</td><td>Silk                </td><td>Black               </td><td>Plain               </td><td>7.0</td></tr><tr><td>12</td><td>4</td><td>Silk                </td><td>Red Abstract        </td><td>Printed             </td><td>10.0</td></tr><tr><td>7</td><td>2</td><td>Silk                </td><td>Red Abstract        </td><td>Printed             </td><td>10.0</td></tr><tr><td>1</td><td>2</td><td>Silk                </td><td>Red Abstract        </td><td>Printed             </td><td>10.0</td></tr><tr><td>12</td><td>5</td><td>Cotton              </td><td>Yellow Stripe       </td><td>Woven               </td><td>3.0</td></tr><tr><td>7</td><td>3</td><td>Cotton              </td><td>Yellow Stripe       </td><td>Woven               </td><td>3.0</td></tr><tr><td>2</td><td>1</td><td>Cotton              </td><td>Yellow Stripe       </td><td>Woven               </td><td>3.0</td></tr><tr><td>8</td><td>1</td><td>Cotton              </td><td>Green Stripe        </td><td>Woven               </td><td>3.0</td></tr><tr><td>2</td><td>2</td><td>Cotton              </td><td>Green Stripe        </td><td>Woven               </td><td>3.0</td></tr><tr><td>8</td><td>2</td><td>Cotton              </td><td>Black Dotted        </td><td>Woven               </td><td>3.0</td></tr><tr><td>2</td><td>3</td><td>Cotton              </td><td>Black Dotted        </td><td>Woven               </td><td>3.0</td></tr><tr><td>8</td><td>3</td><td>Cotton              </td><td>Red Stripe          </td><td>Woven               </td><td>3.0</td></tr><tr><td>3</td><td>1</td><td>Cotton              </td><td>Red Stripe          </td><td>Woven               </td><td>3.0</td></tr><tr><td>9</td><td>1</td><td>Polyester           </td><td>Pale Yellow         </td><td>Printed             </td><td>2.55</td></tr><tr><td>4</td><td>1</td><td>Polyester           </td><td>Pale Yellow         </td><td>Printed             </td><td>2.55</td></tr><tr><td>10</td><td>1</td><td>Cotton              </td><td>Blue Stripe         </td><td>Woven               </td><td>3.0</td></tr><tr><td>10</td><td>2</td><td>Cotton              </td><td>Pink Check          </td><td>Woven               </td><td>3.0</td></tr><tr><td>5</td><td>1</td><td>Cotton              </td><td>Pink Check          </td><td>Woven               </td><td>3.0</td></tr><tr><td>11</td><td>1</td><td>Silk                </td><td>Green Abstract      </td><td>Printed             </td><td>15.0</td></tr><tr><td>5</td><td>2</td><td>Silk                </td><td>Green Abstract      </td><td>Printed             </td><td>15.0</td></tr><tr><td>4</td><td>2</td><td>Silk                </td><td>Green Abstract      </td><td>Printed             </td><td>15.0</td></tr><tr><td>11</td><td>2</td><td>Rayon               </td><td>Red/Orange          </td><td>Printed             </td><td>4.0</td></tr><tr><td>5</td><td>3</td><td>Rayon               </td><td>Red/Orange          </td><td>Printed             </td><td>4.0</td></tr><tr><td>11</td><td>3</td><td>Serge               </td><td>Navy Blue           </td><td>Woven               </td><td>5.5</td></tr><tr><td>6</td><td>1</td><td>Serge               </td><td>Navy Blue           </td><td>Woven               </td><td>5.5</td></tr><tr><td>12</td><td>1</td><td>Cotton              </td><td>Blue Abstract       </td><td>Printed             </td><td>3.5</td></tr><tr><td>6</td><td>2</td><td>Cotton              </td><td>Blue Abstract       </td><td>Printed             </td><td>3.5</td></tr><tr><td>12</td><td>2</td><td>Cotton              </td><td>Green Abstract      </td><td>Printed             </td><td>3.5</td></tr><tr><td>6</td><td>3</td><td>Cotton              </td><td>Green Abstract      </td><td>Printed             </td><td>3.5</td></tr>\n",
       "            </table>\n",
       "        "
      ]
     },
     "metadata": {},
     "output_type": "display_data"
    }
   ],
   "source": [
    "(order_line\n",
    " .join(material, (order_line(\"ol_material\") === material(\"material_no\")))\n",
    " .select(\"order_ref\", \"line_no\", \"fabric\", \"colour\", \"pattern\", \"cost\")\n",
    " .showHTML())"
   ]
  },
  {
   "cell_type": "markdown",
   "metadata": {},
   "source": [
    "## 3.\n",
    "To get a description of the garment we need to join the garment table. The join condition is that the ol_style in order_line matches the style_no in garment.\n",
    "\n",
    "```sql\n",
    "SELECT order_ref, line_no, description\n",
    "  FROM order_line, garment\n",
    " WHERE ol_style = style_no\n",
    "```"
   ]
  },
  {
   "cell_type": "code",
   "execution_count": 7,
   "metadata": {},
   "outputs": [
    {
     "data": {
      "text/html": [
       " <table>\n",
       "                <tr>\n",
       "                 <th>order_ref</th><th>line_no</th><th>description</th>\n",
       "                </tr>\n",
       "                <tr><td>1</td><td>1</td><td>Trousers            </td></tr><tr><td>1</td><td>2</td><td>Long Skirt          </td></tr><tr><td>2</td><td>1</td><td>Shorts              </td></tr><tr><td>2</td><td>2</td><td>Short Skirt         </td></tr><tr><td>2</td><td>3</td><td>Sundress            </td></tr><tr><td>3</td><td>1</td><td>Suntop              </td></tr><tr><td>4</td><td>1</td><td>Trousers            </td></tr><tr><td>4</td><td>2</td><td>Long Skirt          </td></tr><tr><td>5</td><td>1</td><td>Shorts              </td></tr><tr><td>5</td><td>2</td><td>Short Skirt         </td></tr><tr><td>5</td><td>3</td><td>Sundress            </td></tr><tr><td>6</td><td>1</td><td>Trousers            </td></tr><tr><td>6</td><td>2</td><td>Long Skirt          </td></tr><tr><td>6</td><td>3</td><td>Shorts              </td></tr><tr><td>7</td><td>1</td><td>Short Skirt         </td></tr><tr><td>7</td><td>2</td><td>Sundress            </td></tr><tr><td>7</td><td>3</td><td>Suntop              </td></tr><tr><td>8</td><td>1</td><td>Suntop              </td></tr><tr><td>8</td><td>2</td><td>Sundress            </td></tr><tr><td>8</td><td>3</td><td>Short Skirt         </td></tr><tr><td>9</td><td>1</td><td>Shorts              </td></tr><tr><td>10</td><td>1</td><td>Long Skirt          </td></tr><tr><td>10</td><td>2</td><td>Trousers            </td></tr><tr><td>11</td><td>1</td><td>Trousers            </td></tr><tr><td>11</td><td>2</td><td>Long Skirt          </td></tr><tr><td>11</td><td>3</td><td>Shorts              </td></tr><tr><td>12</td><td>1</td><td>Short Skirt         </td></tr><tr><td>12</td><td>2</td><td>Sundress            </td></tr><tr><td>12</td><td>3</td><td>Suntop              </td></tr><tr><td>12</td><td>4</td><td>Trousers            </td></tr><tr><td>12</td><td>5</td><td>Long Skirt          </td></tr>\n",
       "            </table>\n",
       "        "
      ]
     },
     "metadata": {},
     "output_type": "display_data"
    }
   ],
   "source": [
    "(order_line\n",
    " .join(garment, (order_line(\"ol_style\") === garment(\"style_no\")))\n",
    " .select(\"order_ref\", \"line_no\", \"description\")\n",
    " .showHTML())"
   ]
  },
  {
   "cell_type": "markdown",
   "metadata": {},
   "source": [
    "## 4.\n",
    "If we need both the description and the fabric we can join both material and garment to the order_line table. The join conditions are combined with \"AND\"\n",
    "\n",
    "```sql\n",
    "SELECT order_ref, line_no, fabric, description\n",
    "  FROM order_line, material, garment\n",
    " WHERE ol_style = style_no\n",
    "   AND ol_material = material_no\n",
    "```"
   ]
  },
  {
   "cell_type": "code",
   "execution_count": 8,
   "metadata": {},
   "outputs": [
    {
     "data": {
      "text/html": [
       " <table>\n",
       "                <tr>\n",
       "                 <th>order_ref</th><th>line_no</th><th>fabric</th><th>description</th>\n",
       "                </tr>\n",
       "                <tr><td>12</td><td>3</td><td>Silk                </td><td>Suntop              </td></tr><tr><td>7</td><td>1</td><td>Silk                </td><td>Short Skirt         </td></tr><tr><td>1</td><td>1</td><td>Silk                </td><td>Trousers            </td></tr><tr><td>12</td><td>4</td><td>Silk                </td><td>Trousers            </td></tr><tr><td>7</td><td>2</td><td>Silk                </td><td>Sundress            </td></tr><tr><td>1</td><td>2</td><td>Silk                </td><td>Long Skirt          </td></tr><tr><td>12</td><td>5</td><td>Cotton              </td><td>Long Skirt          </td></tr><tr><td>7</td><td>3</td><td>Cotton              </td><td>Suntop              </td></tr><tr><td>2</td><td>1</td><td>Cotton              </td><td>Shorts              </td></tr><tr><td>8</td><td>1</td><td>Cotton              </td><td>Suntop              </td></tr><tr><td>2</td><td>2</td><td>Cotton              </td><td>Short Skirt         </td></tr><tr><td>8</td><td>2</td><td>Cotton              </td><td>Sundress            </td></tr><tr><td>2</td><td>3</td><td>Cotton              </td><td>Sundress            </td></tr><tr><td>8</td><td>3</td><td>Cotton              </td><td>Short Skirt         </td></tr><tr><td>3</td><td>1</td><td>Cotton              </td><td>Suntop              </td></tr><tr><td>9</td><td>1</td><td>Polyester           </td><td>Shorts              </td></tr><tr><td>4</td><td>1</td><td>Polyester           </td><td>Trousers            </td></tr><tr><td>10</td><td>1</td><td>Cotton              </td><td>Long Skirt          </td></tr><tr><td>10</td><td>2</td><td>Cotton              </td><td>Trousers            </td></tr><tr><td>5</td><td>1</td><td>Cotton              </td><td>Shorts              </td></tr><tr><td>11</td><td>1</td><td>Silk                </td><td>Trousers            </td></tr><tr><td>5</td><td>2</td><td>Silk                </td><td>Short Skirt         </td></tr><tr><td>4</td><td>2</td><td>Silk                </td><td>Long Skirt          </td></tr><tr><td>11</td><td>2</td><td>Rayon               </td><td>Long Skirt          </td></tr><tr><td>5</td><td>3</td><td>Rayon               </td><td>Sundress            </td></tr><tr><td>11</td><td>3</td><td>Serge               </td><td>Shorts              </td></tr><tr><td>6</td><td>1</td><td>Serge               </td><td>Trousers            </td></tr><tr><td>12</td><td>1</td><td>Cotton              </td><td>Short Skirt         </td></tr><tr><td>6</td><td>2</td><td>Cotton              </td><td>Long Skirt          </td></tr><tr><td>12</td><td>2</td><td>Cotton              </td><td>Sundress            </td></tr><tr><td>6</td><td>3</td><td>Cotton              </td><td>Shorts              </td></tr>\n",
       "            </table>\n",
       "        "
      ]
     },
     "metadata": {},
     "output_type": "display_data"
    }
   ],
   "source": [
    "(order_line\n",
    " .join(material, (order_line(\"ol_material\") === material(\"material_no\")))\n",
    " .join(garment, (order_line(\"ol_style\") === garment(\"style_no\")))\n",
    " .select(\"order_ref\", \"line_no\", \"fabric\", \"description\")\n",
    " .showHTML())"
   ]
  },
  {
   "cell_type": "markdown",
   "metadata": {},
   "source": [
    "## 5.\n",
    "The quantities table tells us how much material is required for every garment for every size available. The join between the order_line and quantities is unusual in that it involves two fields. This can be seen by the fact that quantities has a composite key.\n",
    "\n",
    "```sql\n",
    "SELECT order_ref, line_no, quantity\n",
    "  FROM order_line, quantities\n",
    " WHERE ol_style = style_q\n",
    "   AND ol_size  = size_q\n",
    "```"
   ]
  },
  {
   "cell_type": "code",
   "execution_count": 9,
   "metadata": {},
   "outputs": [
    {
     "data": {
      "text/html": [
       " <table>\n",
       "                <tr>\n",
       "                 <th>order_ref</th><th>line_no</th><th>quantity</th>\n",
       "                </tr>\n",
       "                <tr><td>12</td><td>4</td><td>2.7</td></tr><tr><td>6</td><td>1</td><td>2.7</td></tr><tr><td>1</td><td>1</td><td>2.7</td></tr><tr><td>4</td><td>1</td><td>2.8</td></tr><tr><td>10</td><td>2</td><td>3.0</td></tr><tr><td>11</td><td>1</td><td>3.0</td></tr><tr><td>12</td><td>5</td><td>3.4</td></tr><tr><td>6</td><td>2</td><td>3.4</td></tr><tr><td>1</td><td>2</td><td>3.4</td></tr><tr><td>4</td><td>2</td><td>3.8</td></tr><tr><td>10</td><td>1</td><td>4.2</td></tr><tr><td>11</td><td>2</td><td>4.5</td></tr><tr><td>6</td><td>3</td><td>1.3</td></tr><tr><td>2</td><td>1</td><td>1.3</td></tr><tr><td>9</td><td>1</td><td>1.5</td></tr><tr><td>5</td><td>1</td><td>1.6</td></tr><tr><td>11</td><td>3</td><td>1.8</td></tr><tr><td>12</td><td>1</td><td>1.2</td></tr><tr><td>7</td><td>1</td><td>1.2</td></tr><tr><td>2</td><td>2</td><td>1.2</td></tr><tr><td>8</td><td>3</td><td>1.2</td></tr><tr><td>5</td><td>2</td><td>1.5</td></tr><tr><td>12</td><td>2</td><td>3.2</td></tr><tr><td>7</td><td>2</td><td>3.2</td></tr><tr><td>2</td><td>3</td><td>3.2</td></tr><tr><td>8</td><td>2</td><td>3.2</td></tr><tr><td>5</td><td>3</td><td>5.2</td></tr><tr><td>12</td><td>3</td><td>1.0</td></tr><tr><td>7</td><td>3</td><td>1.0</td></tr><tr><td>8</td><td>1</td><td>1.0</td></tr><tr><td>3</td><td>1</td><td>1.0</td></tr>\n",
       "            </table>\n",
       "        "
      ]
     },
     "metadata": {},
     "output_type": "display_data"
    }
   ],
   "source": [
    "(order_line\n",
    " .join(quantities, ((order_line(\"ol_style\") === quantities(\"style_q\")) && \n",
    "                    (order_line(\"ol_size\") === quantities(\"size_q\"))))\n",
    " .select(\"order_ref\", \"line_no\", \"quantity\")\n",
    " .showHTML())"
   ]
  },
  {
   "cell_type": "markdown",
   "metadata": {},
   "source": [
    "## 6.\n",
    "Customers place orders - each order contains many lines - each line of the order refers to a garment:\n",
    "\n",
    "```sql\n",
    "SELECT c_name, order_date, order_no, line_no\n",
    "   FROM jmcust, dress_order, order_line\n",
    "  WHERE          jmcust.c_no = dress_order.cust_no\n",
    "  AND   dress_order.order_no = order_line.order_ref\n",
    "```"
   ]
  },
  {
   "cell_type": "code",
   "execution_count": 10,
   "metadata": {},
   "outputs": [
    {
     "data": {
      "text/html": [
       " <table>\n",
       "                <tr>\n",
       "                 <th>c_name</th><th>order_date</th><th>order_no</th><th>line_no</th>\n",
       "                </tr>\n",
       "                <tr><td>Ms Black            </td><td>2002-02-27</td><td>8</td><td>3</td></tr><tr><td>Ms Black            </td><td>2002-02-27</td><td>8</td><td>2</td></tr><tr><td>Ms Black            </td><td>2002-02-27</td><td>8</td><td>1</td></tr><tr><td>Ms Brown            </td><td>2002-02-27</td><td>9</td><td>1</td></tr><tr><td>Ms Brown            </td><td>2002-02-21</td><td>7</td><td>3</td></tr><tr><td>Ms Brown            </td><td>2002-02-21</td><td>7</td><td>2</td></tr><tr><td>Ms Brown            </td><td>2002-02-21</td><td>7</td><td>1</td></tr><tr><td>Ms Gray             </td><td>2002-02-28</td><td>10</td><td>2</td></tr><tr><td>Ms Gray             </td><td>2002-02-28</td><td>10</td><td>1</td></tr><tr><td>Ms Gray             </td><td>2002-02-20</td><td>6</td><td>3</td></tr><tr><td>Ms Gray             </td><td>2002-02-20</td><td>6</td><td>2</td></tr><tr><td>Ms Gray             </td><td>2002-02-20</td><td>6</td><td>1</td></tr><tr><td>Ms White            </td><td>2002-03-01</td><td>11</td><td>3</td></tr><tr><td>Ms White            </td><td>2002-03-01</td><td>11</td><td>2</td></tr><tr><td>Ms White            </td><td>2002-03-01</td><td>11</td><td>1</td></tr><tr><td>Ms White            </td><td>2002-02-03</td><td>5</td><td>3</td></tr><tr><td>Ms White            </td><td>2002-02-03</td><td>5</td><td>2</td></tr><tr><td>Ms White            </td><td>2002-02-03</td><td>5</td><td>1</td></tr><tr><td>Mr Brass            </td><td>2002-03-03</td><td>12</td><td>5</td></tr><tr><td>Mr Brass            </td><td>2002-03-03</td><td>12</td><td>4</td></tr><tr><td>Mr Brass            </td><td>2002-03-03</td><td>12</td><td>3</td></tr><tr><td>Mr Brass            </td><td>2002-03-03</td><td>12</td><td>2</td></tr><tr><td>Mr Brass            </td><td>2002-03-03</td><td>12</td><td>1</td></tr><tr><td>Mr Brass            </td><td>2002-02-02</td><td>4</td><td>2</td></tr><tr><td>Mr Brass            </td><td>2002-02-02</td><td>4</td><td>1</td></tr><tr><td>Ms Muir             </td><td>2002-01-20</td><td>3</td><td>1</td></tr><tr><td>Dr Green            </td><td>2002-01-11</td><td>2</td><td>3</td></tr><tr><td>Dr Green            </td><td>2002-01-11</td><td>2</td><td>2</td></tr><tr><td>Dr Green            </td><td>2002-01-11</td><td>2</td><td>1</td></tr><tr><td>Mrs Peacock         </td><td>2002-01-10</td><td>1</td><td>2</td></tr><tr><td>Mrs Peacock         </td><td>2002-01-10</td><td>1</td><td>1</td></tr>\n",
       "            </table>\n",
       "        "
      ]
     },
     "metadata": {},
     "output_type": "display_data"
    }
   ],
   "source": [
    "(jmcust.join(dress_order, (jmcust(\"c_no\") === dress_order(\"cust_no\")))\n",
    " .join(order_line, (dress_order(\"order_no\") === order_line(\"order_ref\")))\n",
    " .select(\"c_name\", \"order_date\", \"order_no\", \"line_no\")\n",
    " .showHTML())"
   ]
  },
  {
   "cell_type": "markdown",
   "metadata": {},
   "source": [
    "## 7.\n",
    "There's also a dress maker table, and a table called construction which gives you information about who made which order and when:\n",
    "\n",
    "```sql\n",
    "SELECT d_no, d_name, construction.order_ref, construction.line_ref, start_date, finish_date\n",
    " FROM dressmaker, order_line, construction\n",
    " WHERE  d_no=maker  \n",
    " AND order_line.order_ref=construction.order_ref \n",
    " AND order_line.line_no=construction.line_ref\n",
    "```"
   ]
  },
  {
   "cell_type": "code",
   "execution_count": 11,
   "metadata": {},
   "outputs": [
    {
     "data": {
      "text/html": [
       " <table>\n",
       "                <tr>\n",
       "                 <th>d_no</th><th>d_name</th><th>order_ref</th><th>line_ref</th><th>start_date</th><th>finish_date</th>\n",
       "                </tr>\n",
       "                <tr><td>1</td><td>Mrs Hem             </td><td>1</td><td>1</td><td>2002-01-10</td><td>2002-03-05</td></tr><tr><td>1</td><td>Mrs Hem             </td><td>4</td><td>2</td><td>2002-02-02</td><td>2002-03-25</td></tr><tr><td>1</td><td>Mrs Hem             </td><td>7</td><td>1</td><td>2002-02-21</td><td>null</td></tr><tr><td>1</td><td>Mrs Hem             </td><td>10</td><td>1</td><td>2002-02-28</td><td>null</td></tr><tr><td>1</td><td>Mrs Hem             </td><td>12</td><td>3</td><td>2002-03-03</td><td>null</td></tr><tr><td>2</td><td>Miss Stitch         </td><td>1</td><td>2</td><td>2002-01-10</td><td>2002-03-15</td></tr><tr><td>2</td><td>Miss Stitch         </td><td>5</td><td>1</td><td>2002-02-03</td><td>2002-03-15</td></tr><tr><td>2</td><td>Miss Stitch         </td><td>7</td><td>2</td><td>2002-02-21</td><td>null</td></tr><tr><td>2</td><td>Miss Stitch         </td><td>10</td><td>2</td><td>2002-03-28</td><td>null</td></tr><tr><td>2</td><td>Miss Stitch         </td><td>12</td><td>4</td><td>2002-03-03</td><td>null</td></tr><tr><td>2</td><td>Miss Stitch         </td><td>12</td><td>5</td><td>2002-03-03</td><td>null</td></tr><tr><td>3</td><td>Mr Needles          </td><td>2</td><td>1</td><td>2002-01-11</td><td>2002-03-05</td></tr><tr><td>3</td><td>Mr Needles          </td><td>5</td><td>2</td><td>2002-02-03</td><td>2002-03-25</td></tr><tr><td>3</td><td>Mr Needles          </td><td>7</td><td>3</td><td>2002-02-21</td><td>2002-03-28</td></tr><tr><td>3</td><td>Mr Needles          </td><td>11</td><td>1</td><td>2002-03-01</td><td>2002-03-04</td></tr><tr><td>4</td><td>Ms Sew              </td><td>2</td><td>2</td><td>2002-01-11</td><td>2002-03-25</td></tr><tr><td>4</td><td>Ms Sew              </td><td>5</td><td>3</td><td>2002-02-03</td><td>2002-03-27</td></tr><tr><td>4</td><td>Ms Sew              </td><td>8</td><td>1</td><td>2002-02-27</td><td>2002-03-03</td></tr><tr><td>4</td><td>Ms Sew              </td><td>11</td><td>2</td><td>2002-03-01</td><td>null</td></tr><tr><td>5</td><td>Mr Seam             </td><td>2</td><td>3</td><td>2002-01-11</td><td>2002-03-05</td></tr><tr><td>5</td><td>Mr Seam             </td><td>6</td><td>1</td><td>2002-02-20</td><td>null</td></tr><tr><td>5</td><td>Mr Seam             </td><td>8</td><td>2</td><td>2002-02-27</td><td>null</td></tr><tr><td>5</td><td>Mr Seam             </td><td>11</td><td>3</td><td>2002-03-01</td><td>null</td></tr><tr><td>6</td><td>Mr Taylor           </td><td>3</td><td>1</td><td>2002-01-20</td><td>2002-03-25</td></tr><tr><td>6</td><td>Mr Taylor           </td><td>6</td><td>2</td><td>2002-02-20</td><td>2002-03-28</td></tr><tr><td>6</td><td>Mr Taylor           </td><td>8</td><td>3</td><td>2002-02-27</td><td>null</td></tr><tr><td>7</td><td>Miss Pins           </td><td>4</td><td>1</td><td>2002-02-02</td><td>2002-03-05</td></tr><tr><td>7</td><td>Miss Pins           </td><td>6</td><td>3</td><td>2002-02-20</td><td>null</td></tr><tr><td>7</td><td>Miss Pins           </td><td>9</td><td>1</td><td>2002-02-27</td><td>null</td></tr><tr><td>7</td><td>Miss Pins           </td><td>12</td><td>2</td><td>2002-03-03</td><td>null</td></tr>\n",
       "            </table>\n",
       "        "
      ]
     },
     "metadata": {},
     "output_type": "display_data"
    }
   ],
   "source": [
    "(dressmaker\n",
    " .join(construction, (dressmaker(\"d_no\") === construction(\"maker\")))\n",
    " .join(order_line, ((construction(\"order_ref\") === order_line(\"order_ref\")) &&\n",
    "                    (construction(\"line_ref\") === order_line(\"line_no\"))))\n",
    " .select(col(\"d_no\"), col(\"d_name\"), col(\"order_line.order_ref\"), \n",
    "         col(\"line_ref\"), col(\"start_date\"), col(\"finish_date\"))\n",
    " .showHTML())"
   ]
  },
  {
   "cell_type": "code",
   "execution_count": 12,
   "metadata": {},
   "outputs": [],
   "source": [
    "spark.stop()"
   ]
  },
  {
   "cell_type": "code",
   "execution_count": null,
   "metadata": {},
   "outputs": [],
   "source": []
  }
 ],
 "metadata": {
  "kernelspec": {
   "display_name": "Scala",
   "language": "scala",
   "name": "scala"
  },
  "language_info": {
   "codemirror_mode": "text/x-scala",
   "file_extension": ".sc",
   "mimetype": "text/x-scala",
   "name": "scala",
   "nbconvert_exporter": "script",
   "version": "2.12.15"
  }
 },
 "nbformat": 4,
 "nbformat_minor": 4
}
