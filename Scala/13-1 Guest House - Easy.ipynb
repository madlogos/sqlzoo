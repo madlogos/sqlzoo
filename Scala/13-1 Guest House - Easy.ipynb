{
 "cells": [
  {
   "cell_type": "markdown",
   "metadata": {},
   "source": [
    "# Guest House - Easy\n",
    "\n",
    "Data for this assessment is available:\n",
    "\n",
    "- [guesthouse data in MySQL format](http://sqlzoo.net/guesthouse.sql)\n",
    "- [guesthouse data in Microsoft SQL Server format](http://sqlzoo.net/guesthouse-ms.sql)\n",
    "\n",
    "Background\n",
    "\n",
    "- Guests stay at a small hotel.\n",
    "- Each booking is recorded in the table booking, the date of the first night of the booking is stored here (we do not record the date the booking was made)\n",
    "- At the time of booking the room to be used is decided\n",
    "- There are several room types (single, double..)\n",
    "- The amount charged depends on the room type and the number of people staying and the number of nights\n",
    "- Guests may be charged extras (for breakfast or using the minibar)\n",
    "- **Database Description** | [Easy Problems](https://sqlzoo.net/wiki/Guest_House_Assessment_Easy) | [Medium Problems](https://sqlzoo.net/wiki/Guest_House_Assessment_Medium) | [Hard Problems](https://sqlzoo.net/wiki/Guest_House_Assessment_Hard)\n",
    "- [Guest House Assessment Sample Queries](https://sqlzoo.net/wiki/Guest_House_Assessment_Sample_Queries)\n",
    "\n",
    "![rel](https://sqlzoo.net/w/images/8/83/Hotel.png)\n",
    "\n",
    "## Table booking\n",
    "The table booking contains an entry for every booking made at the hotel. A booking is made by one guest - even though more than one person may be staying we do not record the details of other guests in the same room. In normal operation the table includes both past and future bookings.\n",
    "\n",
    "```\n",
    "+------------+--------------+---------+----------+-----------+---------------------+--------+--------------+\n",
    "| booking_id | booking_date | room_no | guest_id | occupants | room_type_requested | nights | arrival_time |\n",
    "+------------+--------------+---------+----------+-----------+---------------------+--------+--------------+\n",
    "|       5001 | 2016-11-03   |     101 |     1027 |         1 | single              |      7 | 13:00        |\n",
    "|       5002 | 2016-11-03   |     102 |     1179 |         1 | double              |      2 | 18:00        |\n",
    "|       5003 | 2016-11-03   |     103 |     1106 |         2 | double              |      2 | 21:00        |\n",
    "|       5004 | 2016-11-03   |     104 |     1238 |         1 | double              |      3 | 22:00        |\n",
    "+------------+--------------+---------+----------+-----------+---------------------+--------+--------------+\n",
    "```\n",
    "\n",
    "## Table room\n",
    "Rooms are either single, double, twin or family.\n",
    "\n",
    "```\n",
    "+-----+-----------+---------------+\n",
    "| id  | room_type | max_occupancy |\n",
    "+-----+-----------+---------------+\n",
    "| 101 | single    |             1 |\n",
    "| 102 | double    |             2 |\n",
    "| 103 | double    |             2 |\n",
    "| 104 | double    |             2 |\n",
    "| 105 | family    |             3 |\n",
    "+-----+-----------+---------------+\n",
    "```\n",
    "\n",
    "## Table rate\n",
    "Rooms are charged per night, the amount charged depends on the \"room type requested\" value of the booking and the number of people staying:\n",
    "\n",
    "```\n",
    "+-----------+-----------+--------+\n",
    "| room_type | occupancy | amount |\n",
    "+-----------+-----------+--------+\n",
    "| double    |         1 |  56.00 |\n",
    "| double    |         2 |  72.00 |\n",
    "| family    |         1 |  56.00 |\n",
    "| family    |         2 |  72.00 |\n",
    "| family    |         3 |  84.00 |\n",
    "| single    |         1 |  48.00 |\n",
    "| twin      |         1 |  50.00 |\n",
    "| twin      |         2 |  72.00 |\n",
    "+-----------+-----------+--------+\n",
    "```\n",
    "\n",
    "You can see that a double room with one person staying costs £56 while a double room with 2 people staying costs £72 per night\n",
    "\n",
    "Note that the actual room assigned to the booking might not match the room required (a customer may ask for a single room but we actually assign her a double). In this case we charge at the \"requirement rate\"."
   ]
  },
  {
   "cell_type": "code",
   "execution_count": 1,
   "metadata": {},
   "outputs": [
    {
     "name": "stdout",
     "output_type": "stream",
     "text": [
      "Loading spark-stubs, spark-hive\n",
      "Adding Hive conf dir /opt/hive/conf to classpath\n",
      "Creating SparkSession\n"
     ]
    },
    {
     "name": "stderr",
     "output_type": "stream",
     "text": [
      "SLF4J: No SLF4J providers were found.\n",
      "SLF4J: Defaulting to no-operation (NOP) logger implementation\n",
      "SLF4J: See https://www.slf4j.org/codes.html#noProviders for further details.\n"
     ]
    },
    {
     "data": {
      "text/html": [
       "<a target=\"_blank\" href=\"http://jupyter:4040\">Spark UI</a>"
      ]
     },
     "metadata": {},
     "output_type": "display_data"
    },
    {
     "data": {
      "text/plain": [
       "\u001b[32mimport \u001b[39m\u001b[36m$ivy.$                                  \n",
       "\n",
       "\u001b[39m\n",
       "\u001b[32mimport \u001b[39m\u001b[36morg.apache.log4j.{Level, Logger}\n",
       "\u001b[39m\n",
       "\u001b[32mimport \u001b[39m\u001b[36morg.apache.spark._\n",
       "\u001b[39m\n",
       "\u001b[32mimport \u001b[39m\u001b[36morg.apache.spark.sql._\n",
       "\u001b[39m\n",
       "\u001b[32mimport \u001b[39m\u001b[36morg.apache.spark.sql.types._\n",
       "\u001b[39m\n",
       "\u001b[32mimport \u001b[39m\u001b[36morg.apache.spark.sql.functions._\n",
       "\u001b[39m\n",
       "\u001b[32mimport \u001b[39m\u001b[36morg.apache.spark.sql.expressions.Window\n",
       "\n",
       "\u001b[39m\n",
       "\u001b[36mspark\u001b[39m: \u001b[32mSparkSession\u001b[39m = org.apache.spark.sql.SparkSession@191b2f1a"
      ]
     },
     "execution_count": 1,
     "metadata": {},
     "output_type": "execute_result"
    }
   ],
   "source": [
    "import $ivy.`org.apache.spark::spark-sql:3.4.0`\n",
    "\n",
    "import org.apache.log4j.{Level, Logger}\n",
    "Logger.getLogger(\"org\").setLevel(Level.OFF)\n",
    "\n",
    "import org.apache.spark._\n",
    "import org.apache.spark.sql._\n",
    "import org.apache.spark.sql.types._\n",
    "import org.apache.spark.sql.functions._\n",
    "import org.apache.spark.sql.expressions.Window\n",
    "\n",
    "val spark = {\n",
    "    NotebookSparkSession.builder()\n",
    "    .progress(false)\n",
    "    .appName(\"app13-1\")\n",
    "    // .master(\"spark://192.168.31.31:7077\")\n",
    "    .master(\"local[*]\")\n",
    "    .config(\"spark.sql.warehouse.dir\", \n",
    "            \"hdfs://192.168.31.31:9000/user/hive/warehouse\") \n",
    "    .config(\"spark.cores.max\", \"4\") \n",
    "    .config(\"spark.executor.instances\", \"1\") \n",
    "    .config(\"spark.executor.cores\", \"2\") \n",
    "    .config(\"spark.executor.memory\", \"10g\") \n",
    "    .config(\"spark.shuffle.service.enabled\", \"false\") \n",
    "    .config(\"spark.dynamicAllocation.enabled\", \"false\") \n",
    "    .config(\"spark.sql.catalogImplementation\", \"hive\")\n",
    "    .config(\"spark.sql.repl.eagerEval.enabled\", \"true\")\n",
    "    .config(\"spark.driver.allowMultipleContexts\", \"true\")\n",
    "    .getOrCreate()\n",
    "}"
   ]
  },
  {
   "cell_type": "code",
   "execution_count": 2,
   "metadata": {},
   "outputs": [
    {
     "data": {
      "text/plain": [
       "\u001b[32mimport \u001b[39m\u001b[36mspark.implicits._\n",
       "\u001b[39m\n",
       "defined \u001b[32mfunction\u001b[39m \u001b[36msc\u001b[39m\n",
       "\u001b[36mhiveCxt\u001b[39m: \u001b[32msql\u001b[39m.\u001b[32mhive\u001b[39m.\u001b[32mHiveContext\u001b[39m = org.apache.spark.sql.hive.HiveContext@11d07a78"
      ]
     },
     "execution_count": 2,
     "metadata": {},
     "output_type": "execute_result"
    }
   ],
   "source": [
    "import spark.implicits._\n",
    "def sc = spark.sparkContext\n",
    "val hiveCxt = new org.apache.spark.sql.hive.HiveContext(sc)"
   ]
  },
  {
   "cell_type": "code",
   "execution_count": 3,
   "metadata": {},
   "outputs": [
    {
     "data": {
      "text/plain": [
       "defined \u001b[32mclass\u001b[39m \u001b[36mRichDF\u001b[39m"
      ]
     },
     "execution_count": 3,
     "metadata": {},
     "output_type": "execute_result"
    }
   ],
   "source": [
    "// Credit to Aivean\n",
    "implicit class RichDF(val ds:DataFrame) {\n",
    "    def showHTML(limit: Int = 50, truncate: Int = 100) = {\n",
    "        import xml.Utility.escape\n",
    "        val data = ds.take(limit)\n",
    "        val header = ds.schema.fieldNames.toSeq        \n",
    "        val rows: Seq[Seq[String]] = data.map { row =>\n",
    "          row.toSeq.map {cell =>\n",
    "            val str = cell match {\n",
    "              case null => \"null\"\n",
    "              case binary: Array[Byte] => binary.map(\"%02X\".format(_)).mkString(\"[\", \" \", \"]\")\n",
    "              case array: Array[_] => array.mkString(\"[\", \", \", \"]\")\n",
    "              case seq: Seq[_] => seq.mkString(\"[\", \", \", \"]\")\n",
    "              case _ => cell.toString\n",
    "            }\n",
    "            if (truncate > 0 && str.length > truncate) {\n",
    "              // do not show ellipses for strings shorter than 4 characters.\n",
    "              if (truncate < 4) str.substring(0, truncate)\n",
    "              else str.substring(0, truncate - 3) + \"...\"\n",
    "            } else {\n",
    "              str\n",
    "            }\n",
    "          }: Seq[String]\n",
    "        }\n",
    "    publish.html(s\"\"\" <table>\n",
    "                <tr>\n",
    "                 ${header.map(h => s\"<th>${escape(h)}</th>\").mkString}\n",
    "                </tr>\n",
    "                ${rows.map {row =>\n",
    "                  s\"<tr>${row.map{c => s\"<td>${escape(c)}</td>\" }.mkString}</tr>\"\n",
    "                }.mkString}\n",
    "            </table>\n",
    "        \"\"\")\n",
    "    }\n",
    "}"
   ]
  },
  {
   "cell_type": "code",
   "execution_count": 4,
   "metadata": {},
   "outputs": [
    {
     "data": {
      "text/plain": [
       "\u001b[36mbooking\u001b[39m: \u001b[32mDataFrame\u001b[39m = [booking_id: int, booking_date: string ... 6 more fields]\n",
       "\u001b[36mguest\u001b[39m: \u001b[32mDataFrame\u001b[39m = [id: int, first_name: string ... 2 more fields]\n",
       "\u001b[36mroom\u001b[39m: \u001b[32mDataFrame\u001b[39m = [id: int, room_type: string ... 1 more field]\n",
       "\u001b[36mrate\u001b[39m: \u001b[32mDataFrame\u001b[39m = [room_type: string, occupancy: int ... 1 more field]"
      ]
     },
     "execution_count": 4,
     "metadata": {},
     "output_type": "execute_result"
    }
   ],
   "source": [
    "val booking = hiveCxt.table(\"sqlzoo.booking\")\n",
    "val guest = hiveCxt.table(\"sqlzoo.guest\")\n",
    "val room = hiveCxt.table(\"sqlzoo.room\")\n",
    "val rate = hiveCxt.table(\"sqlzoo.rate\")"
   ]
  },
  {
   "cell_type": "markdown",
   "metadata": {},
   "source": [
    "## 1.\n",
    "Guest 1183. Give the booking_date and the number of nights for guest 1183.\n",
    "\n",
    "```\n",
    "+--------------+--------+\n",
    "| booking_date | nights |\n",
    "+--------------+--------+\n",
    "| 2016-11-27   |      5 |\n",
    "+--------------+--------+\n",
    "```"
   ]
  },
  {
   "cell_type": "code",
   "execution_count": 5,
   "metadata": {},
   "outputs": [
    {
     "data": {
      "text/html": [
       " <table>\n",
       "                <tr>\n",
       "                 <th>booking_date</th><th>nights</th>\n",
       "                </tr>\n",
       "                <tr><td>2016-11-27</td><td>5</td></tr>\n",
       "            </table>\n",
       "        "
      ]
     },
     "metadata": {},
     "output_type": "display_data"
    }
   ],
   "source": [
    "(booking.filter(col(\"guest_id\")===1183)\n",
    " .select(\"booking_date\", \"nights\")\n",
    " .showHTML())"
   ]
  },
  {
   "cell_type": "markdown",
   "metadata": {},
   "source": [
    "## 2.\n",
    "When do they get here? List the arrival time and the first and last names for all guests due to arrive on 2016-11-05, order the output by time of arrival.\n",
    "\n",
    "```\n",
    "+--------------+------------+-----------+\n",
    "| arrival_time | first_name | last_name |\n",
    "+--------------+------------+-----------+\n",
    "| 14:00        | Lisa       | Nandy     |\n",
    "| 15:00        | Jack       | Dromey    |\n",
    "| 16:00        | Mr Andrew  | Tyrie     |\n",
    "| 21:00        | James      | Heappey   |\n",
    "| 22:00        | Justin     | Tomlinson |\n",
    "+--------------+------------+-----------+\n",
    "```"
   ]
  },
  {
   "cell_type": "code",
   "execution_count": 6,
   "metadata": {},
   "outputs": [
    {
     "data": {
      "text/html": [
       " <table>\n",
       "                <tr>\n",
       "                 <th>arrival_time</th><th>first_name</th><th>last_name</th>\n",
       "                </tr>\n",
       "                <tr><td>14:00</td><td>Lisa</td><td>Nandy</td></tr><tr><td>15:00</td><td>Jack</td><td>Dromey</td></tr><tr><td>16:00</td><td>Mr Andrew</td><td>Tyrie</td></tr><tr><td>21:00</td><td>James</td><td>Heappey</td></tr><tr><td>22:00</td><td>Justin</td><td>Tomlinson</td></tr>\n",
       "            </table>\n",
       "        "
      ]
     },
     "metadata": {},
     "output_type": "display_data"
    }
   ],
   "source": [
    "(booking.filter(col(\"booking_date\")===\"2016-11-05\")\n",
    " .join(guest, (booking(\"guest_id\")===guest(\"id\")))\n",
    " .select(\"arrival_time\", \"first_name\", \"last_name\")\n",
    " .orderBy(\"arrival_time\")\n",
    " .showHTML())"
   ]
  },
  {
   "cell_type": "markdown",
   "metadata": {},
   "source": [
    "## 3.\n",
    "Look up daily rates. Give the daily rate that should be paid for bookings with ids 5152, 5165, 5154 and 5295. Include booking id, room type, number of occupants and the amount.\n",
    "\n",
    "```\n",
    "+------------+---------------------+-----------+--------+\n",
    "| booking_id | room_type_requested | occupants | amount |\n",
    "+------------+---------------------+-----------+--------+\n",
    "|       5152 | double              |         2 |  72.00 |\n",
    "|       5154 | double              |         1 |  56.00 |\n",
    "|       5295 | family              |         3 |  84.00 |\n",
    "+------------+---------------------+-----------+--------+\n",
    "```"
   ]
  },
  {
   "cell_type": "code",
   "execution_count": 7,
   "metadata": {},
   "outputs": [
    {
     "data": {
      "text/html": [
       " <table>\n",
       "                <tr>\n",
       "                 <th>booking_id</th><th>room_type_requested</th><th>occupants</th><th>amount</th>\n",
       "                </tr>\n",
       "                <tr><td>5152</td><td>double</td><td>2</td><td>72.0</td></tr><tr><td>5154</td><td>double</td><td>1</td><td>56.0</td></tr><tr><td>5295</td><td>family</td><td>3</td><td>84.0</td></tr>\n",
       "            </table>\n",
       "        "
      ]
     },
     "metadata": {},
     "output_type": "display_data"
    }
   ],
   "source": [
    "(booking\n",
    " .filter(col(\"booking_id\").isin(List(5152, 5165, 5154, 5295): _*))\n",
    " .join(room, (booking(\"room_no\")===room(\"id\")))\n",
    " .join(rate, (room(\"room_type\")===rate(\"room_type\")) && \n",
    "             (col(\"occupants\")===col(\"occupancy\")))\n",
    " .select(\"booking_id\", \"room_type_requested\", \"occupants\", \"amount\")\n",
    " .showHTML())"
   ]
  },
  {
   "cell_type": "markdown",
   "metadata": {},
   "source": [
    "## 4.\n",
    "Who’s in 101? Find who is staying in room 101 on 2016-12-03, include first name, last name and address.\n",
    "\n",
    "```\n",
    "+------------+-----------+-------------+\n",
    "| first_name | last_name | address     |\n",
    "+------------+-----------+-------------+\n",
    "| Graham     | Evans     | Weaver Vale |\n",
    "+------------+-----------+-------------+\n",
    "```"
   ]
  },
  {
   "cell_type": "code",
   "execution_count": 8,
   "metadata": {},
   "outputs": [
    {
     "data": {
      "text/html": [
       " <table>\n",
       "                <tr>\n",
       "                 <th>first_name</th><th>last_name</th><th>address</th>\n",
       "                </tr>\n",
       "                <tr><td>Graham</td><td>Evans</td><td>Weaver Vale</td></tr>\n",
       "            </table>\n",
       "        "
      ]
     },
     "metadata": {},
     "output_type": "display_data"
    }
   ],
   "source": [
    "(booking\n",
    " .filter((col(\"room_no\")===101) && \n",
    "         (col(\"booking_date\") >= \"2016-12-03\") && \n",
    "         (col(\"booking_date\") <= date_add(\n",
    "             lit(\"2016-12-03\"), col(\"nights\"))))\n",
    " .join(guest, (col(\"guest_id\")===guest(\"id\")))\n",
    " .select(\"first_name\", \"last_name\", \"address\")\n",
    " .showHTML())"
   ]
  },
  {
   "cell_type": "markdown",
   "metadata": {},
   "source": [
    "## 5.\n",
    "How many bookings, how many nights? For guests 1185 and 1270 show the number of bookings made and the total number of nights. Your output should include the guest id and the total number of bookings and the total number of nights.\n",
    "\n",
    "```\n",
    "+----------+---------------+-------------+\n",
    "| guest_id | COUNT(nights) | SUM(nights) |\n",
    "+----------+---------------+-------------+\n",
    "|     1185 |             3 |           8 |\n",
    "|     1270 |             2 |           3 |\n",
    "+----------+---------------+-------------+\n",
    "```"
   ]
  },
  {
   "cell_type": "code",
   "execution_count": 9,
   "metadata": {},
   "outputs": [
    {
     "data": {
      "text/html": [
       " <table>\n",
       "                <tr>\n",
       "                 <th>guest_id</th><th>COUNT(nights)</th><th>SUM(nights)</th>\n",
       "                </tr>\n",
       "                <tr><td>1185</td><td>3</td><td>8</td></tr><tr><td>1270</td><td>2</td><td>3</td></tr>\n",
       "            </table>\n",
       "        "
      ]
     },
     "metadata": {},
     "output_type": "display_data"
    }
   ],
   "source": [
    "(booking.filter(col(\"guest_id\").isin(List(1185, 1270): _*))\n",
    " .groupBy(\"guest_id\")\n",
    " .agg(count(\"nights\").alias(\"COUNT(nights)\"),\n",
    "      sum(\"nights\").alias(\"SUM(nights)\"))\n",
    " .orderBy(\"guest_id\")\n",
    " .showHTML())"
   ]
  },
  {
   "cell_type": "code",
   "execution_count": 10,
   "metadata": {},
   "outputs": [],
   "source": [
    "spark.stop()"
   ]
  },
  {
   "cell_type": "code",
   "execution_count": null,
   "metadata": {},
   "outputs": [],
   "source": []
  }
 ],
 "metadata": {
  "kernelspec": {
   "display_name": "Scala",
   "language": "scala",
   "name": "scala"
  },
  "language_info": {
   "codemirror_mode": "text/x-scala",
   "file_extension": ".sc",
   "mimetype": "text/x-scala",
   "name": "scala",
   "nbconvert_exporter": "script",
   "version": "2.12.15"
  }
 },
 "nbformat": 4,
 "nbformat_minor": 4
}
