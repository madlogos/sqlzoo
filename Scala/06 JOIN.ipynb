{
 "cells": [
  {
   "cell_type": "markdown",
   "metadata": {},
   "source": [
    "# The JOIN operation\n",
    "\n",
    "!(rel)(https://sqlzoo.net/w/images/c/ce/FootballERD.png)\n",
    "\n",
    "## JOIN and UEFA EURO 2012\n",
    "\n",
    "This tutorial introduces `JOIN` which allows you to use data from two or more tables. The tables contain all matches and goals from UEFA EURO 2012 Football Championship in Poland and Ukraine.\n",
    "\n",
    "The data is available (mysql format) at <http://sqlzoo.net/euro2012.sql>"
   ]
  },
  {
   "cell_type": "code",
   "execution_count": 1,
   "metadata": {},
   "outputs": [
    {
     "name": "stdout",
     "output_type": "stream",
     "text": [
      "Loading spark-stubs, spark-hive\n",
      "Adding Hive conf dir /opt/hive/conf to classpath\n",
      "Creating SparkSession\n"
     ]
    },
    {
     "name": "stderr",
     "output_type": "stream",
     "text": [
      "SLF4J: No SLF4J providers were found.\n",
      "SLF4J: Defaulting to no-operation (NOP) logger implementation\n",
      "SLF4J: See https://www.slf4j.org/codes.html#noProviders for further details.\n"
     ]
    },
    {
     "data": {
      "text/html": [
       "<a target=\"_blank\" href=\"http://jupyter:4041\">Spark UI</a>"
      ]
     },
     "metadata": {},
     "output_type": "display_data"
    },
    {
     "data": {
      "text/plain": [
       "\u001b[32mimport \u001b[39m\u001b[36m$ivy.$                                  \n",
       "\n",
       "\u001b[39m\n",
       "\u001b[32mimport \u001b[39m\u001b[36morg.apache.log4j.{Level, Logger}\n",
       "\u001b[39m\n",
       "\u001b[32mimport \u001b[39m\u001b[36morg.apache.spark._\n",
       "\u001b[39m\n",
       "\u001b[32mimport \u001b[39m\u001b[36morg.apache.spark.sql._\n",
       "\u001b[39m\n",
       "\u001b[32mimport \u001b[39m\u001b[36morg.apache.spark.sql.functions._\n",
       "\n",
       "\u001b[39m\n",
       "\u001b[36mspark\u001b[39m: \u001b[32mSparkSession\u001b[39m = org.apache.spark.sql.SparkSession@74279fa1"
      ]
     },
     "execution_count": 1,
     "metadata": {},
     "output_type": "execute_result"
    }
   ],
   "source": [
    "import $ivy.`org.apache.spark::spark-sql:3.4.0`\n",
    "\n",
    "import org.apache.log4j.{Level, Logger}\n",
    "Logger.getLogger(\"org\").setLevel(Level.OFF)\n",
    "\n",
    "import org.apache.spark._\n",
    "import org.apache.spark.sql._\n",
    "import org.apache.spark.sql.functions._\n",
    "\n",
    "val spark = {\n",
    "    NotebookSparkSession.builder()\n",
    "    .progress(false)\n",
    "    .appName(\"app06\")\n",
    "    // .master(\"spark://192.168.31.31:7077\")\n",
    "    .master(\"local[*]\")\n",
    "    .config(\"spark.sql.warehouse.dir\", \n",
    "            \"hdfs://192.168.31.31:9000/user/hive/warehouse\") \n",
    "    .config(\"spark.cores.max\", \"4\") \n",
    "    .config(\"spark.executor.instances\", \"1\") \n",
    "    .config(\"spark.executor.cores\", \"2\") \n",
    "    .config(\"spark.executor.memory\", \"10g\") \n",
    "    .config(\"spark.shuffle.service.enabled\", \"false\") \n",
    "    .config(\"spark.dynamicAllocation.enabled\", \"false\") \n",
    "    .config(\"spark.sql.catalogImplementation\", \"hive\")\n",
    "    .config(\"spark.sql.repl.eagerEval.enabled\", \"true\")\n",
    "    .config(\"spark.driver.allowMultipleContexts\", \"true\")\n",
    "    .getOrCreate()\n",
    "}"
   ]
  },
  {
   "cell_type": "code",
   "execution_count": 2,
   "metadata": {},
   "outputs": [
    {
     "data": {
      "text/plain": [
       "\u001b[32mimport \u001b[39m\u001b[36mspark.implicits._\n",
       "\u001b[39m\n",
       "defined \u001b[32mfunction\u001b[39m \u001b[36msc\u001b[39m\n",
       "\u001b[36mhiveCxt\u001b[39m: \u001b[32msql\u001b[39m.\u001b[32mhive\u001b[39m.\u001b[32mHiveContext\u001b[39m = org.apache.spark.sql.hive.HiveContext@c75b704"
      ]
     },
     "execution_count": 2,
     "metadata": {},
     "output_type": "execute_result"
    }
   ],
   "source": [
    "import spark.implicits._\n",
    "def sc = spark.sparkContext\n",
    "val hiveCxt = new org.apache.spark.sql.hive.HiveContext(sc)"
   ]
  },
  {
   "cell_type": "code",
   "execution_count": 3,
   "metadata": {},
   "outputs": [
    {
     "data": {
      "text/plain": [
       "defined \u001b[32mclass\u001b[39m \u001b[36mRichDF\u001b[39m"
      ]
     },
     "execution_count": 3,
     "metadata": {},
     "output_type": "execute_result"
    }
   ],
   "source": [
    "// Credit to Aivean\n",
    "implicit class RichDF(val ds:DataFrame) {\n",
    "    def showHTML(limit: Int = 50, truncate: Int = 100) = {\n",
    "        import xml.Utility.escape\n",
    "        val data = ds.take(limit)\n",
    "        val header = ds.schema.fieldNames.toSeq        \n",
    "        val rows: Seq[Seq[String]] = data.map { row =>\n",
    "          row.toSeq.map {cell =>\n",
    "            val str = cell match {\n",
    "              case null => \"null\"\n",
    "              case binary: Array[Byte] => binary.map(\"%02X\".format(_)).mkString(\"[\", \" \", \"]\")\n",
    "              case array: Array[_] => array.mkString(\"[\", \", \", \"]\")\n",
    "              case seq: Seq[_] => seq.mkString(\"[\", \", \", \"]\")\n",
    "              case _ => cell.toString\n",
    "            }\n",
    "            if (truncate > 0 && str.length > truncate) {\n",
    "              // do not show ellipses for strings shorter than 4 characters.\n",
    "              if (truncate < 4) str.substring(0, truncate)\n",
    "              else str.substring(0, truncate - 3) + \"...\"\n",
    "            } else {\n",
    "              str\n",
    "            }\n",
    "          }: Seq[String]\n",
    "        }\n",
    "    publish.html(s\"\"\" <table>\n",
    "                <tr>\n",
    "                 ${header.map(h => s\"<th>${escape(h)}</th>\").mkString}\n",
    "                </tr>\n",
    "                ${rows.map {row =>\n",
    "                  s\"<tr>${row.map{c => s\"<td>${escape(c)}</td>\" }.mkString}</tr>\"\n",
    "                }.mkString}\n",
    "            </table>\n",
    "        \"\"\")\n",
    "    }\n",
    "}"
   ]
  },
  {
   "cell_type": "code",
   "execution_count": 4,
   "metadata": {},
   "outputs": [
    {
     "data": {
      "text/plain": [
       "\u001b[36mgame\u001b[39m: \u001b[32mDataFrame\u001b[39m = [id: int, mdate: string ... 3 more fields]\n",
       "\u001b[36mgoal\u001b[39m: \u001b[32mDataFrame\u001b[39m = [matchid: int, teamid: string ... 2 more fields]\n",
       "\u001b[36meteam\u001b[39m: \u001b[32mDataFrame\u001b[39m = [id: string, teamname: string ... 1 more field]"
      ]
     },
     "execution_count": 4,
     "metadata": {},
     "output_type": "execute_result"
    }
   ],
   "source": [
    "val game = hiveCxt.table(\"sqlzoo.game\")\n",
    "val goal = hiveCxt.table(\"sqlzoo.goal\")\n",
    "val eteam = hiveCxt.table(\"sqlzoo.eteam\")"
   ]
  },
  {
   "cell_type": "markdown",
   "metadata": {},
   "source": [
    "## 1.\n",
    "The first example shows the goal scored by a player with the last name 'Bender'. The `*` says to list all the columns in the table - a shorter way of saying `matchid, teamid, player, gtime`\n",
    "\n",
    "**Modify it to show the matchid and player name for all goals scored by Germany. To identify German players, check for: `teamid = 'GER'`**"
   ]
  },
  {
   "cell_type": "code",
   "execution_count": 5,
   "metadata": {},
   "outputs": [
    {
     "data": {
      "text/html": [
       " <table>\n",
       "                <tr>\n",
       "                 <th>matchid</th><th>player</th>\n",
       "                </tr>\n",
       "                <tr><td>1008</td><td>Mario Gómez</td></tr><tr><td>1010</td><td>Mario Gómez</td></tr><tr><td>1010</td><td>Mario Gómez</td></tr><tr><td>1012</td><td>Lukas Podolski</td></tr><tr><td>1012</td><td>Lars Bender</td></tr><tr><td>1026</td><td>Philipp Lahm</td></tr><tr><td>1026</td><td>Sami Khedira</td></tr><tr><td>1026</td><td>Miroslav Klose</td></tr><tr><td>1026</td><td>Marco Reus</td></tr><tr><td>1030</td><td>Mesut Özil</td></tr>\n",
       "            </table>\n",
       "        "
      ]
     },
     "metadata": {},
     "output_type": "display_data"
    }
   ],
   "source": [
    "goal.filter(goal(\"teamid\")===\"GER\").select(\"matchid\", \"player\").showHTML()"
   ]
  },
  {
   "cell_type": "markdown",
   "metadata": {},
   "source": [
    "## 2.\n",
    "\n",
    "From the previous query you can see that Lars Bender's scored a goal in game 1012. Now we want to know what teams were playing in that match.\n",
    "\n",
    "Notice in the that the column `matchid `in the `goal` table corresponds to the `id` column in the `game` table. We can look up information about game 1012 by finding that row in the `game` table.\n",
    "\n",
    "**Show id, stadium, team1, team2 for just game 1012**"
   ]
  },
  {
   "cell_type": "code",
   "execution_count": 6,
   "metadata": {},
   "outputs": [
    {
     "data": {
      "text/html": [
       " <table>\n",
       "                <tr>\n",
       "                 <th>id</th><th>stadium</th><th>team1</th><th>team2</th>\n",
       "                </tr>\n",
       "                <tr><td>1012</td><td>Arena Lviv</td><td>DEN</td><td>GER</td></tr>\n",
       "            </table>\n",
       "        "
      ]
     },
     "metadata": {},
     "output_type": "display_data"
    }
   ],
   "source": [
    "game.filter(game(\"id\")===1012).select(\"id\", \"stadium\", \"team1\", \"team2\").showHTML()"
   ]
  },
  {
   "cell_type": "markdown",
   "metadata": {},
   "source": [
    "## 3.\n",
    "You can combine the two steps into a single query with a JOIN.\n",
    "\n",
    "```sql\n",
    "SELECT *\n",
    "  FROM game JOIN goal ON (id=matchid)\n",
    "```\n",
    "\n",
    "The **FROM** clause says to merge data from the goal table with that from the game table. The **ON** says how to figure out which rows in **game** go with which rows in **goal** - the **matchid** from **goal** must match **id** from **game**. (If we wanted to be more clear/specific we could say\n",
    "`ON (game.id=goal.matchid)`\n",
    "\n",
    "The code below shows the player (from the goal) and stadium name (from the game table) for every goal scored.\n",
    "\n",
    "**Modify it to show the player, teamid, stadium and mdate for every German goal.**"
   ]
  },
  {
   "cell_type": "code",
   "execution_count": 7,
   "metadata": {},
   "outputs": [
    {
     "data": {
      "text/html": [
       " <table>\n",
       "                <tr>\n",
       "                 <th>player</th><th>teamid</th><th>stadium</th><th>mdate</th>\n",
       "                </tr>\n",
       "                <tr><td>Mario Gómez</td><td>GER</td><td>Arena Lviv</td><td>9 June 2012</td></tr><tr><td>Mario Gómez</td><td>GER</td><td>Metalist Stadium</td><td>13 June 2012</td></tr><tr><td>Mario Gómez</td><td>GER</td><td>Metalist Stadium</td><td>13 June 2012</td></tr><tr><td>Lukas Podolski</td><td>GER</td><td>Arena Lviv</td><td>17 June 2012</td></tr><tr><td>Lars Bender</td><td>GER</td><td>Arena Lviv</td><td>17 June 2012</td></tr><tr><td>Philipp Lahm</td><td>GER</td><td>PGE Arena Gdansk</td><td>22 June 2012</td></tr><tr><td>Sami Khedira</td><td>GER</td><td>PGE Arena Gdansk</td><td>22 June 2012</td></tr><tr><td>Miroslav Klose</td><td>GER</td><td>PGE Arena Gdansk</td><td>22 June 2012</td></tr><tr><td>Marco Reus</td><td>GER</td><td>PGE Arena Gdansk</td><td>22 June 2012</td></tr><tr><td>Mesut Özil</td><td>GER</td><td>National Stadium, Warsaw</td><td>28 June 2012</td></tr>\n",
       "            </table>\n",
       "        "
      ]
     },
     "metadata": {},
     "output_type": "display_data"
    }
   ],
   "source": [
    "(game.join(goal, game(\"id\")===goal(\"matchid\"))\n",
    "    .filter(goal(\"teamid\")===\"GER\")\n",
    "    .select(\"player\", \"teamid\", \"stadium\", \"mdate\")\n",
    "    .showHTML())"
   ]
  },
  {
   "cell_type": "markdown",
   "metadata": {},
   "source": [
    "## 4.\n",
    "Use the same `JOIN` as in the previous question.\n",
    "\n",
    "**Show the team1, team2 and player for every goal scored by a player called Mario `player LIKE 'Mario%'`**"
   ]
  },
  {
   "cell_type": "code",
   "execution_count": 8,
   "metadata": {},
   "outputs": [
    {
     "data": {
      "text/html": [
       " <table>\n",
       "                <tr>\n",
       "                 <th>team1</th><th>team2</th><th>player</th>\n",
       "                </tr>\n",
       "                <tr><td>GER</td><td>POR</td><td>Mario Gómez</td></tr><tr><td>NED</td><td>GER</td><td>Mario Gómez</td></tr><tr><td>NED</td><td>GER</td><td>Mario Gómez</td></tr><tr><td>IRL</td><td>CRO</td><td>Mario Mandžukic</td></tr><tr><td>IRL</td><td>CRO</td><td>Mario Mandžukic</td></tr><tr><td>ITA</td><td>CRO</td><td>Mario Mandžukic</td></tr><tr><td>ITA</td><td>IRL</td><td>Mario Balotelli</td></tr><tr><td>GER</td><td>ITA</td><td>Mario Balotelli</td></tr><tr><td>GER</td><td>ITA</td><td>Mario Balotelli</td></tr>\n",
       "            </table>\n",
       "        "
      ]
     },
     "metadata": {},
     "output_type": "display_data"
    }
   ],
   "source": [
    "(game.join(goal, game(\"id\")===goal(\"matchid\"))\n",
    "    .filter(goal(\"player\").startsWith(\"Mario\"))\n",
    "    .select(\"team1\", \"team2\", \"player\").showHTML())"
   ]
  },
  {
   "cell_type": "markdown",
   "metadata": {},
   "source": [
    "## 5.\n",
    "\n",
    "The table `eteam` gives details of every national team including the coach. You can `JOIN` `goal` to `eteam` using the phrase goal `JOIN eteam on teamid=id`\n",
    "\n",
    "**Show `player, teamid, coach, gtime` for all goals scored in the first 10 minutes `gtime<=10`**"
   ]
  },
  {
   "cell_type": "code",
   "execution_count": 9,
   "metadata": {},
   "outputs": [
    {
     "data": {
      "text/html": [
       " <table>\n",
       "                <tr>\n",
       "                 <th>player</th><th>teamid</th><th>coach</th><th>gtime</th>\n",
       "                </tr>\n",
       "                <tr><td>Petr Jirácek</td><td>CZE</td><td>Michal Bílek</td><td>3</td></tr><tr><td>Václav Pilar</td><td>CZE</td><td>Michal Bílek</td><td>6</td></tr><tr><td>Mario Mandžukic</td><td>CRO</td><td>Slaven Bilic</td><td>3</td></tr><tr><td>Fernando Torres</td><td>ESP</td><td>Vicente del Bosque</td><td>4</td></tr>\n",
       "            </table>\n",
       "        "
      ]
     },
     "metadata": {},
     "output_type": "display_data"
    }
   ],
   "source": [
    "(goal.join(eteam, goal(\"teamid\")===eteam(\"id\"))\n",
    "    .filter(goal(\"gtime\") <= 10)\n",
    "    .select(\"player\", \"teamid\", \"coach\", \"gtime\")\n",
    "    .showHTML())"
   ]
  },
  {
   "cell_type": "markdown",
   "metadata": {},
   "source": [
    "## 6.\n",
    "\n",
    "To `JOIN` `game` with `eteam` you could use either\n",
    "`game JOIN eteam ON (team1=eteam.id)` or `game JOIN eteam ON (team2=eteam.id)`\n",
    "\n",
    "Notice that because `id` is a column name in both `game` and `eteam` you must specify `eteam.id` instead of just `id`\n",
    "\n",
    "**List the the dates of the matches and the name of the team in which 'Fernando Santos' was the team1 coach.**"
   ]
  },
  {
   "cell_type": "code",
   "execution_count": 10,
   "metadata": {},
   "outputs": [
    {
     "data": {
      "text/html": [
       " <table>\n",
       "                <tr>\n",
       "                 <th>mdate</th><th>teamname</th>\n",
       "                </tr>\n",
       "                <tr><td>12 June 2012</td><td>Greece</td></tr><tr><td>16 June 2012</td><td>Greece</td></tr>\n",
       "            </table>\n",
       "        "
      ]
     },
     "metadata": {},
     "output_type": "display_data"
    }
   ],
   "source": [
    "(game.join(eteam, game(\"team1\")===eteam(\"id\"))\n",
    " .filter($\"coach\"===\"Fernando Santos\")\n",
    " .select(\"mdate\", \"teamname\")\n",
    " .showHTML())"
   ]
  },
  {
   "cell_type": "markdown",
   "metadata": {},
   "source": [
    "## 7.\n",
    "\n",
    "**List the player for every goal scored in a game where the stadium was 'National Stadium, Warsaw'**"
   ]
  },
  {
   "cell_type": "code",
   "execution_count": 11,
   "metadata": {},
   "outputs": [
    {
     "data": {
      "text/html": [
       " <table>\n",
       "                <tr>\n",
       "                 <th>player</th>\n",
       "                </tr>\n",
       "                <tr><td>Robert Lewandowski</td></tr><tr><td>Dimitris Salpingidis</td></tr><tr><td>Alan Dzagoev</td></tr><tr><td>Jakub Blaszczykowski</td></tr><tr><td>Giorgos Karagounis</td></tr><tr><td>Cristiano Ronaldo</td></tr><tr><td>Mario Balotelli</td></tr><tr><td>Mario Balotelli</td></tr><tr><td>Mesut Özil</td></tr>\n",
       "            </table>\n",
       "        "
      ]
     },
     "metadata": {},
     "output_type": "display_data"
    }
   ],
   "source": [
    "(goal.join(game, goal(\"matchid\")===game(\"id\"))\n",
    " .filter($\"stadium\"===\"National Stadium, Warsaw\")\n",
    " .select(\"player\").showHTML())"
   ]
  },
  {
   "cell_type": "markdown",
   "metadata": {},
   "source": [
    "## 8. More difficult questions\n",
    "\n",
    "The example query shows all goals scored in the Germany-Greece quarterfinal.\n",
    "**Instead show the name of all players who scored a goal against Germany.**\n",
    "\n",
    "> __HINT__   \n",
    "> Select goals scored only by non-German players in matches where GER was the id of either **team1** or **team2**.\n",
    "> You can use `teamid!=\"GER\"` to prevent listing German players.\n",
    "> You can use `DISTINCT` to stop players being listed twice."
   ]
  },
  {
   "cell_type": "code",
   "execution_count": 12,
   "metadata": {},
   "outputs": [
    {
     "data": {
      "text/html": [
       " <table>\n",
       "                <tr>\n",
       "                 <th>player</th>\n",
       "                </tr>\n",
       "                <tr><td>Michael Krohn-Dehli</td></tr><tr><td>Robin van Persie</td></tr><tr><td>Mario Balotelli</td></tr><tr><td>Dimitris Salpingidis</td></tr><tr><td>Georgios Samaras</td></tr>\n",
       "            </table>\n",
       "        "
      ]
     },
     "metadata": {},
     "output_type": "display_data"
    }
   ],
   "source": [
    "(game.join(goal, game(\"id\")===goal(\"matchid\"))\n",
    " .filter((($\"team1\" === \"GER\") || ($\"team2\" === \"GER\")) && \n",
    "         ($\"teamid\" !== \"GER\"))\n",
    " .select(\"player\")\n",
    " .distinct()\n",
    " .showHTML())"
   ]
  },
  {
   "cell_type": "markdown",
   "metadata": {},
   "source": [
    "## 9.\n",
    "Show teamname and the total number of goals scored.\n",
    "\n",
    "> __COUNT and GROUP BY__  \n",
    "> You should COUNT(*) in the SELECT line and GROUP BY teamname"
   ]
  },
  {
   "cell_type": "code",
   "execution_count": 13,
   "metadata": {},
   "outputs": [
    {
     "data": {
      "text/html": [
       " <table>\n",
       "                <tr>\n",
       "                 <th>teamname</th><th>count</th>\n",
       "                </tr>\n",
       "                <tr><td>Russia</td><td>5</td></tr><tr><td>Sweden</td><td>5</td></tr><tr><td>Germany</td><td>10</td></tr><tr><td>France</td><td>3</td></tr><tr><td>Greece</td><td>5</td></tr><tr><td>Croatia</td><td>4</td></tr><tr><td>Italy</td><td>6</td></tr><tr><td>Spain</td><td>12</td></tr><tr><td>Denmark</td><td>4</td></tr><tr><td>Ukraine</td><td>2</td></tr><tr><td>Czech Republic</td><td>4</td></tr><tr><td>Republic of Ireland</td><td>1</td></tr><tr><td>England</td><td>5</td></tr><tr><td>Poland</td><td>2</td></tr><tr><td>Portugal</td><td>6</td></tr><tr><td>Netherlands</td><td>2</td></tr>\n",
       "            </table>\n",
       "        "
      ]
     },
     "metadata": {},
     "output_type": "display_data"
    }
   ],
   "source": [
    "(eteam.join(goal, eteam(\"id\")===goal(\"teamid\"))\n",
    " .select(\"teamname\", \"player\")\n",
    " .groupBy(\"teamname\")\n",
    " .count()\n",
    " .showHTML())"
   ]
  },
  {
   "cell_type": "markdown",
   "metadata": {},
   "source": [
    "## 10.\n",
    "\n",
    "**Show the stadium and the number of goals scored in each stadium.**"
   ]
  },
  {
   "cell_type": "code",
   "execution_count": 14,
   "metadata": {},
   "outputs": [
    {
     "data": {
      "text/html": [
       " <table>\n",
       "                <tr>\n",
       "                 <th>stadium</th><th>count</th>\n",
       "                </tr>\n",
       "                <tr><td>Metalist Stadium</td><td>7</td></tr><tr><td>Arena Lviv</td><td>9</td></tr><tr><td>Stadion Miejski (Poznan)</td><td>8</td></tr><tr><td>Donbass Arena</td><td>7</td></tr><tr><td>Stadion Miejski (Wroclaw)</td><td>9</td></tr><tr><td>Olimpiyskiy National Sports Complex</td><td>14</td></tr><tr><td>National Stadium, Warsaw</td><td>9</td></tr><tr><td>PGE Arena Gdansk</td><td>13</td></tr>\n",
       "            </table>\n",
       "        "
      ]
     },
     "metadata": {},
     "output_type": "display_data"
    }
   ],
   "source": [
    "(game.join(goal, game(\"id\")===goal(\"matchid\"))\n",
    " .select(\"stadium\", \"player\")\n",
    " .groupBy(\"stadium\")\n",
    " .count()\n",
    " .showHTML())"
   ]
  },
  {
   "cell_type": "markdown",
   "metadata": {},
   "source": [
    "## 11.\n",
    "**For every match involving 'POL', show the matchid, date and the number of goals scored.**"
   ]
  },
  {
   "cell_type": "code",
   "execution_count": 15,
   "metadata": {},
   "outputs": [
    {
     "data": {
      "text/html": [
       " <table>\n",
       "                <tr>\n",
       "                 <th>matchid</th><th>mdate</th><th>count</th>\n",
       "                </tr>\n",
       "                <tr><td>1004</td><td>12 June 2012</td><td>2</td></tr><tr><td>1001</td><td>8 June 2012</td><td>2</td></tr><tr><td>1005</td><td>16 June 2012</td><td>1</td></tr>\n",
       "            </table>\n",
       "        "
      ]
     },
     "metadata": {},
     "output_type": "display_data"
    }
   ],
   "source": [
    "(game.join(goal, game(\"id\")===goal(\"matchid\"))\n",
    " .filter($\"team1\"===\"POL\" || $\"team2\"===\"POL\")\n",
    " .select(\"matchid\", \"mdate\", \"player\")\n",
    " .groupBy(\"matchid\", \"mdate\")\n",
    " .count()\n",
    " .showHTML())"
   ]
  },
  {
   "cell_type": "markdown",
   "metadata": {},
   "source": [
    "## 12.\n",
    "**For every match where 'GER' scored, show matchid, match date and the number of goals scored by 'GER'**"
   ]
  },
  {
   "cell_type": "code",
   "execution_count": 16,
   "metadata": {},
   "outputs": [
    {
     "data": {
      "text/html": [
       " <table>\n",
       "                <tr>\n",
       "                 <th>matchid</th><th>mdate</th><th>count</th>\n",
       "                </tr>\n",
       "                <tr><td>1012</td><td>17 June 2012</td><td>2</td></tr><tr><td>1010</td><td>13 June 2012</td><td>2</td></tr><tr><td>1030</td><td>28 June 2012</td><td>1</td></tr><tr><td>1026</td><td>22 June 2012</td><td>4</td></tr><tr><td>1008</td><td>9 June 2012</td><td>1</td></tr>\n",
       "            </table>\n",
       "        "
      ]
     },
     "metadata": {},
     "output_type": "display_data"
    }
   ],
   "source": [
    "(game.join(goal, game(\"id\")===goal(\"matchid\"))\n",
    " .filter($\"teamid\"===\"GER\")\n",
    " .select(\"matchid\", \"mdate\", \"player\")\n",
    " .groupBy(\"matchid\", \"mdate\")\n",
    " .count()\n",
    " .showHTML())"
   ]
  },
  {
   "cell_type": "markdown",
   "metadata": {},
   "source": [
    "## 13.\n",
    "List every match with the goals scored by each team as shown. This will use \"CASE WHEN\" which has not been explained in any previous exercises.\n",
    "\n",
    "no  | mdate      | team1  | score1 | team2 | score2\n",
    "----|------------|--------|--------|-------|--------\n",
    "1   | July 2012  | ESP    | 4      | ITA   | 0\n",
    "10  | June 2012  | ESP    | 1      | ITA   | 1\n",
    "10  | June 2012  | IRL    | 1      | CRO   | 3\n",
    "... | ...        | ...    | ...    | ...   | ...\n",
    "\n",
    "Notice in the query given every goal is listed. If it was a team1 goal then a 1 appears in score1, otherwise there is a 0. You could SUM this column to get a count of the goals scored by team1. **Sort your result by mdate, matchid, team1 and team2.**"
   ]
  },
  {
   "cell_type": "code",
   "execution_count": 17,
   "metadata": {},
   "outputs": [
    {
     "data": {
      "text/html": [
       " <table>\n",
       "                <tr>\n",
       "                 <th>mdate</th><th>team1</th><th>score1</th><th>team2</th><th>score2</th>\n",
       "                </tr>\n",
       "                <tr><td>1 July 2012</td><td>ESP</td><td>4</td><td>ITA</td><td>0</td></tr><tr><td>10 June 2012</td><td>ESP</td><td>1</td><td>ITA</td><td>1</td></tr><tr><td>10 June 2012</td><td>IRL</td><td>1</td><td>CRO</td><td>3</td></tr><tr><td>11 June 2012</td><td>FRA</td><td>1</td><td>ENG</td><td>1</td></tr><tr><td>11 June 2012</td><td>UKR</td><td>2</td><td>SWE</td><td>1</td></tr><tr><td>12 June 2012</td><td>GRE</td><td>1</td><td>CZE</td><td>2</td></tr><tr><td>12 June 2012</td><td>POL</td><td>1</td><td>RUS</td><td>1</td></tr><tr><td>13 June 2012</td><td>DEN</td><td>2</td><td>POR</td><td>3</td></tr><tr><td>13 June 2012</td><td>NED</td><td>1</td><td>GER</td><td>2</td></tr><tr><td>14 June 2012</td><td>ITA</td><td>1</td><td>CRO</td><td>1</td></tr><tr><td>14 June 2012</td><td>ESP</td><td>4</td><td>IRL</td><td>0</td></tr><tr><td>15 June 2012</td><td>UKR</td><td>0</td><td>FRA</td><td>2</td></tr><tr><td>15 June 2012</td><td>SWE</td><td>2</td><td>ENG</td><td>3</td></tr><tr><td>16 June 2012</td><td>CZE</td><td>1</td><td>POL</td><td>0</td></tr><tr><td>16 June 2012</td><td>GRE</td><td>1</td><td>RUS</td><td>0</td></tr><tr><td>17 June 2012</td><td>POR</td><td>2</td><td>NED</td><td>1</td></tr><tr><td>17 June 2012</td><td>DEN</td><td>1</td><td>GER</td><td>2</td></tr><tr><td>18 June 2012</td><td>CRO</td><td>0</td><td>ESP</td><td>1</td></tr><tr><td>18 June 2012</td><td>ITA</td><td>2</td><td>IRL</td><td>0</td></tr><tr><td>19 June 2012</td><td>ENG</td><td>1</td><td>UKR</td><td>0</td></tr><tr><td>19 June 2012</td><td>SWE</td><td>2</td><td>FRA</td><td>0</td></tr><tr><td>21 June 2012</td><td>CZE</td><td>0</td><td>POR</td><td>1</td></tr><tr><td>22 June 2012</td><td>GER</td><td>4</td><td>GRE</td><td>2</td></tr><tr><td>23 June 2012</td><td>ESP</td><td>2</td><td>FRA</td><td>0</td></tr><tr><td>24 June 2012</td><td>ENG</td><td>0</td><td>ITA</td><td>0</td></tr><tr><td>27 June 2012</td><td>POR</td><td>0</td><td>ESP</td><td>0</td></tr><tr><td>28 June 2012</td><td>GER</td><td>1</td><td>ITA</td><td>2</td></tr><tr><td>8 June 2012</td><td>POL</td><td>1</td><td>GRE</td><td>1</td></tr><tr><td>8 June 2012</td><td>RUS</td><td>4</td><td>CZE</td><td>1</td></tr><tr><td>9 June 2012</td><td>NED</td><td>0</td><td>DEN</td><td>1</td></tr><tr><td>9 June 2012</td><td>GER</td><td>1</td><td>POR</td><td>0</td></tr>\n",
       "            </table>\n",
       "        "
      ]
     },
     "metadata": {},
     "output_type": "display_data"
    },
    {
     "data": {
      "text/plain": [
       "\u001b[36ms\u001b[39m: \u001b[32mDataFrame\u001b[39m = [matchid: int, teamid: string ... 1 more field]\n",
       "\u001b[36ma\u001b[39m: \u001b[32mDataset\u001b[39m[\u001b[32mRow\u001b[39m] = [id: int, mdate: string ... 4 more fields]"
      ]
     },
     "execution_count": 17,
     "metadata": {},
     "output_type": "execute_result"
    }
   ],
   "source": [
    "// sc.conf.set(\"spark.sql.crossJoin.enabled\", \"true\")\n",
    "val s = (goal.select(\"matchid\", \"teamid\", \"player\")\n",
    "         .groupBy(\"matchid\", \"teamid\")\n",
    "         .count())\n",
    "\n",
    "val a = (game.join(s, (game(\"id\")===s(\"matchid\") && \n",
    "                       game(\"team1\")===s(\"teamid\")), joinType=\"left\")\n",
    "         .drop(\"teamid\", \"matchid\")\n",
    "         .withColumnRenamed(\"count\", \"score1\").alias(\"a\"))\n",
    "(a.join(s, (a(\"id\")===s(\"matchid\") && a(\"team2\")===s(\"teamid\")), joinType=\"left\")\n",
    " .drop(\"matchid\", \"teamid\")\n",
    " .withColumnRenamed(\"count\", \"score2\")\n",
    " .select(\"mdate\", \"team1\", \"score1\", \"team2\", \"score2\")\n",
    " .na.fill(Map(\"score1\" -> 0, \"score2\" -> 0))\n",
    " .orderBy(\"mdate\")\n",
    " .showHTML())"
   ]
  },
  {
   "cell_type": "code",
   "execution_count": 18,
   "metadata": {},
   "outputs": [],
   "source": [
    "spark.stop()"
   ]
  },
  {
   "cell_type": "code",
   "execution_count": null,
   "metadata": {},
   "outputs": [],
   "source": []
  }
 ],
 "metadata": {
  "kernelspec": {
   "display_name": "Scala",
   "language": "scala",
   "name": "scala"
  },
  "language_info": {
   "codemirror_mode": "text/x-scala",
   "file_extension": ".sc",
   "mimetype": "text/x-scala",
   "name": "scala",
   "nbconvert_exporter": "script",
   "version": "2.12.15"
  }
 },
 "nbformat": 4,
 "nbformat_minor": 4
}
