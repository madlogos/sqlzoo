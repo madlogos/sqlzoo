{
 "cells": [
  {
   "cell_type": "markdown",
   "metadata": {},
   "source": [
    "# Musicians- Medium"
   ]
  },
  {
   "cell_type": "code",
   "execution_count": 1,
   "metadata": {},
   "outputs": [
    {
     "name": "stdout",
     "output_type": "stream",
     "text": [
      "Loading spark-stubs, spark-hive\n",
      "Adding Hive conf dir /opt/hive/conf to classpath\n",
      "Creating SparkSession\n"
     ]
    },
    {
     "name": "stderr",
     "output_type": "stream",
     "text": [
      "SLF4J: No SLF4J providers were found.\n",
      "SLF4J: Defaulting to no-operation (NOP) logger implementation\n",
      "SLF4J: See https://www.slf4j.org/codes.html#noProviders for further details.\n"
     ]
    },
    {
     "data": {
      "text/html": [
       "<a target=\"_blank\" href=\"http://jupyter:4040\">Spark UI</a>"
      ]
     },
     "metadata": {},
     "output_type": "display_data"
    },
    {
     "data": {
      "text/plain": [
       "\u001b[32mimport \u001b[39m\u001b[36m$ivy.$                                  \n",
       "\n",
       "\u001b[39m\n",
       "\u001b[32mimport \u001b[39m\u001b[36morg.apache.log4j.{Level, Logger}\n",
       "\u001b[39m\n",
       "\u001b[32mimport \u001b[39m\u001b[36morg.apache.spark._\n",
       "\u001b[39m\n",
       "\u001b[32mimport \u001b[39m\u001b[36morg.apache.spark.sql._\n",
       "\u001b[39m\n",
       "\u001b[32mimport \u001b[39m\u001b[36morg.apache.spark.sql.types._\n",
       "\u001b[39m\n",
       "\u001b[32mimport \u001b[39m\u001b[36morg.apache.spark.sql.functions._\n",
       "\u001b[39m\n",
       "\u001b[32mimport \u001b[39m\u001b[36morg.apache.spark.sql.expressions.Window\n",
       "\n",
       "\u001b[39m\n",
       "\u001b[36mspark\u001b[39m: \u001b[32mSparkSession\u001b[39m = org.apache.spark.sql.SparkSession@30980cc3"
      ]
     },
     "execution_count": 1,
     "metadata": {},
     "output_type": "execute_result"
    }
   ],
   "source": [
    "import $ivy.`org.apache.spark::spark-sql:3.4.0`\n",
    "\n",
    "import org.apache.log4j.{Level, Logger}\n",
    "Logger.getLogger(\"org\").setLevel(Level.OFF)\n",
    "\n",
    "import org.apache.spark._\n",
    "import org.apache.spark.sql._\n",
    "import org.apache.spark.sql.types._\n",
    "import org.apache.spark.sql.functions._\n",
    "import org.apache.spark.sql.expressions.Window\n",
    "\n",
    "val spark = {\n",
    "    NotebookSparkSession.builder()\n",
    "    .progress(false)\n",
    "    .appName(\"app16-2\")\n",
    "    // .master(\"spark://192.168.31.31:7077\")\n",
    "    .master(\"local[*]\")\n",
    "    .config(\"spark.sql.warehouse.dir\", \n",
    "            \"hdfs://192.168.31.31:9000/user/hive/warehouse\") \n",
    "    .config(\"spark.cores.max\", \"4\") \n",
    "    .config(\"spark.executor.instances\", \"1\") \n",
    "    .config(\"spark.executor.cores\", \"2\") \n",
    "    .config(\"spark.executor.memory\", \"10g\") \n",
    "    .config(\"spark.shuffle.service.enabled\", \"false\") \n",
    "    .config(\"spark.dynamicAllocation.enabled\", \"false\") \n",
    "    .config(\"spark.sql.catalogImplementation\", \"hive\")\n",
    "    .config(\"spark.sql.repl.eagerEval.enabled\", \"true\")\n",
    "    .config(\"spark.driver.allowMultipleContexts\", \"true\")\n",
    "    .getOrCreate()\n",
    "}"
   ]
  },
  {
   "cell_type": "code",
   "execution_count": 2,
   "metadata": {},
   "outputs": [
    {
     "data": {
      "text/plain": [
       "\u001b[32mimport \u001b[39m\u001b[36mspark.implicits._\n",
       "\u001b[39m\n",
       "\u001b[32mimport \u001b[39m\u001b[36mspark.sqlContext.implicits._\n",
       "\u001b[39m\n",
       "defined \u001b[32mfunction\u001b[39m \u001b[36msc\u001b[39m\n",
       "\u001b[36mhiveCxt\u001b[39m: \u001b[32msql\u001b[39m.\u001b[32mhive\u001b[39m.\u001b[32mHiveContext\u001b[39m = org.apache.spark.sql.hive.HiveContext@545a8cd7"
      ]
     },
     "execution_count": 2,
     "metadata": {},
     "output_type": "execute_result"
    }
   ],
   "source": [
    "import spark.implicits._\n",
    "import spark.sqlContext.implicits._\n",
    "def sc = spark.sparkContext\n",
    "val hiveCxt = new org.apache.spark.sql.hive.HiveContext(sc)"
   ]
  },
  {
   "cell_type": "code",
   "execution_count": 3,
   "metadata": {},
   "outputs": [
    {
     "data": {
      "text/plain": [
       "defined \u001b[32mclass\u001b[39m \u001b[36mRichDF\u001b[39m"
      ]
     },
     "execution_count": 3,
     "metadata": {},
     "output_type": "execute_result"
    }
   ],
   "source": [
    "// Credit to Aivean\n",
    "implicit class RichDF(val ds:DataFrame) {\n",
    "    def showHTML(limit: Int = 50, truncate: Int = 100) = {\n",
    "        import xml.Utility.escape\n",
    "        val data = ds.take(limit)\n",
    "        val header = ds.schema.fieldNames.toSeq        \n",
    "        val rows: Seq[Seq[String]] = data.map { row =>\n",
    "          row.toSeq.map {cell =>\n",
    "            val str = cell match {\n",
    "              case null => \"null\"\n",
    "              case binary: Array[Byte] => binary.map(\"%02X\".format(_)).mkString(\"[\", \" \", \"]\")\n",
    "              case array: Array[_] => array.mkString(\"[\", \", \", \"]\")\n",
    "              case seq: Seq[_] => seq.mkString(\"[\", \", \", \"]\")\n",
    "              case _ => cell.toString\n",
    "            }\n",
    "            if (truncate > 0 && str.length > truncate) {\n",
    "              // do not show ellipses for strings shorter than 4 characters.\n",
    "              if (truncate < 4) str.substring(0, truncate)\n",
    "              else str.substring(0, truncate - 3) + \"...\"\n",
    "            } else {\n",
    "              str\n",
    "            }\n",
    "          }: Seq[String]\n",
    "        }\n",
    "    publish.html(s\"\"\" <table>\n",
    "                <tr>\n",
    "                 ${header.map(h => s\"<th>${escape(h)}</th>\").mkString}\n",
    "                </tr>\n",
    "                ${rows.map {row =>\n",
    "                  s\"<tr>${row.map{c => s\"<td>${escape(c)}</td>\" }.mkString}</tr>\"\n",
    "                }.mkString}\n",
    "            </table>\n",
    "        \"\"\")\n",
    "    }\n",
    "}"
   ]
  },
  {
   "cell_type": "code",
   "execution_count": 4,
   "metadata": {},
   "outputs": [
    {
     "data": {
      "text/plain": [
       "\u001b[36mband\u001b[39m: \u001b[32mDataFrame\u001b[39m = [band_no: int, band_name: string ... 4 more fields]\n",
       "\u001b[36mcomposer\u001b[39m: \u001b[32mDataFrame\u001b[39m = [comp_no: int, comp_is: int ... 1 more field]\n",
       "\u001b[36mcomposition\u001b[39m: \u001b[32mDataFrame\u001b[39m = [c_no: int, comp_date: string ... 2 more fields]\n",
       "\u001b[36mconcert\u001b[39m: \u001b[32mDataFrame\u001b[39m = [concert_no: int, concert_venue: string ... 3 more fields]\n",
       "\u001b[36mhas_composed\u001b[39m: \u001b[32mDataFrame\u001b[39m = [cmpr_no: int, cmpn_no: int]\n",
       "\u001b[36mmusician\u001b[39m: \u001b[32mDataFrame\u001b[39m = [m_no: int, m_name: string ... 4 more fields]\n",
       "\u001b[36mperformance\u001b[39m: \u001b[32mDataFrame\u001b[39m = [pfrmnc_no: int, gave: int ... 3 more fields]\n",
       "\u001b[36mperformer\u001b[39m: \u001b[32mDataFrame\u001b[39m = [perf_no: int, perf_is: int ... 2 more fields]\n",
       "\u001b[36mplace\u001b[39m: \u001b[32mDataFrame\u001b[39m = [place_no: int, place_town: string ... 1 more field]\n",
       "\u001b[36mplays_in\u001b[39m: \u001b[32mDataFrame\u001b[39m = [player: int, band_id: int]"
      ]
     },
     "execution_count": 4,
     "metadata": {},
     "output_type": "execute_result"
    }
   ],
   "source": [
    "val band = hiveCxt.table(\"sqlzoo.band\")\n",
    "val composer = hiveCxt.table(\"sqlzoo.composer\")\n",
    "val composition = hiveCxt.table(\"sqlzoo.composition\")\n",
    "val concert = hiveCxt.table(\"sqlzoo.concert\")\n",
    "val has_composed = hiveCxt.table(\"sqlzoo.has_composed\")\n",
    "val musician = hiveCxt.table(\"sqlzoo.musician\")\n",
    "val performance = hiveCxt.table(\"sqlzoo.performance\")\n",
    "val performer = hiveCxt.table(\"sqlzoo.performer\")\n",
    "val place = hiveCxt.table(\"sqlzoo.place\")\n",
    "val plays_in = hiveCxt.table(\"sqlzoo.plays_in\")"
   ]
  },
  {
   "cell_type": "markdown",
   "metadata": {},
   "source": [
    "## 6.\n",
    "**List the names, dates of birth and the instrument played of living musicians who play a instrument which Theo also plays.**"
   ]
  },
  {
   "cell_type": "code",
   "execution_count": 5,
   "metadata": {},
   "outputs": [
    {
     "data": {
      "text/html": [
       " <table>\n",
       "                <tr>\n",
       "                 <th>m_name</th><th>born</th><th>instrument</th>\n",
       "                </tr>\n",
       "                <tr><td>Harry Forte</td><td>1951-02-28</td><td>drums</td></tr><tr><td>Harry Forte</td><td>1951-02-28</td><td>violin</td></tr><tr><td>James First</td><td>1965-06-10</td><td>violin</td></tr><tr><td>Jeff Dawn</td><td>1945-12-12</td><td>violin</td></tr><tr><td>John Smith</td><td>1950-03-03</td><td>violin</td></tr>\n",
       "            </table>\n",
       "        "
      ]
     },
     "metadata": {},
     "output_type": "display_data"
    }
   ],
   "source": [
    "(musician.filter((musician(\"died\").isNull) && \n",
    "                 (! musician(\"m_name\").like(\"Theo%\")))\n",
    " .join(performer, (musician(\"m_no\") === col(\"perf_is\")))\n",
    " .join(musician.filter(musician(\"m_name\").like(\"Theo%\"))\n",
    "        .join(performer, (musician(\"m_no\") === performer(\"perf_is\")))\n",
    "        .select(\"instrument\"), \"instrument\")\n",
    " .select(\"m_name\", \"born\", \"instrument\")\n",
    " .orderBy(\"m_name\")\n",
    " .showHTML())"
   ]
  },
  {
   "cell_type": "markdown",
   "metadata": {},
   "source": [
    "## 7.\n",
    "**List the name and the number of players for the band whose number of players is greater than the average number of players in each band.**"
   ]
  },
  {
   "cell_type": "code",
   "execution_count": 6,
   "metadata": {},
   "outputs": [
    {
     "data": {
      "text/html": [
       " <table>\n",
       "                <tr>\n",
       "                 <th>band_name</th><th>n_mbr</th>\n",
       "                </tr>\n",
       "                <tr><td>ROP</td><td>7</td></tr><tr><td>AASO</td><td>7</td></tr><tr><td>Oh well</td><td>5</td></tr>\n",
       "            </table>\n",
       "        "
      ]
     },
     "metadata": {},
     "output_type": "display_data"
    }
   ],
   "source": [
    "(band.join(plays_in, (band(\"band_no\") === plays_in(\"band_id\")))\n",
    " .join(performer, (plays_in(\"player\") === performer(\"perf_no\")))\n",
    " .select(\"band_name\", \"perf_is\")\n",
    " .distinct()\n",
    " .groupBy(\"band_name\")\n",
    " .agg(count(\"perf_is\").alias(\"n_mbr\"))\n",
    " .withColumn(\"avg_mbr\", avg(\"n_mbr\").over(Window.partitionBy(lit(0))))\n",
    " .filter(col(\"n_mbr\") > col(\"avg_mbr\"))\n",
    " .select(\"band_name\", \"n_mbr\")\n",
    " .showHTML())"
   ]
  },
  {
   "cell_type": "markdown",
   "metadata": {},
   "source": [
    "## 8.\n",
    "**List the names of musicians who both conduct and compose and live in Britain.**"
   ]
  },
  {
   "cell_type": "code",
   "execution_count": 7,
   "metadata": {},
   "outputs": [
    {
     "data": {
      "text/html": [
       " <table>\n",
       "                <tr>\n",
       "                 <th>m_name</th>\n",
       "                </tr>\n",
       "                <tr><td>Fred Bloggs</td></tr><tr><td>Jeff Dawn</td></tr><tr><td>Phil Hot</td></tr><tr><td>Rose Spring</td></tr><tr><td>Tony Smythe</td></tr>\n",
       "            </table>\n",
       "        "
      ]
     },
     "metadata": {},
     "output_type": "display_data"
    }
   ],
   "source": [
    "(musician.join(composer, (musician(\"m_no\") === composer(\"comp_is\")))\n",
    " .join(place.filter(place(\"place_country\").isin(List(\"England\", \"Scotland\"): _*)), \n",
    "       (musician(\"living_in\") === place(\"place_no\")))\n",
    " .join(performance, (musician(\"m_no\") === performance(\"conducted_by\")))\n",
    " .select(\"m_name\")\n",
    " .distinct()\n",
    " .orderBy(\"m_name\")\n",
    " .showHTML())"
   ]
  },
  {
   "cell_type": "markdown",
   "metadata": {},
   "source": [
    "## 9.\n",
    "**Show the least commonly played instrument and the number of musicians who play it.**"
   ]
  },
  {
   "cell_type": "code",
   "execution_count": 8,
   "metadata": {},
   "outputs": [
    {
     "data": {
      "text/html": [
       " <table>\n",
       "                <tr>\n",
       "                 <th>instrument</th><th>n_musician</th>\n",
       "                </tr>\n",
       "                <tr><td>clarinet</td><td>1</td></tr>\n",
       "            </table>\n",
       "        "
      ]
     },
     "metadata": {},
     "output_type": "display_data"
    }
   ],
   "source": [
    "(performer.join(plays_in, (performer(\"perf_no\") === plays_in(\"player\")))\n",
    " .join(performance, (plays_in(\"band_id\") === performance(\"gave\")))\n",
    " .groupBy(\"instrument\")\n",
    " .agg(count(\"perf_no\").alias(\"n_musician\"))\n",
    " .orderBy(\"n_musician\")\n",
    " .limit(1)\n",
    " .showHTML())"
   ]
  },
  {
   "cell_type": "markdown",
   "metadata": {},
   "source": [
    "## 10.\n",
    "**List the bands that have played music composed by Sue Little; Give the titles of the composition in each case.**"
   ]
  },
  {
   "cell_type": "code",
   "execution_count": 9,
   "metadata": {},
   "outputs": [
    {
     "data": {
      "text/html": [
       " <table>\n",
       "                <tr>\n",
       "                 <th>band_name</th><th>c_title</th>\n",
       "                </tr>\n",
       "                <tr><td>BBSO</td><td>Slow Song</td></tr><tr><td>BBSO</td><td>Slow Symphony Blowing</td></tr><tr><td>Somebody Loves this</td><td>Slow Symphony Blowing</td></tr><tr><td>Swinging strings</td><td>Slow Song</td></tr><tr><td>The left Overs</td><td>Slow Song</td></tr>\n",
       "            </table>\n",
       "        "
      ]
     },
     "metadata": {},
     "output_type": "display_data"
    }
   ],
   "source": [
    "(composition\n",
    " .join(has_composed, (composition(\"c_no\") === has_composed(\"cmpn_no\")))\n",
    " .join(composer, (has_composed(\"cmpr_no\") === composer(\"comp_no\")))\n",
    " .join(musician.filter(musician(\"m_name\") === \"Sue Little\"),\n",
    "       (composer(\"comp_is\") === musician(\"m_no\")))\n",
    " .select(\"c_no\", \"c_title\")\n",
    " .join(performance, (col(\"c_no\") === performance(\"performed\")))\n",
    " .join(band, (performance(\"gave\") === band(\"band_no\")))\n",
    " .select(\"band_name\", \"c_title\")\n",
    " .orderBy(\"band_name\")\n",
    " .showHTML())"
   ]
  },
  {
   "cell_type": "code",
   "execution_count": 10,
   "metadata": {},
   "outputs": [],
   "source": [
    "spark.stop()"
   ]
  },
  {
   "cell_type": "code",
   "execution_count": null,
   "metadata": {},
   "outputs": [],
   "source": []
  }
 ],
 "metadata": {
  "kernelspec": {
   "display_name": "Scala",
   "language": "scala",
   "name": "scala"
  },
  "language_info": {
   "codemirror_mode": "text/x-scala",
   "file_extension": ".sc",
   "mimetype": "text/x-scala",
   "name": "scala",
   "nbconvert_exporter": "script",
   "version": "2.12.15"
  }
 },
 "nbformat": 4,
 "nbformat_minor": 4
}
