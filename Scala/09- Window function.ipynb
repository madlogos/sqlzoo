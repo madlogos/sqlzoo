{
 "cells": [
  {
   "cell_type": "markdown",
   "metadata": {},
   "source": [
    "# Window functions\n",
    "\n",
    "General Elections were held in the UK in 2015 and 2017. Every citizen votes in a constituency. The candidate who gains the most votes becomes MP for that constituency.\n",
    "\n",
    "All these results are recorded in a table ge\n",
    "\n",
    "yr\t| firstName\t| lastName\t| constituency\t| party\t| votes\n",
    "---:|-----------|-----------|---------------|-------|------:\n",
    "2015\t| Ian\t| Murray\t| S14000024\t| Labour\t| 19293\n",
    "2015\t| Neil\t| Hay\t| S14000024\t| Scottish National Party\t| 16656\n",
    "2015\t| Miles\t| Briggs\t| S14000024\t| Conservative | 8626\n",
    "2015\t| Phyl\t| Meyer\t| S14000024\t| Green\t| 2090\n",
    "2015\t| Pramod\t| Subbaraman\t| S14000024\t| Liberal Democrat\t| 1823\n",
    "2015\t| Paul\t| Marshall\t| S14000024\t| UK Independence Party\t | 601\n",
    "2015\t| Colin\t| Fox\t| S14000024\t| Scottish Socialist Party\t| 197\n",
    "2017\t| Ian\t| MURRAY\t| S14000024\t| Labour\t| 26269\n",
    "2017\t| Jim\t| EADIE\t| S14000024\t| SNP\t| 10755\n",
    "2017\t| Stephanie Jane Harley\t| SMITH\t| S14000024\t| Conservative\t| 9428\n",
    "2017\t| Alan Christopher\t| BEAL\t| S14000024\t| Liberal Democrats\t| 1388\n"
   ]
  },
  {
   "cell_type": "code",
   "execution_count": 1,
   "metadata": {},
   "outputs": [
    {
     "name": "stdout",
     "output_type": "stream",
     "text": [
      "Loading spark-stubs, spark-hive\n",
      "Adding Hive conf dir /opt/hive/conf to classpath\n",
      "Creating SparkSession\n"
     ]
    },
    {
     "name": "stderr",
     "output_type": "stream",
     "text": [
      "SLF4J: No SLF4J providers were found.\n",
      "SLF4J: Defaulting to no-operation (NOP) logger implementation\n",
      "SLF4J: See https://www.slf4j.org/codes.html#noProviders for further details.\n"
     ]
    },
    {
     "data": {
      "text/html": [
       "<a target=\"_blank\" href=\"http://jupyter:4040\">Spark UI</a>"
      ]
     },
     "metadata": {},
     "output_type": "display_data"
    },
    {
     "data": {
      "text/plain": [
       "\u001b[32mimport \u001b[39m\u001b[36m$ivy.$                                  \n",
       "\n",
       "\u001b[39m\n",
       "\u001b[32mimport \u001b[39m\u001b[36morg.apache.log4j.{Level, Logger}\n",
       "\u001b[39m\n",
       "\u001b[32mimport \u001b[39m\u001b[36morg.apache.spark._\n",
       "\u001b[39m\n",
       "\u001b[32mimport \u001b[39m\u001b[36morg.apache.spark.sql._\n",
       "\u001b[39m\n",
       "\u001b[32mimport \u001b[39m\u001b[36morg.apache.spark.sql.functions._\n",
       "\u001b[39m\n",
       "\u001b[32mimport \u001b[39m\u001b[36morg.apache.spark.sql.expressions.Window\n",
       "\n",
       "\u001b[39m\n",
       "\u001b[36mspark\u001b[39m: \u001b[32mSparkSession\u001b[39m = org.apache.spark.sql.SparkSession@79fe4a49"
      ]
     },
     "execution_count": 1,
     "metadata": {},
     "output_type": "execute_result"
    }
   ],
   "source": [
    "import $ivy.`org.apache.spark::spark-sql:3.4.0`\n",
    "\n",
    "import org.apache.log4j.{Level, Logger}\n",
    "Logger.getLogger(\"org\").setLevel(Level.OFF)\n",
    "\n",
    "import org.apache.spark._\n",
    "import org.apache.spark.sql._\n",
    "import org.apache.spark.sql.functions._\n",
    "import org.apache.spark.sql.expressions.Window\n",
    "\n",
    "val spark = {\n",
    "    NotebookSparkSession.builder()\n",
    "    .progress(false)\n",
    "    .appName(\"app09-\")\n",
    "    // .master(\"spark://192.168.31.31:7077\")\n",
    "    .master(\"local[*]\")\n",
    "    .config(\"spark.sql.warehouse.dir\", \n",
    "            \"hdfs://192.168.31.31:9000/user/hive/warehouse\") \n",
    "    .config(\"spark.cores.max\", \"4\") \n",
    "    .config(\"spark.executor.instances\", \"1\") \n",
    "    .config(\"spark.executor.cores\", \"2\") \n",
    "    .config(\"spark.executor.memory\", \"10g\") \n",
    "    .config(\"spark.shuffle.service.enabled\", \"false\") \n",
    "    .config(\"spark.dynamicAllocation.enabled\", \"false\") \n",
    "    .config(\"spark.sql.catalogImplementation\", \"hive\")\n",
    "    .config(\"spark.sql.repl.eagerEval.enabled\", \"true\")\n",
    "    .config(\"spark.driver.allowMultipleContexts\", \"true\")\n",
    "    .getOrCreate()\n",
    "}"
   ]
  },
  {
   "cell_type": "code",
   "execution_count": 2,
   "metadata": {},
   "outputs": [
    {
     "data": {
      "text/plain": [
       "\u001b[32mimport \u001b[39m\u001b[36mspark.implicits._\n",
       "\u001b[39m\n",
       "defined \u001b[32mfunction\u001b[39m \u001b[36msc\u001b[39m\n",
       "\u001b[36mhiveCxt\u001b[39m: \u001b[32msql\u001b[39m.\u001b[32mhive\u001b[39m.\u001b[32mHiveContext\u001b[39m = org.apache.spark.sql.hive.HiveContext@cd0694"
      ]
     },
     "execution_count": 2,
     "metadata": {},
     "output_type": "execute_result"
    }
   ],
   "source": [
    "import spark.implicits._\n",
    "def sc = spark.sparkContext\n",
    "val hiveCxt = new org.apache.spark.sql.hive.HiveContext(sc)"
   ]
  },
  {
   "cell_type": "code",
   "execution_count": 3,
   "metadata": {},
   "outputs": [
    {
     "data": {
      "text/plain": [
       "defined \u001b[32mclass\u001b[39m \u001b[36mRichDF\u001b[39m"
      ]
     },
     "execution_count": 3,
     "metadata": {},
     "output_type": "execute_result"
    }
   ],
   "source": [
    "// Credit to Aivean\n",
    "implicit class RichDF(val ds:DataFrame) {\n",
    "    def showHTML(limit: Int = 50, truncate: Int = 100) = {\n",
    "        import xml.Utility.escape\n",
    "        val data = ds.take(limit)\n",
    "        val header = ds.schema.fieldNames.toSeq        \n",
    "        val rows: Seq[Seq[String]] = data.map { row =>\n",
    "          row.toSeq.map {cell =>\n",
    "            val str = cell match {\n",
    "              case null => \"null\"\n",
    "              case binary: Array[Byte] => binary.map(\"%02X\".format(_)).mkString(\"[\", \" \", \"]\")\n",
    "              case array: Array[_] => array.mkString(\"[\", \", \", \"]\")\n",
    "              case seq: Seq[_] => seq.mkString(\"[\", \", \", \"]\")\n",
    "              case _ => cell.toString\n",
    "            }\n",
    "            if (truncate > 0 && str.length > truncate) {\n",
    "              // do not show ellipses for strings shorter than 4 characters.\n",
    "              if (truncate < 4) str.substring(0, truncate)\n",
    "              else str.substring(0, truncate - 3) + \"...\"\n",
    "            } else {\n",
    "              str\n",
    "            }\n",
    "          }: Seq[String]\n",
    "        }\n",
    "    publish.html(s\"\"\" <table>\n",
    "                <tr>\n",
    "                 ${header.map(h => s\"<th>${escape(h)}</th>\").mkString}\n",
    "                </tr>\n",
    "                ${rows.map {row =>\n",
    "                  s\"<tr>${row.map{c => s\"<td>${escape(c)}</td>\" }.mkString}</tr>\"\n",
    "                }.mkString}\n",
    "            </table>\n",
    "        \"\"\")\n",
    "    }\n",
    "}"
   ]
  },
  {
   "cell_type": "code",
   "execution_count": 4,
   "metadata": {},
   "outputs": [
    {
     "data": {
      "text/plain": [
       "\u001b[36mge\u001b[39m: \u001b[32mDataFrame\u001b[39m = [yr: int, firstname: string ... 4 more fields]"
      ]
     },
     "execution_count": 4,
     "metadata": {},
     "output_type": "execute_result"
    }
   ],
   "source": [
    "val ge = hiveCxt.table(\"sqlzoo.ge\")"
   ]
  },
  {
   "cell_type": "markdown",
   "metadata": {},
   "source": [
    "## 1. Warming up\n",
    "\n",
    "Show the **lastName, party** and **votes** for the **constituency** 'S14000024' in 2017."
   ]
  },
  {
   "cell_type": "code",
   "execution_count": 5,
   "metadata": {},
   "outputs": [
    {
     "data": {
      "text/html": [
       " <table>\n",
       "                <tr>\n",
       "                 <th>lastname</th><th>party</th><th>votes</th>\n",
       "                </tr>\n",
       "                <tr><td>BEAL</td><td>Liberal Democrats</td><td>1388</td></tr><tr><td>MURRAY</td><td>Labour</td><td>26269</td></tr><tr><td>EADIE</td><td>SNP</td><td>10755</td></tr><tr><td>SMITH</td><td>Conservative</td><td>9428</td></tr>\n",
       "            </table>\n",
       "        "
      ]
     },
     "metadata": {},
     "output_type": "display_data"
    }
   ],
   "source": [
    "(ge.filter((ge(\"constituency\")===\"S14000024\") &&\n",
    "           (ge(\"yr\")===2017))\n",
    "    .select(\"lastname\", \"party\", \"votes\")\n",
    "    .showHTML())"
   ]
  },
  {
   "cell_type": "markdown",
   "metadata": {},
   "source": [
    "## 2. Who won?\n",
    "\n",
    "You can use the RANK function to see the order of the candidates. If you RANK using (ORDER BY votes DESC) then the candidate with the most votes has rank 1.\n",
    "\n",
    "f**Show the party and RANK for constituency S14000024 in 2017. List the output by party**"
   ]
  },
  {
   "cell_type": "code",
   "execution_count": 6,
   "metadata": {},
   "outputs": [
    {
     "data": {
      "text/html": [
       " <table>\n",
       "                <tr>\n",
       "                 <th>party</th><th>votes</th><th>rank</th>\n",
       "                </tr>\n",
       "                <tr><td>Conservative</td><td>9428</td><td>3</td></tr><tr><td>Labour</td><td>26269</td><td>1</td></tr><tr><td>Liberal Democrats</td><td>1388</td><td>4</td></tr><tr><td>SNP</td><td>10755</td><td>2</td></tr>\n",
       "            </table>\n",
       "        "
      ]
     },
     "metadata": {},
     "output_type": "display_data"
    }
   ],
   "source": [
    "(ge.filter((ge(\"constituency\")===\"S14000024\") && \n",
    "           (ge(\"yr\")===2017))\n",
    " .select(\"party\", \"votes\")\n",
    " .withColumn(\"rank\", rank().over(Window.orderBy(col(\"votes\").desc)))\n",
    " .orderBy(\"party\")\n",
    " .showHTML())"
   ]
  },
  {
   "cell_type": "markdown",
   "metadata": {},
   "source": [
    "## 3. PARTITION BY\n",
    "\n",
    "The 2015 election is a different PARTITION to the 2017 election. We only care about the order of votes for each year.\n",
    "\n",
    "**Use PARTITION to show the ranking of each party in S14000021 in each year. Include yr, party, votes and ranking (the party with the most votes is 1).**"
   ]
  },
  {
   "cell_type": "code",
   "execution_count": 7,
   "metadata": {},
   "outputs": [
    {
     "data": {
      "text/html": [
       " <table>\n",
       "                <tr>\n",
       "                 <th>yr</th><th>party</th><th>votes</th><th>posn</th>\n",
       "                </tr>\n",
       "                <tr><td>2015</td><td>Conservative</td><td>12465</td><td>3</td></tr><tr><td>2017</td><td>Conservative</td><td>21496</td><td>1</td></tr><tr><td>2019</td><td>Conservative</td><td>19451</td><td>2</td></tr><tr><td>2015</td><td>Labour</td><td>19295</td><td>2</td></tr><tr><td>2017</td><td>Labour</td><td>14346</td><td>2</td></tr><tr><td>2019</td><td>Labour</td><td>6855</td><td>3</td></tr><tr><td>2015</td><td>Liberal Democrats</td><td>1069</td><td>4</td></tr><tr><td>2017</td><td>Liberal Democrats</td><td>1112</td><td>3</td></tr><tr><td>2019</td><td>Liberal Democrats</td><td>4174</td><td>4</td></tr><tr><td>2015</td><td>SNP</td><td>23013</td><td>1</td></tr><tr><td>2019</td><td>SNP</td><td>24877</td><td>1</td></tr><tr><td>2015</td><td>UKIP</td><td>888</td><td>5</td></tr>\n",
       "            </table>\n",
       "        "
      ]
     },
     "metadata": {},
     "output_type": "display_data"
    }
   ],
   "source": [
    "(ge.filter(ge(\"constituency\")===\"S14000021\")\n",
    " .withColumn(\"posn\", rank().over(\n",
    "     Window.partitionBy(\"yr\").orderBy(col(\"votes\").desc)))\n",
    " .select(\"yr\", \"party\", \"votes\", \"posn\")\n",
    " .orderBy(\"party\", \"yr\")\n",
    " .showHTML())"
   ]
  },
  {
   "cell_type": "markdown",
   "metadata": {},
   "source": [
    "## 4. Edinburgh Constituency\n",
    "\n",
    "Edinburgh constituencies are numbered S14000021 to S14000026.\n",
    "\n",
    "**Use PARTITION BY constituency to show the ranking of each party in Edinburgh in 2017. Order your results so the winners are shown first, then ordered by constituency.**"
   ]
  },
  {
   "cell_type": "code",
   "execution_count": 8,
   "metadata": {},
   "outputs": [
    {
     "data": {
      "text/html": [
       " <table>\n",
       "                <tr>\n",
       "                 <th>constituency</th><th>party</th><th>votes</th><th>posn</th>\n",
       "                </tr>\n",
       "                <tr><td>S14000021</td><td>Conservative</td><td>21496</td><td>1</td></tr><tr><td>S14000022</td><td>SNP</td><td>18509</td><td>1</td></tr><tr><td>S14000023</td><td>SNP</td><td>19243</td><td>1</td></tr><tr><td>S14000024</td><td>Labour</td><td>26269</td><td>1</td></tr><tr><td>S14000025</td><td>SNP</td><td>17575</td><td>1</td></tr><tr><td>S14000026</td><td>Liberal Democrats</td><td>18108</td><td>1</td></tr><tr><td>S14000021</td><td>Labour</td><td>14346</td><td>2</td></tr><tr><td>S14000022</td><td>Labour</td><td>15084</td><td>2</td></tr><tr><td>S14000023</td><td>Labour</td><td>17618</td><td>2</td></tr><tr><td>S14000024</td><td>SNP</td><td>10755</td><td>2</td></tr><tr><td>S14000025</td><td>Conservative</td><td>16478</td><td>2</td></tr><tr><td>S14000026</td><td>SNP</td><td>15120</td><td>2</td></tr><tr><td>S14000021</td><td>Liberal Democrats</td><td>1112</td><td>3</td></tr><tr><td>S14000022</td><td>Liberal Democrats</td><td>1849</td><td>3</td></tr><tr><td>S14000023</td><td>Conservative</td><td>15385</td><td>3</td></tr><tr><td>S14000024</td><td>Conservative</td><td>9428</td><td>3</td></tr><tr><td>S14000025</td><td>Labour</td><td>13213</td><td>3</td></tr><tr><td>S14000026</td><td>Conservative</td><td>11559</td><td>3</td></tr><tr><td>S14000023</td><td>Liberal Democrats</td><td>2579</td><td>4</td></tr><tr><td>S14000024</td><td>Liberal Democrats</td><td>1388</td><td>4</td></tr><tr><td>S14000025</td><td>Liberal Democrats</td><td>2124</td><td>4</td></tr><tr><td>S14000026</td><td>Labour</td><td>7876</td><td>4</td></tr><tr><td>S14000023</td><td>Green</td><td>1727</td><td>5</td></tr><tr><td>S14000026</td><td>SIR</td><td>132</td><td>5</td></tr>\n",
       "            </table>\n",
       "        "
      ]
     },
     "metadata": {},
     "output_type": "display_data"
    }
   ],
   "source": [
    "(ge.filter((ge(\"constituency\").between(\"S14000021\", \"S14000026\")) &&\n",
    "       (ge(\"yr\")===2017))\n",
    " .withColumn(\"posn\", rank().over(\n",
    "     Window.partitionBy(\"constituency\").orderBy(col(\"votes\").desc)))\n",
    " .select(\"constituency\", \"party\", \"votes\", \"posn\")\n",
    " .orderBy(\"posn\", \"constituency\")\n",
    " .showHTML())"
   ]
  },
  {
   "cell_type": "markdown",
   "metadata": {},
   "source": [
    "## 5. Winners Only\n",
    "\n",
    "You can use [SELECT within SELECT](https://sqlzoo.net/wiki/SELECT_within_SELECT_Tutorial) to pick out only the winners in Edinburgh.\n",
    "\n",
    "**Show the parties that won for each Edinburgh constituency in 2017.**"
   ]
  },
  {
   "cell_type": "code",
   "execution_count": 9,
   "metadata": {},
   "outputs": [
    {
     "data": {
      "text/html": [
       " <table>\n",
       "                <tr>\n",
       "                 <th>constituency</th><th>party</th>\n",
       "                </tr>\n",
       "                <tr><td>S14000021</td><td>Conservative</td></tr><tr><td>S14000022</td><td>SNP</td></tr><tr><td>S14000023</td><td>SNP</td></tr><tr><td>S14000024</td><td>Labour</td></tr><tr><td>S14000025</td><td>SNP</td></tr><tr><td>S14000026</td><td>Liberal Democrats</td></tr>\n",
       "            </table>\n",
       "        "
      ]
     },
     "metadata": {},
     "output_type": "display_data"
    }
   ],
   "source": [
    "(ge.filter((ge(\"constituency\").between(\"S14000021\", \"S14000026\")) &&\n",
    "           (ge(\"yr\")===2017))\n",
    " .withColumn(\"posn\", rank().over(\n",
    "     Window.partitionBy(\"constituency\").orderBy(col(\"votes\").desc)))\n",
    " .filter(col(\"posn\")===1)\n",
    " .select(\"constituency\", \"party\")\n",
    " .orderBy(\"constituency\")\n",
    " .showHTML())"
   ]
  },
  {
   "cell_type": "markdown",
   "metadata": {},
   "source": [
    "## 6. Scottish seats\n",
    "\n",
    "You can use **COUNT** and **GROUP BY** to see how each party did in Scotland. Scottish constituencies start with 'S'\n",
    "\n",
    "**Show how many seats for each party in Scotland in 2017.**"
   ]
  },
  {
   "cell_type": "code",
   "execution_count": 10,
   "metadata": {},
   "outputs": [
    {
     "data": {
      "text/html": [
       " <table>\n",
       "                <tr>\n",
       "                 <th>party</th><th>count</th>\n",
       "                </tr>\n",
       "                <tr><td>SNP</td><td>34</td></tr><tr><td>Labour</td><td>9</td></tr><tr><td>Conservative</td><td>12</td></tr><tr><td>Liberal Democrats</td><td>4</td></tr>\n",
       "            </table>\n",
       "        "
      ]
     },
     "metadata": {},
     "output_type": "display_data"
    }
   ],
   "source": [
    "(ge.filter((ge(\"constituency\").startsWith(\"S\")) && \n",
    "           (ge(\"yr\")===2017))\n",
    " .withColumn(\"posn\", rank().over(\n",
    "     Window.partitionBy(\"constituency\").orderBy(col(\"votes\").desc)))\n",
    " .filter(col(\"posn\")===1)\n",
    " .groupBy(\"party\")\n",
    " .count()\n",
    " .showHTML())"
   ]
  },
  {
   "cell_type": "code",
   "execution_count": 11,
   "metadata": {},
   "outputs": [],
   "source": [
    "spark.stop()"
   ]
  },
  {
   "cell_type": "code",
   "execution_count": null,
   "metadata": {},
   "outputs": [],
   "source": []
  }
 ],
 "metadata": {
  "kernelspec": {
   "display_name": "Scala",
   "language": "scala",
   "name": "scala"
  },
  "language_info": {
   "codemirror_mode": "text/x-scala",
   "file_extension": ".sc",
   "mimetype": "text/x-scala",
   "name": "scala",
   "nbconvert_exporter": "script",
   "version": "2.12.15"
  }
 },
 "nbformat": 4,
 "nbformat_minor": 4
}
