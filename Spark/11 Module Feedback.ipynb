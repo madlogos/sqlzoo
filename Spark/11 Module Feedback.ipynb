{
 "cells": [
  {
   "cell_type": "markdown",
   "metadata": {},
   "source": [
    "# Module Feedback\n",
    "\n",
    "This system records the responses of students on their learning experience at university.\n",
    "\n",
    "![rel](https://sqlzoo.net/w/images/7/71/Module-feedback.png)"
   ]
  },
  {
   "cell_type": "code",
   "execution_count": null,
   "metadata": {},
   "outputs": [],
   "source": [
    "import os\n",
    "import pandas as pd\n",
    "import findspark\n",
    "os.environ['SPARK_HOME'] =  '/opt/spark'\n",
    "findspark.init()\n",
    "\n",
    "from pyspark.sql import SparkSession\n",
    "ss = (SparkSession.builder.appName('app00')\n",
    "      .config('spark.sql.warehouse.dir', 'hdfs://quickstart.cloudera:8020/user/hive/warehouse')\n",
    "      .config('hive.metastore.uris', 'thrift://quickstart.cloudera:9083')\n",
    "      .enableHiveSupport().getOrCreate())"
   ]
  },
  {
   "cell_type": "markdown",
   "metadata": {},
   "source": [
    "## 1. Find the student name from a matriculation number\n",
    "\n",
    "**Find the name of the student with number 50200100**"
   ]
  },
  {
   "cell_type": "markdown",
   "metadata": {},
   "source": [
    "## 2. Find the modules studied by a student\n",
    "\n",
    "**Show the module code and module name for modules studied by the student with number 50200100 in session 2016/7 TR1**"
   ]
  },
  {
   "cell_type": "markdown",
   "metadata": {},
   "source": [
    "## 3. Find the modules and module leader studied by a student\n",
    "\n",
    "**Show the module code and module name and details of the module leader for modules studied by the student with number 50200100 in session 2016/7 TR1**"
   ]
  },
  {
   "cell_type": "markdown",
   "metadata": {},
   "source": [
    "## 4. Show the scores for module SET08108\n",
    "\n",
    "**Show the Percentage of students who gave 4 or 5 to module SET08108 in session 2016/7 TR1**\n",
    "\n",
    "(note that this is not real data, these responses were randomly generated)"
   ]
  },
  {
   "cell_type": "markdown",
   "metadata": {},
   "source": [
    "## 5. Show the frequency chart for module SET08108 for question 4.1\n",
    "\n",
    "**For each response 1-5 show the number of students who gave that response (Module SET08108, 2016/7, TR1)**\n",
    "\n",
    "(note that this is not real data, these responses were randomly generated)"
   ]
  },
  {
   "cell_type": "code",
   "execution_count": null,
   "metadata": {},
   "outputs": [],
   "source": []
  }
 ],
 "metadata": {
  "kernelspec": {
   "display_name": "Python 3",
   "language": "python",
   "name": "python3"
  },
  "language_info": {
   "codemirror_mode": {
    "name": "ipython",
    "version": 3
   },
   "file_extension": ".py",
   "mimetype": "text/x-python",
   "name": "python",
   "nbconvert_exporter": "python",
   "pygments_lexer": "ipython3",
   "version": "3.7.7"
  }
 },
 "nbformat": 4,
 "nbformat_minor": 4
}
