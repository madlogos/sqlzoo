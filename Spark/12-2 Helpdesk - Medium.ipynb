{
 "cells": [
  {
   "cell_type": "markdown",
   "metadata": {},
   "source": [
    "# Helpdesk Medium"
   ]
  },
  {
   "cell_type": "code",
   "execution_count": 1,
   "metadata": {},
   "outputs": [
    {
     "name": "stdout",
     "output_type": "stream",
     "text": [
      "Loading spark-stubs, spark-hive\n",
      "Warning: hive-site.xml not found in the classpath, and no Hive conf found via HIVE_CONF_DIR\n",
      "Creating SparkSession\n"
     ]
    },
    {
     "name": "stderr",
     "output_type": "stream",
     "text": [
      "Using Spark's default log4j profile: org/apache/spark/log4j-defaults.properties\n"
     ]
    },
    {
     "data": {
      "text/html": [
       "<a target=\"_blank\" href=\"http://192.168.31.62:4040\">Spark UI</a>"
      ]
     },
     "metadata": {},
     "output_type": "display_data"
    },
    {
     "data": {
      "text/plain": [
       "\u001b[32mimport \u001b[39m\u001b[36morg.apache.log4j.{Level, Logger}\n",
       "\u001b[39m\n",
       "\u001b[32mimport \u001b[39m\u001b[36m$ivy.$                                  \n",
       "\u001b[39m\n",
       "\u001b[32mimport \u001b[39m\u001b[36morg.apache.spark.sql._\n",
       "\u001b[39m\n",
       "\u001b[32mimport \u001b[39m\u001b[36morg.apache.spark.sql.functions._\n",
       "\n",
       "\u001b[39m\n",
       "\u001b[36mspark\u001b[39m: \u001b[32mSparkSession\u001b[39m = org.apache.spark.sql.SparkSession@206ae3b8\n",
       "\u001b[32mimport \u001b[39m\u001b[36mspark.implicits._\u001b[39m"
      ]
     },
     "execution_count": 1,
     "metadata": {},
     "output_type": "execute_result"
    }
   ],
   "source": [
    "import org.apache.log4j.{Level, Logger}\n",
    "Logger.getLogger(\"org\").setLevel(Level.OFF)\n",
    "\n",
    "import $ivy.`org.apache.spark::spark-sql:2.4.0`\n",
    "import org.apache.spark.sql._\n",
    "import org.apache.spark.sql.functions._\n",
    "\n",
    "val spark = {\n",
    "    NotebookSparkSession.builder()\n",
    "    .progress(false)\n",
    "    .appName(\"app12-2\")\n",
    "    .master(\"local[*]\")\n",
    "    .config(\"spark.sql.warehouse.dir\", \"hdfs://quickstart.cloudera:8020/user/hive/warehouse\")\n",
    "    .config(\"hive.metastore.uris\", \"thrift://quickstart.cloudera:9083\")\n",
    "    .config(\"spark.sql.catalogImplementation\", \"hive\")\n",
    "    .config(\"spark.sql.repl.eagerEval.enabled\", \"True\")\n",
    "    .getOrCreate()\n",
    "}\n",
    "\n",
    "import spark.implicits._"
   ]
  },
  {
   "cell_type": "code",
   "execution_count": 2,
   "metadata": {},
   "outputs": [
    {
     "data": {
      "text/plain": [
       "defined \u001b[32mfunction\u001b[39m \u001b[36msc\u001b[39m\n",
       "\u001b[36mhiveCxt\u001b[39m: \u001b[32morg\u001b[39m.\u001b[32mapache\u001b[39m.\u001b[32mspark\u001b[39m.\u001b[32msql\u001b[39m.\u001b[32mhive\u001b[39m.\u001b[32mHiveContext\u001b[39m = org.apache.spark.sql.hive.HiveContext@7f39d2c0"
      ]
     },
     "execution_count": 2,
     "metadata": {},
     "output_type": "execute_result"
    }
   ],
   "source": [
    "def sc = spark.sparkContext\n",
    "val hiveCxt = new org.apache.spark.sql.hive.HiveContext(sc)"
   ]
  },
  {
   "cell_type": "code",
   "execution_count": 3,
   "metadata": {},
   "outputs": [
    {
     "data": {
      "text/plain": [
       "defined \u001b[32mclass\u001b[39m \u001b[36mRichDF\u001b[39m"
      ]
     },
     "execution_count": 3,
     "metadata": {},
     "output_type": "execute_result"
    }
   ],
   "source": [
    "// extend the DataFrame class to prettify the output of show()\n",
    "implicit class RichDF(val ds:DataFrame) {\n",
    "    def showHTML(limit: Int = -1, truncate: Int = 0) = {\n",
    "        import xml.Utility.escape\n",
    "        \n",
    "        val data = if (limit < 0) ds.take(255) else ds.take(limit)\n",
    "        val header = ds.schema.fieldNames.toSeq        \n",
    "        val rows: Seq[Seq[String]] = data.map { row =>\n",
    "          row.toSeq.map { cell =>\n",
    "            val str = cell match {\n",
    "              case null => \"null\"\n",
    "              case binary: Array[Byte] => binary.map(\"%02X\".format(_)).mkString(\"[\", \" \", \"]\")\n",
    "              case array: Array[_] => array.mkString(\"[\", \", \", \"]\")\n",
    "              case seq: Seq[_] => seq.mkString(\"[\", \", \", \"]\")\n",
    "              case _ => cell.toString\n",
    "            }\n",
    "            if (truncate > 0 && str.length > truncate) {\n",
    "              // do not show ellipses for strings shorter than 4 characters.\n",
    "              if (truncate < 4) str.substring(0, truncate)\n",
    "              else str.substring(0, truncate - 3) + \"...\"\n",
    "            } else {\n",
    "              str\n",
    "            }\n",
    "          }: Seq[String]\n",
    "        }\n",
    "\n",
    "        publish.html(s\"\"\" <table>\n",
    "                <tr>\n",
    "                 ${header.map(h => s\"<th>${escape(h)}</th>\").mkString}\n",
    "                </tr>\n",
    "                ${rows.map { row =>\n",
    "                  s\"<tr>${row.map{c => s\"<td>${escape(c)}</td>\" }.mkString}</tr>\"\n",
    "                }.mkString}\n",
    "            </table>\n",
    "        \"\"\")        \n",
    "    }\n",
    "}"
   ]
  },
  {
   "cell_type": "markdown",
   "metadata": {},
   "source": [
    "## 6.\n",
    "List the Company name and the number of calls for those companies with more than 18 calls.\n",
    "\n",
    "```\n",
    "+------------------+----+\n",
    "| Company_name     | cc |\n",
    "+------------------+----+\n",
    "| Gimmick Inc.     | 22 |\n",
    "| Hamming Services | 19 |\n",
    "| High and Co.     | 20 |\n",
    "+------------------+----+\n",
    "```"
   ]
  },
  {
   "cell_type": "code",
   "execution_count": 4,
   "metadata": {},
   "outputs": [
    {
     "name": "stderr",
     "output_type": "stream",
     "text": [
      "20/07/05 21:24:02 INFO metastore: Trying to connect to metastore with URI thrift://quickstart.cloudera:9083\n",
      "20/07/05 21:24:02 INFO metastore: Connected to metastore.\n"
     ]
    },
    {
     "data": {
      "text/html": [
       " <table>\n",
       "                <tr>\n",
       "                 <th>Company_name</th><th>cc</th>\n",
       "                </tr>\n",
       "                <tr><td>Gimmick Inc.</td><td>22</td></tr><tr><td>Hamming Services</td><td>19</td></tr><tr><td>High and Co.</td><td>20</td></tr>\n",
       "            </table>\n",
       "        "
      ]
     },
     "metadata": {},
     "output_type": "display_data"
    },
    {
     "data": {
      "text/plain": [
       "\u001b[36missue\u001b[39m: \u001b[32mDataFrame\u001b[39m = [call_date: string, call_ref: int ... 5 more fields]\n",
       "\u001b[36mcaller\u001b[39m: \u001b[32mDataFrame\u001b[39m = [caller_id: int, company_ref: int ... 2 more fields]\n",
       "\u001b[36mcustomer\u001b[39m: \u001b[32mDataFrame\u001b[39m = [company_ref: int, company_name: string ... 6 more fields]"
      ]
     },
     "execution_count": 4,
     "metadata": {},
     "output_type": "execute_result"
    }
   ],
   "source": [
    "val issue = hiveCxt.table(\"sqlzoo.Issue\")\n",
    "val caller = hiveCxt.table(\"sqlzoo.Caller\")\n",
    "val customer = hiveCxt.table(\"sqlzoo.Customer\")\n",
    "(issue.join(caller, issue(\"Caller_id\")===caller(\"Caller_id\"))\n",
    " .join(customer, caller(\"Company_ref\")===customer(\"Company_ref\"))\n",
    " .select(customer(\"Company_ref\"), customer(\"Company_name\"), $\"Call_ref\")\n",
    " .groupBy(\"Company_ref\", \"Company_name\")\n",
    " .agg(count(\"Call_ref\").as(\"cc\"))\n",
    " .filter($\"cc\">18)\n",
    " .drop(\"Company_ref\")\n",
    " .orderBy(\"Company_name\")\n",
    " .showHTML())"
   ]
  },
  {
   "cell_type": "markdown",
   "metadata": {},
   "source": [
    "## 7.\n",
    "Find the callers who have never made a call. Show first name and last name\n",
    "\n",
    "```\n",
    "+------------+-----------+\n",
    "| first_name | last_name |\n",
    "+------------+-----------+\n",
    "| David      | Jackson   |\n",
    "| Ethan      | Phillips  |\n",
    "+------------+-----------+\n",
    "```"
   ]
  },
  {
   "cell_type": "code",
   "execution_count": 5,
   "metadata": {},
   "outputs": [
    {
     "data": {
      "text/html": [
       " <table>\n",
       "                <tr>\n",
       "                 <th>First_name</th><th>Last_name</th>\n",
       "                </tr>\n",
       "                <tr><td>Ethan</td><td>Phillips</td></tr><tr><td>David</td><td>Jackson</td></tr>\n",
       "            </table>\n",
       "        "
      ]
     },
     "metadata": {},
     "output_type": "display_data"
    }
   ],
   "source": [
    "(caller.join(issue, caller(\"Caller_id\")===issue(\"Caller_id\"), \"left\")\n",
    " .select($\"First_name\", $\"Last_name\", caller(\"Caller_id\"), $\"Call_ref\")\n",
    " .groupBy(\"Caller_id\", \"First_name\", \"Last_name\")\n",
    " .agg(count(\"Call_ref\").as(\"n\")).orderBy(\"n\")\n",
    " .filter($\"n\"<1)\n",
    " .drop(\"Caller_id\", \"n\")\n",
    " .showHTML())"
   ]
  },
  {
   "cell_type": "markdown",
   "metadata": {},
   "source": [
    "## 8.\n",
    "For each customer show: Company name, contact name, number of calls where the number of calls is fewer than 5\n",
    "\n",
    "```\n",
    "+--------------------+------------+-----------+----+\n",
    "| Company_name       | first_name | last_name | nc |\n",
    "+--------------------+------------+-----------+----+\n",
    "| Pitiable Shipping  | Ethan      | McConnell |  4 |\n",
    "| Rajab Group        | Emily      | Cooper    |  4 |\n",
    "| Somebody Logistics | Ethan      | Phillips  |  2 |\n",
    "+--------------------+------------+-----------+----+\n",
    "```"
   ]
  },
  {
   "cell_type": "code",
   "execution_count": 6,
   "metadata": {},
   "outputs": [
    {
     "data": {
      "text/html": [
       " <table>\n",
       "                <tr>\n",
       "                 <th>Company_name</th><th>First_name</th><th>Last_name</th><th>nc</th>\n",
       "                </tr>\n",
       "                <tr><td>Pitiable Shipping</td><td>Ethan</td><td>McConnell</td><td>4</td></tr><tr><td>Rajab Group</td><td>Emily</td><td>Cooper</td><td>4</td></tr><tr><td>Somebody Logistics</td><td>Ethan</td><td>Phillips</td><td>2</td></tr>\n",
       "            </table>\n",
       "        "
      ]
     },
     "metadata": {},
     "output_type": "display_data"
    }
   ],
   "source": [
    "(issue.join(caller, issue(\"Caller_id\")===caller(\"Caller_id\"))\n",
    " .join(customer, caller(\"Company_ref\")===customer(\"Company_ref\"))\n",
    " .select(caller(\"Company_ref\"), $\"Company_name\", $\"Contact_id\", $\"Call_ref\")\n",
    " .groupBy(\"Company_ref\", \"Company_name\", \"Contact_id\")\n",
    " .agg(count(\"Call_ref\").as(\"nc\"))\n",
    " .filter($\"nc\"<5)\n",
    " .join(caller, $\"Contact_id\" === $\"Caller_id\", \"inner\")\n",
    " .select(\"Company_name\", \"First_name\", \"Last_name\", \"nc\")\n",
    " .orderBy(\"Company_name\")\n",
    " .showHTML())"
   ]
  },
  {
   "cell_type": "markdown",
   "metadata": {},
   "source": [
    "## 9.\n",
    "For each shift show the number of staff assigned. Beware that some roles may be NULL and that the same person might have been assigned to multiple roles (The roles are 'Manager', 'Operator', 'Engineer1', 'Engineer2').\n",
    "\n",
    "```\n",
    "+------------+------------+----+\n",
    "| Shift_date | Shift_type | cw |\n",
    "+------------+------------+----+\n",
    "| 2017-08-12 | Early      |  4 |\n",
    "| 2017-08-12 | Late       |  4 |\n",
    "| 2017-08-13 | Early      |  3 |\n",
    "| 2017-08-13 | Late       |  2 |\n",
    "| 2017-08-14 | Early      |  4 |\n",
    "| 2017-08-14 | Late       |  4 |\n",
    "| 2017-08-15 | Early      |  4 |\n",
    "| 2017-08-15 | Late       |  4 |\n",
    "| 2017-08-16 | Early      |  4 |\n",
    "| 2017-08-16 | Late       |  4 |\n",
    "+------------+------------+----+\n",
    "```"
   ]
  },
  {
   "cell_type": "code",
   "execution_count": 7,
   "metadata": {},
   "outputs": [
    {
     "data": {
      "text/html": [
       " <table>\n",
       "                <tr>\n",
       "                 <th>Shift_date</th><th>Shift_type</th><th>cw</th>\n",
       "                </tr>\n",
       "                <tr><td>2017-08-12</td><td>Early</td><td>4</td></tr><tr><td>2017-08-12</td><td>Late</td><td>4</td></tr><tr><td>2017-08-13</td><td>Early</td><td>3</td></tr><tr><td>2017-08-13</td><td>Late</td><td>2</td></tr><tr><td>2017-08-14</td><td>Early</td><td>4</td></tr><tr><td>2017-08-14</td><td>Late</td><td>4</td></tr><tr><td>2017-08-15</td><td>Early</td><td>4</td></tr><tr><td>2017-08-15</td><td>Late</td><td>4</td></tr><tr><td>2017-08-16</td><td>Early</td><td>4</td></tr><tr><td>2017-08-16</td><td>Late</td><td>4</td></tr>\n",
       "            </table>\n",
       "        "
      ]
     },
     "metadata": {},
     "output_type": "display_data"
    },
    {
     "data": {
      "text/plain": [
       "\u001b[36mshift\u001b[39m: \u001b[32mDataFrame\u001b[39m = [shift_date: string, shift_type: string ... 4 more fields]\n",
       "\u001b[36mshift_det\u001b[39m: \u001b[32mDataset\u001b[39m[\u001b[32mRow\u001b[39m] = [Shift_date: string, Shift_type: string ... 2 more fields]"
      ]
     },
     "execution_count": 7,
     "metadata": {},
     "output_type": "execute_result"
    }
   ],
   "source": [
    "val shift = hiveCxt.table(\"sqlzoo.Shift\")\n",
    "val shift_det = (\n",
    "    shift.selectExpr(\n",
    "        \"Shift_date\", \"Shift_type\", \n",
    "        \"stack(4, 'Manager', Manager, 'Operator', Operator, 'Engineer1', Engineer1, 'Engineer2', Engineer2)\")\n",
    "    .withColumnRenamed(\"col0\", \"role\")\n",
    "    .withColumnRenamed(\"col1\", \"person\")\n",
    "    .filter(\"person is not null\")\n",
    "    .dropDuplicates(\"Shift_date\", \"Shift_type\", \"person\")\n",
    ")\n",
    "(shift_det.groupBy(\"Shift_date\", \"Shift_type\")\n",
    " .agg(count(\"person\").as(\"cw\"))\n",
    " .orderBy(\"Shift_date\", \"Shift_type\")\n",
    " .showHTML())"
   ]
  },
  {
   "cell_type": "markdown",
   "metadata": {},
   "source": [
    "## 10.\n",
    "Caller 'Harry' claims that the operator who took his most recent call was abusive and insulting. Find out who took the call (full name) and when.\n",
    "\n",
    "```\n",
    "+------------+-----------+---------------------+\n",
    "| first_name | last_name | call_date           |\n",
    "+------------+-----------+---------------------+\n",
    "| Emily      | Best      | 2017-08-16 10:25:00 |\n",
    "+------------+-----------+---------------------+\n",
    "```"
   ]
  },
  {
   "cell_type": "code",
   "execution_count": 8,
   "metadata": {},
   "outputs": [
    {
     "data": {
      "text/html": [
       " <table>\n",
       "                <tr>\n",
       "                 <th>First_name</th><th>Last_name</th><th>Call_date</th>\n",
       "                </tr>\n",
       "                <tr><td>Emily</td><td>Best</td><td>2017-08-16 10:25:00.0</td></tr>\n",
       "            </table>\n",
       "        "
      ]
     },
     "metadata": {},
     "output_type": "display_data"
    },
    {
     "data": {
      "text/plain": [
       "\u001b[36mstaff\u001b[39m: \u001b[32mDataFrame\u001b[39m = [staff_code: string, first_name: string ... 2 more fields]"
      ]
     },
     "execution_count": 8,
     "metadata": {},
     "output_type": "execute_result"
    }
   ],
   "source": [
    "val staff = hiveCxt.table(\"sqlzoo.Staff\")\n",
    "(caller.filter($\"First_name\"===\"Harry\")\n",
    " .join(issue, Seq(\"Caller_id\"))\n",
    " .join(staff, issue(\"Taken_by\")===staff(\"Staff_code\"))\n",
    " .select(staff(\"First_name\"), staff(\"Last_name\"), issue(\"Call_date\"))\n",
    " .orderBy(desc(\"Call_date\"))\n",
    " .limit(1)\n",
    " .showHTML())"
   ]
  },
  {
   "cell_type": "code",
   "execution_count": 9,
   "metadata": {},
   "outputs": [],
   "source": [
    "spark.stop()"
   ]
  }
 ],
 "metadata": {
  "kernelspec": {
   "display_name": "Scala",
   "language": "scala",
   "name": "scala"
  },
  "language_info": {
   "codemirror_mode": "text/x-scala",
   "file_extension": ".scala",
   "mimetype": "text/x-scala",
   "name": "scala",
   "nbconvert_exporter": "script",
   "version": "2.12.10"
  }
 },
 "nbformat": 4,
 "nbformat_minor": 4
}
