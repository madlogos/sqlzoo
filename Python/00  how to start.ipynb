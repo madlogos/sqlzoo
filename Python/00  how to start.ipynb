{
 "cells": [
  {
   "cell_type": "markdown",
   "metadata": {},
   "source": [
    "# 在JupyterLab中运行Python"
   ]
  },
  {
   "cell_type": "markdown",
   "metadata": {},
   "source": [
    "1. 需要用到[`pandas`](https://pandas.pydata.org/)、[`SQLAlchemy`](https://www.sqlalchemy.org)包。此外，本实验采用PostgreSQL，需要[`psycopg2`](https://pypi.org/project/psycopg2/)包。在Anaconda环境下安装即可：\n",
    "    ```bash\n",
    "    conda install pandas sqlalchemy psycopg2\n",
    "    ```\n",
    "1. 启动数据库`localhost/sqlzoo`。\n",
    "1. 通过`sqlalchemy`形式的DB URI连接sqlzoo数据库。\n",
    "> macOS Mojave不能安装`mysql-python`，只能装`pymysql`。因此，如果用MySQL的话，URI要写成`mysql+pymysq://...`。"
   ]
  },
  {
   "cell_type": "code",
   "execution_count": 1,
   "metadata": {},
   "outputs": [
    {
     "name": "stdin",
     "output_type": "stream",
     "text": [
      " ····\n"
     ]
    }
   ],
   "source": [
    "import getpass\n",
    "import psycopg2\n",
    "from sqlalchemy import create_engine\n",
    "import pandas as pd\n",
    "pwd = getpass.getpass()\n",
    "engine = create_engine(\n",
    "    'postgresql+psycopg2://postgres:%s@localhost/sqlzoo' % (pwd))"
   ]
  },
  {
   "cell_type": "markdown",
   "metadata": {},
   "source": [
    "可以针对`pandas`做一些设置，比如将长度显示行数的上限为10："
   ]
  },
  {
   "cell_type": "code",
   "execution_count": 2,
   "metadata": {},
   "outputs": [],
   "source": [
    "pd.set_option('display.max_rows', 10)"
   ]
  },
  {
   "cell_type": "markdown",
   "metadata": {},
   "source": [
    "## 示例"
   ]
  },
  {
   "cell_type": "code",
   "execution_count": 3,
   "metadata": {},
   "outputs": [
    {
     "data": {
      "text/html": [
       "<div>\n",
       "<style scoped>\n",
       "    .dataframe tbody tr th:only-of-type {\n",
       "        vertical-align: middle;\n",
       "    }\n",
       "\n",
       "    .dataframe tbody tr th {\n",
       "        vertical-align: top;\n",
       "    }\n",
       "\n",
       "    .dataframe thead th {\n",
       "        text-align: right;\n",
       "    }\n",
       "</style>\n",
       "<table border=\"1\" class=\"dataframe\">\n",
       "  <thead>\n",
       "    <tr style=\"text-align: right;\">\n",
       "      <th></th>\n",
       "      <th>name</th>\n",
       "      <th>continent</th>\n",
       "      <th>area</th>\n",
       "      <th>population</th>\n",
       "      <th>gdp</th>\n",
       "      <th>capital</th>\n",
       "      <th>tld</th>\n",
       "      <th>flag</th>\n",
       "    </tr>\n",
       "  </thead>\n",
       "  <tbody>\n",
       "    <tr>\n",
       "      <th>0</th>\n",
       "      <td>Afghanistan</td>\n",
       "      <td>Asia</td>\n",
       "      <td>652230.0</td>\n",
       "      <td>25500100.0</td>\n",
       "      <td>2.036400e+10</td>\n",
       "      <td>Kabul</td>\n",
       "      <td>.af</td>\n",
       "      <td>//upload.wikimedia.org/wikipedia/commons/9/9a/...</td>\n",
       "    </tr>\n",
       "    <tr>\n",
       "      <th>1</th>\n",
       "      <td>Albania</td>\n",
       "      <td>Europe</td>\n",
       "      <td>28748.0</td>\n",
       "      <td>2821977.0</td>\n",
       "      <td>1.204400e+10</td>\n",
       "      <td>Tirana</td>\n",
       "      <td>.al</td>\n",
       "      <td>//upload.wikimedia.org/wikipedia/commons/3/36/...</td>\n",
       "    </tr>\n",
       "    <tr>\n",
       "      <th>2</th>\n",
       "      <td>Algeria</td>\n",
       "      <td>Africa</td>\n",
       "      <td>2381741.0</td>\n",
       "      <td>38700000.0</td>\n",
       "      <td>2.070210e+11</td>\n",
       "      <td>Algiers</td>\n",
       "      <td>.dz</td>\n",
       "      <td>//upload.wikimedia.org/wikipedia/commons/7/77/...</td>\n",
       "    </tr>\n",
       "    <tr>\n",
       "      <th>3</th>\n",
       "      <td>Andorra</td>\n",
       "      <td>Europe</td>\n",
       "      <td>468.0</td>\n",
       "      <td>76098.0</td>\n",
       "      <td>3.222000e+09</td>\n",
       "      <td>Andorra la Vella</td>\n",
       "      <td>.ad</td>\n",
       "      <td>//upload.wikimedia.org/wikipedia/commons/1/19/...</td>\n",
       "    </tr>\n",
       "    <tr>\n",
       "      <th>4</th>\n",
       "      <td>Angola</td>\n",
       "      <td>Africa</td>\n",
       "      <td>1246700.0</td>\n",
       "      <td>19183590.0</td>\n",
       "      <td>1.163080e+11</td>\n",
       "      <td>Luanda</td>\n",
       "      <td>.ao</td>\n",
       "      <td>//upload.wikimedia.org/wikipedia/commons/9/9d/...</td>\n",
       "    </tr>\n",
       "    <tr>\n",
       "      <th>...</th>\n",
       "      <td>...</td>\n",
       "      <td>...</td>\n",
       "      <td>...</td>\n",
       "      <td>...</td>\n",
       "      <td>...</td>\n",
       "      <td>...</td>\n",
       "      <td>...</td>\n",
       "      <td>...</td>\n",
       "    </tr>\n",
       "    <tr>\n",
       "      <th>190</th>\n",
       "      <td>Venezuela</td>\n",
       "      <td>South America</td>\n",
       "      <td>916445.0</td>\n",
       "      <td>28946101.0</td>\n",
       "      <td>3.824240e+11</td>\n",
       "      <td>Caracas</td>\n",
       "      <td>.ve</td>\n",
       "      <td>//upload.wikimedia.org/wikipedia/commons/0/06/...</td>\n",
       "    </tr>\n",
       "    <tr>\n",
       "      <th>191</th>\n",
       "      <td>Vietnam</td>\n",
       "      <td>Asia</td>\n",
       "      <td>331212.0</td>\n",
       "      <td>89708900.0</td>\n",
       "      <td>1.558200e+11</td>\n",
       "      <td>Hanoi</td>\n",
       "      <td>.vn</td>\n",
       "      <td>//upload.wikimedia.org/wikipedia/commons/2/21/...</td>\n",
       "    </tr>\n",
       "    <tr>\n",
       "      <th>192</th>\n",
       "      <td>Yemen</td>\n",
       "      <td>Asia</td>\n",
       "      <td>527968.0</td>\n",
       "      <td>25235000.0</td>\n",
       "      <td>3.283100e+10</td>\n",
       "      <td>Sana‘a</td>\n",
       "      <td>.ye</td>\n",
       "      <td>//upload.wikimedia.org/wikipedia/commons/8/89/...</td>\n",
       "    </tr>\n",
       "    <tr>\n",
       "      <th>193</th>\n",
       "      <td>Zambia</td>\n",
       "      <td>Africa</td>\n",
       "      <td>752612.0</td>\n",
       "      <td>15023315.0</td>\n",
       "      <td>2.149000e+10</td>\n",
       "      <td>Lusaka</td>\n",
       "      <td>.zm</td>\n",
       "      <td>//upload.wikimedia.org/wikipedia/commons/0/06/...</td>\n",
       "    </tr>\n",
       "    <tr>\n",
       "      <th>194</th>\n",
       "      <td>Zimbabwe</td>\n",
       "      <td>Africa</td>\n",
       "      <td>390757.0</td>\n",
       "      <td>13061239.0</td>\n",
       "      <td>9.802000e+09</td>\n",
       "      <td>Harare</td>\n",
       "      <td>.zw</td>\n",
       "      <td>//upload.wikimedia.org/wikipedia/commons/6/6a/...</td>\n",
       "    </tr>\n",
       "  </tbody>\n",
       "</table>\n",
       "<p>195 rows × 8 columns</p>\n",
       "</div>"
      ],
      "text/plain": [
       "            name      continent       area  population           gdp  \\\n",
       "0    Afghanistan           Asia   652230.0  25500100.0  2.036400e+10   \n",
       "1        Albania         Europe    28748.0   2821977.0  1.204400e+10   \n",
       "2        Algeria         Africa  2381741.0  38700000.0  2.070210e+11   \n",
       "3        Andorra         Europe      468.0     76098.0  3.222000e+09   \n",
       "4         Angola         Africa  1246700.0  19183590.0  1.163080e+11   \n",
       "..           ...            ...        ...         ...           ...   \n",
       "190    Venezuela  South America   916445.0  28946101.0  3.824240e+11   \n",
       "191      Vietnam           Asia   331212.0  89708900.0  1.558200e+11   \n",
       "192        Yemen           Asia   527968.0  25235000.0  3.283100e+10   \n",
       "193       Zambia         Africa   752612.0  15023315.0  2.149000e+10   \n",
       "194     Zimbabwe         Africa   390757.0  13061239.0  9.802000e+09   \n",
       "\n",
       "              capital  tld                                               flag  \n",
       "0               Kabul  .af  //upload.wikimedia.org/wikipedia/commons/9/9a/...  \n",
       "1              Tirana  .al  //upload.wikimedia.org/wikipedia/commons/3/36/...  \n",
       "2             Algiers  .dz  //upload.wikimedia.org/wikipedia/commons/7/77/...  \n",
       "3    Andorra la Vella  .ad  //upload.wikimedia.org/wikipedia/commons/1/19/...  \n",
       "4              Luanda  .ao  //upload.wikimedia.org/wikipedia/commons/9/9d/...  \n",
       "..                ...  ...                                                ...  \n",
       "190           Caracas  .ve  //upload.wikimedia.org/wikipedia/commons/0/06/...  \n",
       "191             Hanoi  .vn  //upload.wikimedia.org/wikipedia/commons/2/21/...  \n",
       "192            Sana‘a  .ye  //upload.wikimedia.org/wikipedia/commons/8/89/...  \n",
       "193            Lusaka  .zm  //upload.wikimedia.org/wikipedia/commons/0/06/...  \n",
       "194            Harare  .zw  //upload.wikimedia.org/wikipedia/commons/6/6a/...  \n",
       "\n",
       "[195 rows x 8 columns]"
      ]
     },
     "execution_count": 3,
     "metadata": {},
     "output_type": "execute_result"
    }
   ],
   "source": [
    "pd.read_sql_table('world', engine)"
   ]
  },
  {
   "cell_type": "markdown",
   "metadata": {},
   "source": [
    "`world`表一共195行，但由于`pandas`全局设置了`display.max_rows`，默认只显示了前10行。"
   ]
  },
  {
   "cell_type": "code",
   "execution_count": null,
   "metadata": {},
   "outputs": [],
   "source": []
  }
 ],
 "metadata": {
  "kernelspec": {
   "display_name": "Python 3",
   "language": "python",
   "name": "python3"
  },
  "language_info": {
   "codemirror_mode": {
    "name": "ipython",
    "version": 3
   },
   "file_extension": ".py",
   "mimetype": "text/x-python",
   "name": "python",
   "nbconvert_exporter": "python",
   "pygments_lexer": "ipython3",
   "version": "3.7.7"
  }
 },
 "nbformat": 4,
 "nbformat_minor": 4
}
