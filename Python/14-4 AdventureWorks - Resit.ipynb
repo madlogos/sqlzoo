{
 "cells": [
  {
   "cell_type": "markdown",
   "metadata": {},
   "source": [
    "# AdventureWorks: resit questions"
   ]
  },
  {
   "cell_type": "code",
   "execution_count": 1,
   "metadata": {},
   "outputs": [
    {
     "name": "stdout",
     "output_type": "stream",
     "text": [
      "········\n"
     ]
    }
   ],
   "source": [
    "import getpass\n",
    "import psycopg2\n",
    "from sqlalchemy import create_engine\n",
    "import pandas as pd\n",
    "import numpy as np\n",
    "pwd = getpass.getpass()\n",
    "engine = create_engine(\n",
    "    'postgresql+psycopg2://postgres:%s@192.168.31.31:15432/sqlzoo' % (pwd))\n",
    "pd.set_option('display.max_rows', 60)"
   ]
  },
  {
   "cell_type": "code",
   "execution_count": 2,
   "metadata": {},
   "outputs": [],
   "source": [
    "cust_aw = pd.read_sql_table('CustomerAW', engine)\n",
    "cust_addr = pd.read_sql_table('CustomerAddress', engine)\n",
    "addr = pd.read_sql_table('Address', engine)\n",
    "product = pd.read_sql_table('Product', engine)\n",
    "order_det = pd.read_sql_table('SalesOrderDetail', engine)\n",
    "order_head = pd.read_sql_table('SalesOrderHeader', engine)\n",
    "prod_model = pd.read_sql_table('ProductModel', engine)\n",
    "prod_model_prod = pd.read_sql_table('ProductModelProductDescription', engine)\n",
    "prod_desc = pd.read_sql_table('ProductDescription', engine)\n",
    "prod_cat = pd.read_sql_table('ProductCategory', engine)"
   ]
  },
  {
   "cell_type": "markdown",
   "metadata": {},
   "source": [
    "## 1.\n",
    "**List the SalesOrderNumber for the customer 'Good Toys' 'Bike World'**"
   ]
  },
  {
   "cell_type": "code",
   "execution_count": 3,
   "metadata": {},
   "outputs": [
    {
     "data": {
      "text/html": [
       "<div>\n",
       "<style scoped>\n",
       "    .dataframe tbody tr th:only-of-type {\n",
       "        vertical-align: middle;\n",
       "    }\n",
       "\n",
       "    .dataframe tbody tr th {\n",
       "        vertical-align: top;\n",
       "    }\n",
       "\n",
       "    .dataframe thead th {\n",
       "        text-align: right;\n",
       "    }\n",
       "</style>\n",
       "<table border=\"1\" class=\"dataframe\">\n",
       "  <thead>\n",
       "    <tr style=\"text-align: right;\">\n",
       "      <th></th>\n",
       "      <th>SalessOrderNumber</th>\n",
       "      <th>CompanyName</th>\n",
       "    </tr>\n",
       "  </thead>\n",
       "  <tbody>\n",
       "    <tr>\n",
       "      <th>0</th>\n",
       "      <td>NaN</td>\n",
       "      <td>Bike World</td>\n",
       "    </tr>\n",
       "    <tr>\n",
       "      <th>1</th>\n",
       "      <td>SO71774</td>\n",
       "      <td>Good Toys</td>\n",
       "    </tr>\n",
       "  </tbody>\n",
       "</table>\n",
       "</div>"
      ],
      "text/plain": [
       "  SalessOrderNumber CompanyName\n",
       "0               NaN  Bike World\n",
       "1           SO71774   Good Toys"
      ]
     },
     "execution_count": 3,
     "metadata": {},
     "output_type": "execute_result"
    }
   ],
   "source": [
    "(order_head.merge(cust_aw.loc[cust_aw['CompanyName'].isin(['Good Toys', 'Bike World'])], \n",
    "                  on='CustomerID', how='right'))[['SalessOrderNumber', 'CompanyName']]"
   ]
  },
  {
   "cell_type": "markdown",
   "metadata": {},
   "source": [
    "## 2.\n",
    "**List the ProductName and the quantity of what was ordered by 'Futuristic Bikes'**"
   ]
  },
  {
   "cell_type": "code",
   "execution_count": 4,
   "metadata": {},
   "outputs": [
    {
     "data": {
      "text/html": [
       "<div>\n",
       "<style scoped>\n",
       "    .dataframe tbody tr th:only-of-type {\n",
       "        vertical-align: middle;\n",
       "    }\n",
       "\n",
       "    .dataframe tbody tr th {\n",
       "        vertical-align: top;\n",
       "    }\n",
       "\n",
       "    .dataframe thead th {\n",
       "        text-align: right;\n",
       "    }\n",
       "</style>\n",
       "<table border=\"1\" class=\"dataframe\">\n",
       "  <thead>\n",
       "    <tr style=\"text-align: right;\">\n",
       "      <th></th>\n",
       "      <th>Name</th>\n",
       "      <th>OrderQty</th>\n",
       "    </tr>\n",
       "  </thead>\n",
       "  <tbody>\n",
       "    <tr>\n",
       "      <th>0</th>\n",
       "      <td>ML Mountain Seat/Saddle</td>\n",
       "      <td>2.0</td>\n",
       "    </tr>\n",
       "    <tr>\n",
       "      <th>1</th>\n",
       "      <td>Long-Sleeve Logo Jersey, L</td>\n",
       "      <td>2.0</td>\n",
       "    </tr>\n",
       "    <tr>\n",
       "      <th>2</th>\n",
       "      <td>Classic Vest, S</td>\n",
       "      <td>3.0</td>\n",
       "    </tr>\n",
       "  </tbody>\n",
       "</table>\n",
       "</div>"
      ],
      "text/plain": [
       "                         Name  OrderQty\n",
       "0     ML Mountain Seat/Saddle       2.0\n",
       "1  Long-Sleeve Logo Jersey, L       2.0\n",
       "2             Classic Vest, S       3.0"
      ]
     },
     "execution_count": 4,
     "metadata": {},
     "output_type": "execute_result"
    }
   ],
   "source": [
    "(product.merge(order_det, on='ProductID', how='right')\n",
    " .merge(order_head, on='SalesOrderID', how='right')\n",
    " .merge(cust_aw.loc[cust_aw['CompanyName']=='Futuristic Bikes'], \n",
    "        on='CustomerID', how='right'))[['Name', 'OrderQty']]"
   ]
  },
  {
   "cell_type": "markdown",
   "metadata": {},
   "source": [
    "## 3.\n",
    "**List the name and addresses of companies containing the word 'Bike' (upper or lower case) and companies containing 'cycle' (upper or lower case). Ensure that the 'bike's are listed before the 'cycles's.**"
   ]
  },
  {
   "cell_type": "code",
   "execution_count": 5,
   "metadata": {},
   "outputs": [
    {
     "data": {
      "text/html": [
       "<div>\n",
       "<style scoped>\n",
       "    .dataframe tbody tr th:only-of-type {\n",
       "        vertical-align: middle;\n",
       "    }\n",
       "\n",
       "    .dataframe tbody tr th {\n",
       "        vertical-align: top;\n",
       "    }\n",
       "\n",
       "    .dataframe thead th {\n",
       "        text-align: right;\n",
       "    }\n",
       "</style>\n",
       "<table border=\"1\" class=\"dataframe\">\n",
       "  <thead>\n",
       "    <tr style=\"text-align: right;\">\n",
       "      <th></th>\n",
       "      <th>CompanyName</th>\n",
       "      <th>AddressLine1</th>\n",
       "      <th>AddressLine2</th>\n",
       "      <th>City</th>\n",
       "      <th>StateProvince</th>\n",
       "      <th>CountryRegion</th>\n",
       "      <th>PostalCode</th>\n",
       "      <th>flag</th>\n",
       "    </tr>\n",
       "  </thead>\n",
       "  <tbody>\n",
       "    <tr>\n",
       "      <th>0</th>\n",
       "      <td>A Bike Store</td>\n",
       "      <td>2251 Elliot Avenue</td>\n",
       "      <td>None</td>\n",
       "      <td>Seattle</td>\n",
       "      <td>Washington</td>\n",
       "      <td>United States</td>\n",
       "      <td>98104</td>\n",
       "      <td>0</td>\n",
       "    </tr>\n",
       "    <tr>\n",
       "      <th>177</th>\n",
       "      <td>A Typical Bike Shop</td>\n",
       "      <td>One Dancing, Rr</td>\n",
       "      <td>No. 25 Box 8033</td>\n",
       "      <td>Round Rock</td>\n",
       "      <td>Texas</td>\n",
       "      <td>United States</td>\n",
       "      <td>78664</td>\n",
       "      <td>0</td>\n",
       "    </tr>\n",
       "    <tr>\n",
       "      <th>3</th>\n",
       "      <td>Advanced Bike Components</td>\n",
       "      <td>12345 Sterling Avenue</td>\n",
       "      <td>None</td>\n",
       "      <td>Irving</td>\n",
       "      <td>Texas</td>\n",
       "      <td>United States</td>\n",
       "      <td>75061</td>\n",
       "      <td>0</td>\n",
       "    </tr>\n",
       "    <tr>\n",
       "      <th>322</th>\n",
       "      <td>Area Bike Accessories</td>\n",
       "      <td>6900 Sisk Road</td>\n",
       "      <td>None</td>\n",
       "      <td>Modesto</td>\n",
       "      <td>California</td>\n",
       "      <td>United States</td>\n",
       "      <td>95354</td>\n",
       "      <td>0</td>\n",
       "    </tr>\n",
       "    <tr>\n",
       "      <th>8</th>\n",
       "      <td>Associated Bikes</td>\n",
       "      <td>5420 West 22500 South</td>\n",
       "      <td>None</td>\n",
       "      <td>Salt Lake City</td>\n",
       "      <td>Utah</td>\n",
       "      <td>United States</td>\n",
       "      <td>84101</td>\n",
       "      <td>0</td>\n",
       "    </tr>\n",
       "    <tr>\n",
       "      <th>...</th>\n",
       "      <td>...</td>\n",
       "      <td>...</td>\n",
       "      <td>...</td>\n",
       "      <td>...</td>\n",
       "      <td>...</td>\n",
       "      <td>...</td>\n",
       "      <td>...</td>\n",
       "      <td>...</td>\n",
       "    </tr>\n",
       "    <tr>\n",
       "      <th>217</th>\n",
       "      <td>Unicycles, Bicycles, and Tricycles</td>\n",
       "      <td>Stonewood Mall</td>\n",
       "      <td>None</td>\n",
       "      <td>Downey</td>\n",
       "      <td>California</td>\n",
       "      <td>United States</td>\n",
       "      <td>90241</td>\n",
       "      <td>1</td>\n",
       "    </tr>\n",
       "    <tr>\n",
       "      <th>324</th>\n",
       "      <td>Valley Bicycle Distributors</td>\n",
       "      <td>5867 Sunrise Boulevard</td>\n",
       "      <td>None</td>\n",
       "      <td>Citrus Heights</td>\n",
       "      <td>California</td>\n",
       "      <td>United States</td>\n",
       "      <td>95610</td>\n",
       "      <td>1</td>\n",
       "    </tr>\n",
       "    <tr>\n",
       "      <th>353</th>\n",
       "      <td>Valley Bicycle Specialists</td>\n",
       "      <td>Blue Ridge Mall</td>\n",
       "      <td>None</td>\n",
       "      <td>Kansas City</td>\n",
       "      <td>Missouri</td>\n",
       "      <td>United States</td>\n",
       "      <td>64106</td>\n",
       "      <td>1</td>\n",
       "    </tr>\n",
       "    <tr>\n",
       "      <th>72</th>\n",
       "      <td>Westside Cycle Store</td>\n",
       "      <td>25550 Executive Dr</td>\n",
       "      <td>None</td>\n",
       "      <td>Elgin</td>\n",
       "      <td>Illinois</td>\n",
       "      <td>United States</td>\n",
       "      <td>60120</td>\n",
       "      <td>1</td>\n",
       "    </tr>\n",
       "    <tr>\n",
       "      <th>417</th>\n",
       "      <td>Yellow Bicycle Company</td>\n",
       "      <td>St. Louis Marketplace</td>\n",
       "      <td>None</td>\n",
       "      <td>Saint Louis</td>\n",
       "      <td>Missouri</td>\n",
       "      <td>United States</td>\n",
       "      <td>63103</td>\n",
       "      <td>1</td>\n",
       "    </tr>\n",
       "  </tbody>\n",
       "</table>\n",
       "<p>192 rows × 8 columns</p>\n",
       "</div>"
      ],
      "text/plain": [
       "                            CompanyName            AddressLine1  \\\n",
       "0                          A Bike Store      2251 Elliot Avenue   \n",
       "177                 A Typical Bike Shop         One Dancing, Rr   \n",
       "3              Advanced Bike Components   12345 Sterling Avenue   \n",
       "322               Area Bike Accessories          6900 Sisk Road   \n",
       "8                      Associated Bikes   5420 West 22500 South   \n",
       "..                                  ...                     ...   \n",
       "217  Unicycles, Bicycles, and Tricycles          Stonewood Mall   \n",
       "324         Valley Bicycle Distributors  5867 Sunrise Boulevard   \n",
       "353          Valley Bicycle Specialists         Blue Ridge Mall   \n",
       "72                 Westside Cycle Store      25550 Executive Dr   \n",
       "417              Yellow Bicycle Company   St. Louis Marketplace   \n",
       "\n",
       "        AddressLine2            City StateProvince  CountryRegion PostalCode  \\\n",
       "0               None         Seattle    Washington  United States      98104   \n",
       "177  No. 25 Box 8033      Round Rock         Texas  United States      78664   \n",
       "3               None          Irving         Texas  United States      75061   \n",
       "322             None         Modesto    California  United States      95354   \n",
       "8               None  Salt Lake City          Utah  United States      84101   \n",
       "..               ...             ...           ...            ...        ...   \n",
       "217             None          Downey    California  United States      90241   \n",
       "324             None  Citrus Heights    California  United States      95610   \n",
       "353             None     Kansas City      Missouri  United States      64106   \n",
       "72              None           Elgin      Illinois  United States      60120   \n",
       "417             None     Saint Louis      Missouri  United States      63103   \n",
       "\n",
       "    flag  \n",
       "0      0  \n",
       "177    0  \n",
       "3      0  \n",
       "322    0  \n",
       "8      0  \n",
       "..   ...  \n",
       "217    1  \n",
       "324    1  \n",
       "353    1  \n",
       "72     1  \n",
       "417    1  \n",
       "\n",
       "[192 rows x 8 columns]"
      ]
     },
     "execution_count": 5,
     "metadata": {},
     "output_type": "execute_result"
    }
   ],
   "source": [
    "a = (cust_aw.merge(cust_addr, on='CustomerID')\n",
    "     .merge(addr, on='AddressID')\n",
    "     [['CompanyName', 'AddressLine1', 'AddressLine2', 'City',\n",
    "       'StateProvince', 'CountryRegion', 'PostalCode']])\n",
    "a['flag'] = None\n",
    "a.loc[a['CompanyName'].str.lower().str.contains('bike'), 'flag'] = 0\n",
    "a.loc[a['CompanyName'].str.lower().str.contains('cycle'), 'flag'] = 1\n",
    "a.dropna(subset='flag').sort_values(['flag', 'CompanyName'])"
   ]
  },
  {
   "cell_type": "markdown",
   "metadata": {},
   "source": [
    "## 4.\n",
    "**Show the total order value for each CountryRegion. List by value with the highest first.**"
   ]
  },
  {
   "cell_type": "code",
   "execution_count": 6,
   "metadata": {},
   "outputs": [
    {
     "data": {
      "text/html": [
       "<div>\n",
       "<style scoped>\n",
       "    .dataframe tbody tr th:only-of-type {\n",
       "        vertical-align: middle;\n",
       "    }\n",
       "\n",
       "    .dataframe tbody tr th {\n",
       "        vertical-align: top;\n",
       "    }\n",
       "\n",
       "    .dataframe thead th {\n",
       "        text-align: right;\n",
       "    }\n",
       "</style>\n",
       "<table border=\"1\" class=\"dataframe\">\n",
       "  <thead>\n",
       "    <tr style=\"text-align: right;\">\n",
       "      <th></th>\n",
       "      <th>CountryRegion</th>\n",
       "      <th>SubTotal</th>\n",
       "    </tr>\n",
       "  </thead>\n",
       "  <tbody>\n",
       "    <tr>\n",
       "      <th>0</th>\n",
       "      <td>United Kingdom</td>\n",
       "      <td>518096.42</td>\n",
       "    </tr>\n",
       "    <tr>\n",
       "      <th>1</th>\n",
       "      <td>United States</td>\n",
       "      <td>347336.69</td>\n",
       "    </tr>\n",
       "  </tbody>\n",
       "</table>\n",
       "</div>"
      ],
      "text/plain": [
       "    CountryRegion   SubTotal\n",
       "0  United Kingdom  518096.42\n",
       "1   United States  347336.69"
      ]
     },
     "execution_count": 6,
     "metadata": {},
     "output_type": "execute_result"
    }
   ],
   "source": [
    "a = addr.merge(order_head, left_on='AddressID', right_on='ShipToAddressID')\n",
    "(a.groupby('CountryRegion')['SubTotal'].sum()\n",
    " .reset_index().sort_values('SubTotal', ascending=False))"
   ]
  },
  {
   "cell_type": "markdown",
   "metadata": {},
   "source": [
    "## 5.\n",
    "**Find the best customer in each region.**"
   ]
  },
  {
   "cell_type": "code",
   "execution_count": 7,
   "metadata": {},
   "outputs": [
    {
     "data": {
      "text/html": [
       "<div>\n",
       "<style scoped>\n",
       "    .dataframe tbody tr th:only-of-type {\n",
       "        vertical-align: middle;\n",
       "    }\n",
       "\n",
       "    .dataframe tbody tr th {\n",
       "        vertical-align: top;\n",
       "    }\n",
       "\n",
       "    .dataframe thead th {\n",
       "        text-align: right;\n",
       "    }\n",
       "</style>\n",
       "<table border=\"1\" class=\"dataframe\">\n",
       "  <thead>\n",
       "    <tr style=\"text-align: right;\">\n",
       "      <th></th>\n",
       "      <th>CountryRegion</th>\n",
       "      <th>CompanyName</th>\n",
       "      <th>SubTotal</th>\n",
       "    </tr>\n",
       "    <tr>\n",
       "      <th>CountryRegion</th>\n",
       "      <th></th>\n",
       "      <th></th>\n",
       "      <th></th>\n",
       "    </tr>\n",
       "  </thead>\n",
       "  <tbody>\n",
       "    <tr>\n",
       "      <th>United Kingdom</th>\n",
       "      <td>United Kingdom</td>\n",
       "      <td>Action Bicycle Specialists</td>\n",
       "      <td>108561.83</td>\n",
       "    </tr>\n",
       "    <tr>\n",
       "      <th>United States</th>\n",
       "      <td>United States</td>\n",
       "      <td>Eastside Department Store</td>\n",
       "      <td>83858.43</td>\n",
       "    </tr>\n",
       "  </tbody>\n",
       "</table>\n",
       "</div>"
      ],
      "text/plain": [
       "                 CountryRegion                 CompanyName   SubTotal\n",
       "CountryRegion                                                        \n",
       "United Kingdom  United Kingdom  Action Bicycle Specialists  108561.83\n",
       "United States    United States   Eastside Department Store   83858.43"
      ]
     },
     "execution_count": 7,
     "metadata": {},
     "output_type": "execute_result"
    }
   ],
   "source": [
    "t = (addr.merge(order_head, left_on='AddressID', right_on='ShipToAddressID')\n",
    "     .merge(cust_aw, on='CustomerID'))\n",
    "a = (t.groupby(['CountryRegion', 'CompanyName'])['SubTotal']\n",
    "     .sum().reset_index())\n",
    "(a.sort_values('SubTotal', ascending=False).groupby('CountryRegion')\n",
    " .apply(lambda i: i.iloc[0]))"
   ]
  },
  {
   "cell_type": "code",
   "execution_count": null,
   "metadata": {},
   "outputs": [],
   "source": []
  }
 ],
 "metadata": {
  "kernelspec": {
   "display_name": "Python 3 (ipykernel)",
   "language": "python",
   "name": "python3"
  },
  "language_info": {
   "codemirror_mode": {
    "name": "ipython",
    "version": 3
   },
   "file_extension": ".py",
   "mimetype": "text/x-python",
   "name": "python",
   "nbconvert_exporter": "python",
   "pygments_lexer": "ipython3",
   "version": "3.8.10"
  }
 },
 "nbformat": 4,
 "nbformat_minor": 4
}
