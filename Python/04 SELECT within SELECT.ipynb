{
 "cells": [
  {
   "cell_type": "markdown",
   "metadata": {},
   "source": [
    "# SELECT within SELECT"
   ]
  },
  {
   "cell_type": "code",
   "execution_count": null,
   "metadata": {},
   "outputs": [],
   "source": [
    "import getpass\n",
    "import psycopg2\n",
    "from sqlalchemy import create_engine\n",
    "import pandas as pd\n",
    "pwd = getpass.getpass()\n",
    "engine = create_engine(\n",
    "    'postgresql+psycopg2://postgres:%s@localhost/sqlzoo' % (pwd))"
   ]
  },
  {
   "cell_type": "markdown",
   "metadata": {},
   "source": [
    "## 1. Bigger than Russia\n",
    "\n",
    "**List each country name where the population is larger than that of 'Russia'.**\n",
    "\n",
    "```\n",
    "world(name, continent, area, population, gdp)\n",
    "```"
   ]
  },
  {
   "cell_type": "code",
   "execution_count": null,
   "metadata": {},
   "outputs": [],
   "source": []
  },
  {
   "cell_type": "markdown",
   "metadata": {},
   "source": [
    "## 2. Richer than UK\n",
    "\n",
    "**Show the countries in Europe with a per capita GDP greater than 'United Kingdom'.**\n",
    "\n",
    "> _Per Capita GDP_   \n",
    "> The per capita GDP is the gdp/population"
   ]
  },
  {
   "cell_type": "code",
   "execution_count": null,
   "metadata": {},
   "outputs": [],
   "source": []
  },
  {
   "cell_type": "markdown",
   "metadata": {},
   "source": [
    "## 3. Neighbours of Argentina and Australia\n",
    "\n",
    "\n",
    "List the name and continent of countries in the continents containing either Argentina or Australia. Order by name of the country."
   ]
  },
  {
   "cell_type": "code",
   "execution_count": null,
   "metadata": {},
   "outputs": [],
   "source": []
  },
  {
   "cell_type": "markdown",
   "metadata": {},
   "source": [
    "## 4. Between Canada and Poland\n",
    "\n",
    "Which country has a population that is more than Canada but less than Poland? Show the name and the population."
   ]
  },
  {
   "cell_type": "code",
   "execution_count": null,
   "metadata": {},
   "outputs": [],
   "source": []
  },
  {
   "cell_type": "markdown",
   "metadata": {},
   "source": [
    "## 5. Percentages of Germany\n",
    "\n",
    "Germany (population 80 million) has the largest population of the countries in Europe. Austria (population 8.5 million) has 11% of the population of Germany.\n",
    "\n",
    "**Show the name and the population of each country in Europe. Show the population as a percentage of the population of Germany.**\n",
    "\n",
    "The format should be Name, Percentage for example:\n",
    "\n",
    "name\t| percentage\n",
    "--------|-----------\n",
    "Albania\t| 3%\n",
    "Andorra\t| 0%\n",
    "Austria\t| 11%\n",
    "...\t| ...\n",
    "\n",
    "> _Decimal places_   \n",
    "> You can use the function ROUND to remove the decimal places.\n",
    "\n",
    "> _Percent symbol %_\n",
    "> You can use the function CONCAT to add the percentage symbol.\n",
    "\n",
    "[To get a well rounded view of the important features of SQL you should move on to the next tutorial concerning aggregates.](https://sqlzoo.net/wiki/SUM_and_COUNT)\n",
    "\n",
    "To gain an absurdly detailed view of one insignificant feature of the language, read on.\n",
    "\n",
    "We can use the word `ALL` to allow >= or > or < or <=to act over a list. For example, you can find the largest country in the world, by population with this query:\n",
    "\n",
    "```sql\n",
    "SELECT name\n",
    "  FROM world\n",
    " WHERE population >= ALL(SELECT population\n",
    "                           FROM world\n",
    "                          WHERE population>0)\n",
    "```\n",
    "\n",
    "You need the condition **population>0** in the sub-query as some countries have **null** for population."
   ]
  },
  {
   "cell_type": "code",
   "execution_count": null,
   "metadata": {},
   "outputs": [],
   "source": []
  },
  {
   "cell_type": "markdown",
   "metadata": {},
   "source": [
    "## 6. Bigger than every country in Europe\n",
    "\n",
    "Which countries have a GDP greater than every country in Europe? [Give the name only.] (Some countries may have NULL gdp values)\n",
    "\n",
    "We can refer to values in the outer SELECT within the inner SELECT. We can name the tables so that we can tell the difference between the inner and outer versions."
   ]
  },
  {
   "cell_type": "code",
   "execution_count": null,
   "metadata": {},
   "outputs": [],
   "source": []
  },
  {
   "cell_type": "markdown",
   "metadata": {},
   "source": [
    "## 7. Largest in each continent\n",
    "\n",
    "**Find the largest country (by area) in each continent, show the continent, the name and the area:**\n",
    "\n",
    "```sql\n",
    "SELECT continent, name, population FROM world x\n",
    "  WHERE population >= ALL\n",
    "    (SELECT population FROM world y\n",
    "        WHERE y.continent=x.continent\n",
    "          AND population>0)\n",
    "```\n",
    "\n",
    "> __The above example is known as a correlated or synchronized sub-query.__   \n",
    "> \n",
    "> Using correlated subqueries\n",
    "> A correlated subquery works like a nested loop: the subquery only has access to rows related to a single > record at a time in the outer query. The technique relies on table aliases to identify two different uses of the same table, one in the outer query and the other in the subquery.\n",
    "> \n",
    "> One way to interpret the line in the **WHERE** clause that references the two table is _“… where the correlated values are the same”._\n",
    "> \n",
    "> In the example provided, you would say _“select the country details from world where the population is greater than or equal to the population of all countries where the continent is the same”._"
   ]
  },
  {
   "cell_type": "code",
   "execution_count": null,
   "metadata": {},
   "outputs": [],
   "source": []
  },
  {
   "cell_type": "markdown",
   "metadata": {},
   "source": [
    "## 8. First country of each continent (alphabetically)\n",
    "\n",
    "**List each continent and the name of the country that comes first alphabetically.**"
   ]
  },
  {
   "cell_type": "code",
   "execution_count": null,
   "metadata": {},
   "outputs": [],
   "source": []
  },
  {
   "cell_type": "markdown",
   "metadata": {},
   "source": [
    "## 9. Difficult Questions That Utilize Techniques Not Covered In Prior Sections\n",
    "\n",
    "**Find the continents where all countries have a population <= 25000000. Then find the names of the countries associated with these continents. Show name, continent and population.**"
   ]
  },
  {
   "cell_type": "code",
   "execution_count": null,
   "metadata": {},
   "outputs": [],
   "source": []
  },
  {
   "cell_type": "markdown",
   "metadata": {},
   "source": [
    "## 10.\n",
    "\n",
    "**Some countries have populations more than three times that of any of their neighbours (in the same continent). Give the countries and continents.**"
   ]
  },
  {
   "cell_type": "code",
   "execution_count": null,
   "metadata": {},
   "outputs": [],
   "source": []
  },
  {
   "cell_type": "code",
   "execution_count": null,
   "metadata": {},
   "outputs": [],
   "source": []
  }
 ],
 "metadata": {
  "kernelspec": {
   "display_name": "Python 3",
   "language": "python",
   "name": "python3"
  },
  "language_info": {
   "codemirror_mode": {
    "name": "ipython",
    "version": 3
   },
   "file_extension": ".py",
   "mimetype": "text/x-python",
   "name": "python",
   "nbconvert_exporter": "python",
   "pygments_lexer": "ipython3",
   "version": "3.7.7"
  }
 },
 "nbformat": 4,
 "nbformat_minor": 4
}
