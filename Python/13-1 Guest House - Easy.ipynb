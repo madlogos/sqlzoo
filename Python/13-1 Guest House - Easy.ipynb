{
 "cells": [
  {
   "cell_type": "markdown",
   "metadata": {},
   "source": [
    "# Guest House - Easy\n",
    "\n",
    "Data for this assessment is available:\n",
    "\n",
    "- [guesthouse data in MySQL format](http://sqlzoo.net/guesthouse.sql)\n",
    "- [guesthouse data in Microsoft SQL Server format](http://sqlzoo.net/guesthouse-ms.sql)\n",
    "\n",
    "Background\n",
    "\n",
    "- Guests stay at a small hotel.\n",
    "- Each booking is recorded in the table booking, the date of the first night of the booking is stored here (we do not record the date the booking was made)\n",
    "- At the time of booking the room to be used is decided\n",
    "- There are several room types (single, double..)\n",
    "- The amount charged depends on the room type and the number of people staying and the number of nights\n",
    "- Guests may be charged extras (for breakfast or using the minibar)\n",
    "- **Database Description** | [Easy Problems](https://sqlzoo.net/wiki/Guest_House_Assessment_Easy) | [Medium Problems](https://sqlzoo.net/wiki/Guest_House_Assessment_Medium) | [Hard Problems](https://sqlzoo.net/wiki/Guest_House_Assessment_Hard)\n",
    "- [Guest House Assessment Sample Queries](https://sqlzoo.net/wiki/Guest_House_Assessment_Sample_Queries)\n",
    "\n",
    "![rel](https://sqlzoo.net/w/images/8/83/Hotel.png)\n",
    "\n",
    "## Table booking\n",
    "The table booking contains an entry for every booking made at the hotel. A booking is made by one guest - even though more than one person may be staying we do not record the details of other guests in the same room. In normal operation the table includes both past and future bookings.\n",
    "\n",
    "```\n",
    "+------------+--------------+---------+----------+-----------+---------------------+--------+--------------+\n",
    "| booking_id | booking_date | room_no | guest_id | occupants | room_type_requested | nights | arrival_time |\n",
    "+------------+--------------+---------+----------+-----------+---------------------+--------+--------------+\n",
    "|       5001 | 2016-11-03   |     101 |     1027 |         1 | single              |      7 | 13:00        |\n",
    "|       5002 | 2016-11-03   |     102 |     1179 |         1 | double              |      2 | 18:00        |\n",
    "|       5003 | 2016-11-03   |     103 |     1106 |         2 | double              |      2 | 21:00        |\n",
    "|       5004 | 2016-11-03   |     104 |     1238 |         1 | double              |      3 | 22:00        |\n",
    "+------------+--------------+---------+----------+-----------+---------------------+--------+--------------+\n",
    "```\n",
    "\n",
    "## Table room\n",
    "Rooms are either single, double, twin or family.\n",
    "\n",
    "```\n",
    "+-----+-----------+---------------+\n",
    "| id  | room_type | max_occupancy |\n",
    "+-----+-----------+---------------+\n",
    "| 101 | single    |             1 |\n",
    "| 102 | double    |             2 |\n",
    "| 103 | double    |             2 |\n",
    "| 104 | double    |             2 |\n",
    "| 105 | family    |             3 |\n",
    "+-----+-----------+---------------+\n",
    "```\n",
    "\n",
    "## Table rate\n",
    "Rooms are charged per night, the amount charged depends on the \"room type requested\" value of the booking and the number of people staying:\n",
    "\n",
    "```\n",
    "+-----------+-----------+--------+\n",
    "| room_type | occupancy | amount |\n",
    "+-----------+-----------+--------+\n",
    "| double    |         1 |  56.00 |\n",
    "| double    |         2 |  72.00 |\n",
    "| family    |         1 |  56.00 |\n",
    "| family    |         2 |  72.00 |\n",
    "| family    |         3 |  84.00 |\n",
    "| single    |         1 |  48.00 |\n",
    "| twin      |         1 |  50.00 |\n",
    "| twin      |         2 |  72.00 |\n",
    "+-----------+-----------+--------+\n",
    "```\n",
    "\n",
    "You can see that a double room with one person staying costs £56 while a double room with 2 people staying costs £72 per night\n",
    "\n",
    "Note that the actual room assigned to the booking might not match the room required (a customer may ask for a single room but we actually assign her a double). In this case we charge at the \"requirement rate\"."
   ]
  },
  {
   "cell_type": "code",
   "execution_count": 1,
   "metadata": {},
   "outputs": [
    {
     "name": "stdout",
     "output_type": "stream",
     "text": [
      "········\n"
     ]
    }
   ],
   "source": [
    "import getpass\n",
    "import psycopg2\n",
    "from sqlalchemy import create_engine\n",
    "import pandas as pd\n",
    "import numpy as np\n",
    "pwd = getpass.getpass()\n",
    "engine = create_engine(\n",
    "    'postgresql+psycopg2://postgres:%s@192.168.31.31:15432/sqlzoo' % (pwd))\n",
    "pd.set_option('display.max_rows', 100)"
   ]
  },
  {
   "cell_type": "code",
   "execution_count": 2,
   "metadata": {},
   "outputs": [],
   "source": [
    "booking = pd.read_sql_table('booking', engine)\n",
    "guest = pd.read_sql_table('guest', engine)\n",
    "room = pd.read_sql_table('room', engine)\n",
    "rate = pd.read_sql_table('rate', engine)"
   ]
  },
  {
   "cell_type": "markdown",
   "metadata": {},
   "source": [
    "## 1.\n",
    "Guest 1183. Give the booking_date and the number of nights for guest 1183.\n",
    "\n",
    "```\n",
    "+--------------+--------+\n",
    "| booking_date | nights |\n",
    "+--------------+--------+\n",
    "| 2016-11-27   |      5 |\n",
    "+--------------+--------+\n",
    "```"
   ]
  },
  {
   "cell_type": "code",
   "execution_count": 3,
   "metadata": {},
   "outputs": [
    {
     "data": {
      "text/html": [
       "<div>\n",
       "<style scoped>\n",
       "    .dataframe tbody tr th:only-of-type {\n",
       "        vertical-align: middle;\n",
       "    }\n",
       "\n",
       "    .dataframe tbody tr th {\n",
       "        vertical-align: top;\n",
       "    }\n",
       "\n",
       "    .dataframe thead th {\n",
       "        text-align: right;\n",
       "    }\n",
       "</style>\n",
       "<table border=\"1\" class=\"dataframe\">\n",
       "  <thead>\n",
       "    <tr style=\"text-align: right;\">\n",
       "      <th></th>\n",
       "      <th>booking_date</th>\n",
       "      <th>nights</th>\n",
       "    </tr>\n",
       "  </thead>\n",
       "  <tbody>\n",
       "    <tr>\n",
       "      <th>280</th>\n",
       "      <td>2016-11-27</td>\n",
       "      <td>5</td>\n",
       "    </tr>\n",
       "  </tbody>\n",
       "</table>\n",
       "</div>"
      ],
      "text/plain": [
       "    booking_date  nights\n",
       "280   2016-11-27       5"
      ]
     },
     "execution_count": 3,
     "metadata": {},
     "output_type": "execute_result"
    }
   ],
   "source": [
    "booking.loc[booking['guest_id']==1183, ['booking_date', 'nights']]"
   ]
  },
  {
   "cell_type": "markdown",
   "metadata": {},
   "source": [
    "## 2.\n",
    "When do they get here? List the arrival time and the first and last names for all guests due to arrive on 2016-11-05, order the output by time of arrival.\n",
    "\n",
    "```\n",
    "+--------------+------------+-----------+\n",
    "| arrival_time | first_name | last_name |\n",
    "+--------------+------------+-----------+\n",
    "| 14:00        | Lisa       | Nandy     |\n",
    "| 15:00        | Jack       | Dromey    |\n",
    "| 16:00        | Mr Andrew  | Tyrie     |\n",
    "| 21:00        | James      | Heappey   |\n",
    "| 22:00        | Justin     | Tomlinson |\n",
    "+--------------+------------+-----------+\n",
    "```"
   ]
  },
  {
   "cell_type": "code",
   "execution_count": 4,
   "metadata": {},
   "outputs": [
    {
     "data": {
      "text/html": [
       "<div>\n",
       "<style scoped>\n",
       "    .dataframe tbody tr th:only-of-type {\n",
       "        vertical-align: middle;\n",
       "    }\n",
       "\n",
       "    .dataframe tbody tr th {\n",
       "        vertical-align: top;\n",
       "    }\n",
       "\n",
       "    .dataframe thead th {\n",
       "        text-align: right;\n",
       "    }\n",
       "</style>\n",
       "<table border=\"1\" class=\"dataframe\">\n",
       "  <thead>\n",
       "    <tr style=\"text-align: right;\">\n",
       "      <th></th>\n",
       "      <th>arrival_time</th>\n",
       "      <th>first_name</th>\n",
       "      <th>last_name</th>\n",
       "    </tr>\n",
       "  </thead>\n",
       "  <tbody>\n",
       "    <tr>\n",
       "      <th>31</th>\n",
       "      <td>18:00</td>\n",
       "      <td>Joan</td>\n",
       "      <td>Ryan</td>\n",
       "    </tr>\n",
       "    <tr>\n",
       "      <th>40</th>\n",
       "      <td>19:00</td>\n",
       "      <td>Diana</td>\n",
       "      <td>Johnson</td>\n",
       "    </tr>\n",
       "    <tr>\n",
       "      <th>50</th>\n",
       "      <td>20:00</td>\n",
       "      <td>Gloria</td>\n",
       "      <td>De Piero</td>\n",
       "    </tr>\n",
       "    <tr>\n",
       "      <th>30</th>\n",
       "      <td>21:00</td>\n",
       "      <td>Dr Phillip</td>\n",
       "      <td>Lee</td>\n",
       "    </tr>\n",
       "    <tr>\n",
       "      <th>42</th>\n",
       "      <td>21:00</td>\n",
       "      <td>Karin</td>\n",
       "      <td>Smyth</td>\n",
       "    </tr>\n",
       "  </tbody>\n",
       "</table>\n",
       "</div>"
      ],
      "text/plain": [
       "   arrival_time  first_name last_name\n",
       "31        18:00        Joan      Ryan\n",
       "40        19:00       Diana   Johnson\n",
       "50        20:00      Gloria  De Piero\n",
       "30        21:00  Dr Phillip       Lee\n",
       "42        21:00       Karin     Smyth"
      ]
     },
     "execution_count": 4,
     "metadata": {},
     "output_type": "execute_result"
    }
   ],
   "source": [
    "(booking.merge(guest, left_on='guest_id', right_on='id')\n",
    " .loc[booking['booking_date']=='2016-11-05', ['arrival_time', 'first_name', 'last_name']]\n",
    " .sort_values('arrival_time'))"
   ]
  },
  {
   "cell_type": "markdown",
   "metadata": {},
   "source": [
    "## 3.\n",
    "Look up daily rates. Give the daily rate that should be paid for bookings with ids 5152, 5165, 5154 and 5295. Include booking id, room type, number of occupants and the amount.\n",
    "\n",
    "```\n",
    "+------------+---------------------+-----------+--------+\n",
    "| booking_id | room_type_requested | occupants | amount |\n",
    "+------------+---------------------+-----------+--------+\n",
    "|       5152 | double              |         2 |  72.00 |\n",
    "|       5154 | double              |         1 |  56.00 |\n",
    "|       5295 | family              |         3 |  84.00 |\n",
    "+------------+---------------------+-----------+--------+\n",
    "```"
   ]
  },
  {
   "cell_type": "code",
   "execution_count": 5,
   "metadata": {},
   "outputs": [
    {
     "data": {
      "text/html": [
       "<div>\n",
       "<style scoped>\n",
       "    .dataframe tbody tr th:only-of-type {\n",
       "        vertical-align: middle;\n",
       "    }\n",
       "\n",
       "    .dataframe tbody tr th {\n",
       "        vertical-align: top;\n",
       "    }\n",
       "\n",
       "    .dataframe thead th {\n",
       "        text-align: right;\n",
       "    }\n",
       "</style>\n",
       "<table border=\"1\" class=\"dataframe\">\n",
       "  <thead>\n",
       "    <tr style=\"text-align: right;\">\n",
       "      <th></th>\n",
       "      <th>booking_id</th>\n",
       "      <th>room_type_requested</th>\n",
       "      <th>occupants</th>\n",
       "      <th>amount</th>\n",
       "    </tr>\n",
       "  </thead>\n",
       "  <tbody>\n",
       "    <tr>\n",
       "      <th>0</th>\n",
       "      <td>5152</td>\n",
       "      <td>double</td>\n",
       "      <td>2</td>\n",
       "      <td>72.0</td>\n",
       "    </tr>\n",
       "    <tr>\n",
       "      <th>1</th>\n",
       "      <td>5154</td>\n",
       "      <td>double</td>\n",
       "      <td>1</td>\n",
       "      <td>56.0</td>\n",
       "    </tr>\n",
       "    <tr>\n",
       "      <th>2</th>\n",
       "      <td>5295</td>\n",
       "      <td>family</td>\n",
       "      <td>3</td>\n",
       "      <td>84.0</td>\n",
       "    </tr>\n",
       "  </tbody>\n",
       "</table>\n",
       "</div>"
      ],
      "text/plain": [
       "   booking_id room_type_requested  occupants  amount\n",
       "0        5152              double          2    72.0\n",
       "1        5154              double          1    56.0\n",
       "2        5295              family          3    84.0"
      ]
     },
     "execution_count": 5,
     "metadata": {},
     "output_type": "execute_result"
    }
   ],
   "source": [
    "(booking.loc[booking['booking_id'].isin([5152, 5165, 5154, 5295])]\n",
    " .merge(room, left_on='room_no', right_on='id')\n",
    " .merge(rate, left_on=['room_type', 'occupants'], right_on=['room_type', 'occupancy'])\n",
    " [['booking_id', 'room_type_requested', 'occupants', 'amount']])"
   ]
  },
  {
   "cell_type": "markdown",
   "metadata": {},
   "source": [
    "## 4.\n",
    "Who’s in 101? Find who is staying in room 101 on 2016-12-03, include first name, last name and address.\n",
    "\n",
    "```\n",
    "+------------+-----------+-------------+\n",
    "| first_name | last_name | address     |\n",
    "+------------+-----------+-------------+\n",
    "| Graham     | Evans     | Weaver Vale |\n",
    "+------------+-----------+-------------+\n",
    "```"
   ]
  },
  {
   "cell_type": "code",
   "execution_count": 6,
   "metadata": {},
   "outputs": [
    {
     "data": {
      "text/html": [
       "<div>\n",
       "<style scoped>\n",
       "    .dataframe tbody tr th:only-of-type {\n",
       "        vertical-align: middle;\n",
       "    }\n",
       "\n",
       "    .dataframe tbody tr th {\n",
       "        vertical-align: top;\n",
       "    }\n",
       "\n",
       "    .dataframe thead th {\n",
       "        text-align: right;\n",
       "    }\n",
       "</style>\n",
       "<table border=\"1\" class=\"dataframe\">\n",
       "  <thead>\n",
       "    <tr style=\"text-align: right;\">\n",
       "      <th></th>\n",
       "      <th>first_name</th>\n",
       "      <th>last_name</th>\n",
       "      <th>address</th>\n",
       "    </tr>\n",
       "  </thead>\n",
       "  <tbody>\n",
       "    <tr>\n",
       "      <th>0</th>\n",
       "      <td>Graham</td>\n",
       "      <td>Evans</td>\n",
       "      <td>Weaver Vale</td>\n",
       "    </tr>\n",
       "  </tbody>\n",
       "</table>\n",
       "</div>"
      ],
      "text/plain": [
       "  first_name last_name      address\n",
       "0     Graham     Evans  Weaver Vale"
      ]
     },
     "execution_count": 6,
     "metadata": {},
     "output_type": "execute_result"
    }
   ],
   "source": [
    "(booking\n",
    " .loc[(booking['room_no']==101) &\n",
    "    (booking['booking_date'] >= '2016-12-03') &\n",
    "    (booking['booking_date'] <= pd.Timestamp('2016-12-03') + \n",
    "                                pd.to_timedelta(booking['nights'], unit='D'))]\n",
    " .merge(guest, left_on='guest_id', right_on='id')\n",
    " [['first_name', 'last_name', 'address']])"
   ]
  },
  {
   "cell_type": "markdown",
   "metadata": {},
   "source": [
    "## 5.\n",
    "How many bookings, how many nights? For guests 1185 and 1270 show the number of bookings made and the total number of nights. Your output should include the guest id and the total number of bookings and the total number of nights.\n",
    "\n",
    "```\n",
    "+----------+---------------+-------------+\n",
    "| guest_id | COUNT(nights) | SUM(nights) |\n",
    "+----------+---------------+-------------+\n",
    "|     1185 |             3 |           8 |\n",
    "|     1270 |             2 |           3 |\n",
    "+----------+---------------+-------------+\n",
    "```"
   ]
  },
  {
   "cell_type": "code",
   "execution_count": 7,
   "metadata": {},
   "outputs": [
    {
     "data": {
      "text/html": [
       "<div>\n",
       "<style scoped>\n",
       "    .dataframe tbody tr th:only-of-type {\n",
       "        vertical-align: middle;\n",
       "    }\n",
       "\n",
       "    .dataframe tbody tr th {\n",
       "        vertical-align: top;\n",
       "    }\n",
       "\n",
       "    .dataframe thead th {\n",
       "        text-align: right;\n",
       "    }\n",
       "</style>\n",
       "<table border=\"1\" class=\"dataframe\">\n",
       "  <thead>\n",
       "    <tr style=\"text-align: right;\">\n",
       "      <th></th>\n",
       "      <th>guest_id</th>\n",
       "      <th>COUNT(nights)</th>\n",
       "      <th>SUM(nights)</th>\n",
       "    </tr>\n",
       "  </thead>\n",
       "  <tbody>\n",
       "    <tr>\n",
       "      <th>0</th>\n",
       "      <td>1185</td>\n",
       "      <td>3</td>\n",
       "      <td>8</td>\n",
       "    </tr>\n",
       "    <tr>\n",
       "      <th>1</th>\n",
       "      <td>1270</td>\n",
       "      <td>2</td>\n",
       "      <td>3</td>\n",
       "    </tr>\n",
       "  </tbody>\n",
       "</table>\n",
       "</div>"
      ],
      "text/plain": [
       "   guest_id  COUNT(nights)  SUM(nights)\n",
       "0      1185              3            8\n",
       "1      1270              2            3"
      ]
     },
     "execution_count": 7,
     "metadata": {},
     "output_type": "execute_result"
    }
   ],
   "source": [
    "a = (booking.loc[booking['guest_id'].isin([1185, 1270]), \n",
    "             ['guest_id', 'nights']]\n",
    " .groupby('guest_id', as_index=True)\n",
    " .agg(['count', 'sum'])\n",
    " .reset_index())\n",
    "a.columns = ['guest_id', 'COUNT(nights)', 'SUM(nights)']\n",
    "a"
   ]
  },
  {
   "cell_type": "code",
   "execution_count": null,
   "metadata": {},
   "outputs": [],
   "source": []
  }
 ],
 "metadata": {
  "kernelspec": {
   "display_name": "Python 3 (ipykernel)",
   "language": "python",
   "name": "python3"
  },
  "language_info": {
   "codemirror_mode": {
    "name": "ipython",
    "version": 3
   },
   "file_extension": ".py",
   "mimetype": "text/x-python",
   "name": "python",
   "nbconvert_exporter": "python",
   "pygments_lexer": "ipython3",
   "version": "3.8.10"
  }
 },
 "nbformat": 4,
 "nbformat_minor": 4
}
