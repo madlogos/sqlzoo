{
 "cells": [
  {
   "cell_type": "markdown",
   "metadata": {},
   "source": [
    "# Dressmaker - Samples"
   ]
  },
  {
   "cell_type": "code",
   "execution_count": null,
   "metadata": {},
   "outputs": [],
   "source": [
    "library(tidyverse)\n",
    "library(DBI)\n",
    "library(getPass)\n",
    "drv <- switch(Sys.info()['sysname'],\n",
    "             Windows=\"PostgreSQL Unicode(x64)\",\n",
    "             Darwin=\"/usr/local/lib/psqlodbcw.so\",\n",
    "             Linux=\"PostgreSQL\")\n",
    "con <- dbConnect(\n",
    "  odbc::odbc(),\n",
    "  driver = drv,\n",
    "  Server = \"localhost\",\n",
    "  Database = \"sqlzoo\",\n",
    "  UID = \"postgres\",\n",
    "  PWD = getPass(\"Password?\"),\n",
    "  Port = 5432\n",
    ")\n",
    "options(repr.matrix.max.rows=20)"
   ]
  },
  {
   "cell_type": "markdown",
   "metadata": {},
   "source": [
    "## 1.\n",
    "The \"central\" table in this database is order_line - every garment ordered takes one line in this table. Many of the fields in this table are references to other tables. The fields of this table have the following meaning: order_ref\n",
    "\n",
    "This is a link to the dress_order table. We can join the dress_order table to find information such as the the date of the order and the customer number for a given garment order.\n",
    "\n",
    "- line_no\n",
    "\n",
    "The line number is used to distinguish different items on the same order - for example order number 5 has three lines - 1, 2 and 3.\n",
    "\n",
    "- ol_style\n",
    "\n",
    "Indicates the article of clothing ordered. For example ol_style 1 indicates trousers - we can see this by joining to the garments table. Line 1 in the garment table is trousers.\n",
    "\n",
    "- ol_size\n",
    "\n",
    "The size of the item ordered is given here - this is particularly important when it comes to working out how much material is required to build the item. We can see from the quantities table that trousers (style 1) in size 8 takes 2.7 meters - whereas trousers in size 12 needs 2.8 meters.\n",
    "\n",
    "- ol_material\n",
    "\n",
    "Each order specifies the material to be used. We can join to the material table to find a description or cost per meter. Material 1 is Silk, Black, Plain costing £7 per meter.\n",
    "\n",
    "```sql\n",
    "show create table order_line\n",
    "```"
   ]
  },
  {
   "cell_type": "code",
   "execution_count": null,
   "metadata": {},
   "outputs": [],
   "source": []
  },
  {
   "cell_type": "markdown",
   "metadata": {},
   "source": [
    "## 2.\n",
    "A sample join:\n",
    "\n",
    "In order to translate the numbers in order_line into meaningful values we need to join a related table. For example if we want to access the descriptions of the materials we need to join the material table.\n",
    "\n",
    "To achieve the join we include the table material on the FROM line and the join condition as a WHERE clause.\n",
    "\n",
    "For each pair of tables there is a join condition between them (if they are linked). To find the join condition between order_line and material we look at the order_line table CREATE statement and notice the line that specifies that ol_material references the material table. This link will always be to the primary key of material table.\n",
    "\n",
    "```sql\n",
    "CREATE TABLE order_line (\n",
    "  order_ref\tINTEGER\tNOT NULL REFERENCES dress_order\n",
    " ,line_no\tINTEGER\tNOT NULL\n",
    " ,ol_style\tINTEGER\tREFERENCES garment\n",
    " ,ol_size\tINTEGER\tNOT NULL\n",
    " ,ol_material\tINTEGER\tREFERENCES material\n",
    " ,PRIMARY KEY (order_ref, line_no)\n",
    " ,FOREIGN KEY (ol_style, ol_size) REFERENCES quantities\n",
    " );\n",
    "SELECT order_ref, line_no, fabric, colour, pattern, cost\n",
    "  FROM order_line, material\n",
    " WHERE ol_material = material_no\n",
    "```"
   ]
  },
  {
   "cell_type": "code",
   "execution_count": null,
   "metadata": {},
   "outputs": [],
   "source": []
  },
  {
   "cell_type": "markdown",
   "metadata": {},
   "source": [
    "## 3.\n",
    "To get a description of the garment we need to join the garment table. The join condition is that the ol_style in order_line matches the style_no in garment.\n",
    "\n",
    "```sql\n",
    "SELECT order_ref, line_no, description\n",
    "  FROM order_line, garment\n",
    " WHERE ol_style = style_no\n",
    "```"
   ]
  },
  {
   "cell_type": "code",
   "execution_count": null,
   "metadata": {},
   "outputs": [],
   "source": []
  },
  {
   "cell_type": "markdown",
   "metadata": {},
   "source": [
    "## 4.\n",
    "If we need both the description and the fabric we can join both material and garment to the order_line table. The join conditions are combined with \"AND\"\n",
    "\n",
    "```sql\n",
    "SELECT order_ref, line_no, fabric, description\n",
    "  FROM order_line, material, garment\n",
    " WHERE ol_style = style_no\n",
    "   AND ol_material = material_no\n",
    "```"
   ]
  },
  {
   "cell_type": "code",
   "execution_count": null,
   "metadata": {},
   "outputs": [],
   "source": []
  },
  {
   "cell_type": "markdown",
   "metadata": {},
   "source": [
    "## 5.\n",
    "The quantities table tells us how much material is required for every garment for every size available. The join between the order_line and quantities is unusual in that it involves two fields. This can be seen by the fact that quantities has a composite key.\n",
    "\n",
    "```sql\n",
    "SELECT order_ref, line_no, quantity\n",
    "  FROM order_line, quantities\n",
    " WHERE ol_style = style_q\n",
    "   AND ol_size  = size_q\n",
    "```"
   ]
  },
  {
   "cell_type": "code",
   "execution_count": null,
   "metadata": {},
   "outputs": [],
   "source": []
  },
  {
   "cell_type": "markdown",
   "metadata": {},
   "source": [
    "## 6.\n",
    "Customers place orders - each order contains many lines - each line of the order refers to a garment:\n",
    "\n",
    "```sql\n",
    "SELECT c_name, order_date, order_no, line_no\n",
    "   FROM jmcust, dress_order, order_line\n",
    "  WHERE          jmcust.c_no = dress_order.cust_no\n",
    "  AND   dress_order.order_no = order_line.order_ref\n",
    "```"
   ]
  },
  {
   "cell_type": "code",
   "execution_count": null,
   "metadata": {},
   "outputs": [],
   "source": []
  },
  {
   "cell_type": "markdown",
   "metadata": {},
   "source": [
    "## 7.\n",
    "There's also a dress maker table, and a table called construction which gives you information about who made which order and when:\n",
    "\n",
    "```sql\n",
    "SELECT d_no, d_name, construction.order_ref, construction.line_ref, start_date, finish_date\n",
    " FROM dressmaker, order_line, construction\n",
    " WHERE  d_no=maker  \n",
    " AND order_line.order_ref=construction.order_ref \n",
    " AND order_line.line_no=construction.line_ref\n",
    "```"
   ]
  },
  {
   "cell_type": "code",
   "execution_count": null,
   "metadata": {},
   "outputs": [],
   "source": []
  }
 ],
 "metadata": {
  "kernelspec": {
   "display_name": "R",
   "language": "R",
   "name": "ir"
  },
  "language_info": {
   "codemirror_mode": "r",
   "file_extension": ".r",
   "mimetype": "text/x-r-source",
   "name": "R",
   "pygments_lexer": "r",
   "version": "3.6.3"
  }
 },
 "nbformat": 4,
 "nbformat_minor": 4
}
