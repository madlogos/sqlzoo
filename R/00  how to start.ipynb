{
 "cells": [
  {
   "cell_type": "markdown",
   "metadata": {},
   "source": [
    "# 在JupyterLab中运行R"
   ]
  },
  {
   "cell_type": "markdown",
   "metadata": {},
   "source": [
    "1. 在R中安装必要的包，安装方法：\n",
    "    ```r\n",
    "    install.packages(c('repr', 'IRdisplay', 'evaluate', 'crayon', 'pbdZMQ', 'devtools', 'uuid', 'digest', 'IRkernel))\n",
    "    ```\n",
    "1. 安装R内核\n",
    "    - 当前用户\n",
    "    ```r\n",
    "    IRkernel::installspec()\n",
    "    ```\n",
    "    - 系统所有用户\n",
    "    ```r\n",
    "    IRkernel::installspec(user=FALSE)\n",
    "    ```\n",
    "1. 启动数据库`localhost/sqlzoo`（数据需提前导入）。\n",
    "1. 通过`DBI`连接sqlzoo数据库。\n",
    "\n",
    "本案例使用PostgreSQL，也可以使用MySQL/MariaDB。"
   ]
  },
  {
   "cell_type": "code",
   "execution_count": 1,
   "metadata": {},
   "outputs": [
    {
     "name": "stderr",
     "output_type": "stream",
     "text": [
      "─ \u001b[1mAttaching packages\u001b[22m ──────────────────── tidyverse 1.3.0 ─\n",
      "\n",
      "\u001b[32m✔\u001b[39m \u001b[34mggplot2\u001b[39m 3.3.0     \u001b[32m✔\u001b[39m \u001b[34mpurrr  \u001b[39m 0.3.4\n",
      "\u001b[32m✔\u001b[39m \u001b[34mtibble \u001b[39m 3.0.1     \u001b[32m✔\u001b[39m \u001b[34mdplyr  \u001b[39m 0.8.5\n",
      "\u001b[32m✔\u001b[39m \u001b[34mtidyr  \u001b[39m 1.0.2     \u001b[32m✔\u001b[39m \u001b[34mstringr\u001b[39m 1.4.0\n",
      "\u001b[32m✔\u001b[39m \u001b[34mreadr  \u001b[39m 1.3.1     \u001b[32m✔\u001b[39m \u001b[34mforcats\u001b[39m 0.5.0\n",
      "\n",
      "─ \u001b[1mConflicts\u001b[22m ───────────────────── tidyverse_conflicts() ─\n",
      "\u001b[31m✖\u001b[39m \u001b[34mdplyr\u001b[39m::\u001b[32mfilter()\u001b[39m masks \u001b[34mstats\u001b[39m::filter()\n",
      "\u001b[31m✖\u001b[39m \u001b[34mdplyr\u001b[39m::\u001b[32mlag()\u001b[39m    masks \u001b[34mstats\u001b[39m::lag()\n",
      "\n"
     ]
    },
    {
     "name": "stdin",
     "output_type": "stream",
     "text": [
      "Password? ····\n"
     ]
    }
   ],
   "source": [
    "library(tidyverse)\n",
    "library(DBI)\n",
    "library(getPass)\n",
    "drv <- switch(Sys.info()['sysname'],\n",
    "             Windows=\"PostgreSQL Unicode(x64)\",\n",
    "             Darwin=\"/usr/local/lib/psqlodbcw.so\",\n",
    "             Linux=\"PostgreSQL\")\n",
    "con <- dbConnect(\n",
    "  odbc::odbc(),\n",
    "  driver = drv,\n",
    "  Server = \"localhost\",\n",
    "  Database = \"sqlzoo\",\n",
    "  UID = \"postgres\",\n",
    "  PWD = getPass(\"Password?\"),\n",
    "  Port = 5432\n",
    ")"
   ]
  },
  {
   "cell_type": "markdown",
   "metadata": {},
   "source": [
    "连接上以后还可以做一些设置，比如将长度显示行数的上限为10："
   ]
  },
  {
   "cell_type": "code",
   "execution_count": 2,
   "metadata": {},
   "outputs": [],
   "source": [
    "options(repr.matrix.max.rows=10)"
   ]
  },
  {
   "cell_type": "markdown",
   "metadata": {},
   "source": [
    "## 示例"
   ]
  },
  {
   "cell_type": "markdown",
   "metadata": {},
   "source": [
    "接下来就可以用`dplyr`操作数据库了。"
   ]
  },
  {
   "cell_type": "code",
   "execution_count": 3,
   "metadata": {},
   "outputs": [
    {
     "data": {
      "text/html": [
       "<table>\n",
       "<caption>A data.frame: 195 × 8</caption>\n",
       "<thead>\n",
       "\t<tr><th scope=col>name</th><th scope=col>continent</th><th scope=col>area</th><th scope=col>population</th><th scope=col>gdp</th><th scope=col>capital</th><th scope=col>tld</th><th scope=col>flag</th></tr>\n",
       "\t<tr><th scope=col>&lt;chr&gt;</th><th scope=col>&lt;chr&gt;</th><th scope=col>&lt;dbl&gt;</th><th scope=col>&lt;dbl&gt;</th><th scope=col>&lt;dbl&gt;</th><th scope=col>&lt;chr&gt;</th><th scope=col>&lt;chr&gt;</th><th scope=col>&lt;chr&gt;</th></tr>\n",
       "</thead>\n",
       "<tbody>\n",
       "\t<tr><td>Afghanistan</td><td>Asia  </td><td> 652230</td><td>25500100</td><td>2.03640e+10</td><td>Kabul           </td><td>.af</td><td>//upload.wikimedia.org/wikipedia/commons/9/9a/Flag_of_Afghanistan.svg</td></tr>\n",
       "\t<tr><td>Albania    </td><td>Europe</td><td>  28748</td><td> 2821977</td><td>1.20440e+10</td><td>Tirana          </td><td>.al</td><td>//upload.wikimedia.org/wikipedia/commons/3/36/Flag_of_Albania.svg    </td></tr>\n",
       "\t<tr><td>Algeria    </td><td>Africa</td><td>2381741</td><td>38700000</td><td>2.07021e+11</td><td>Algiers         </td><td>.dz</td><td>//upload.wikimedia.org/wikipedia/commons/7/77/Flag_of_Algeria.svg    </td></tr>\n",
       "\t<tr><td>Andorra    </td><td>Europe</td><td>    468</td><td>   76098</td><td>3.22200e+09</td><td>Andorra la Vella</td><td>.ad</td><td>//upload.wikimedia.org/wikipedia/commons/1/19/Flag_of_Andorra.svg    </td></tr>\n",
       "\t<tr><td>Angola     </td><td>Africa</td><td>1246700</td><td>19183590</td><td>1.16308e+11</td><td>Luanda          </td><td>.ao</td><td>//upload.wikimedia.org/wikipedia/commons/9/9d/Flag_of_Angola.svg     </td></tr>\n",
       "\t<tr><td>⋮</td><td>⋮</td><td>⋮</td><td>⋮</td><td>⋮</td><td>⋮</td><td>⋮</td><td>⋮</td></tr>\n",
       "\t<tr><td>Venezuela</td><td>South America</td><td>916445</td><td>28946101</td><td>3.82424e+11</td><td>Caracas</td><td>.ve</td><td>//upload.wikimedia.org/wikipedia/commons/0/06/Flag_of_Venezuela.svg</td></tr>\n",
       "\t<tr><td>Vietnam  </td><td>Asia         </td><td>331212</td><td>89708900</td><td>1.55820e+11</td><td>Hanoi  </td><td>.vn</td><td>//upload.wikimedia.org/wikipedia/commons/2/21/Flag_of_Vietnam.svg  </td></tr>\n",
       "\t<tr><td>Yemen    </td><td>Asia         </td><td>527968</td><td>25235000</td><td>3.28310e+10</td><td>Sana‘a</td><td>.ye</td><td>//upload.wikimedia.org/wikipedia/commons/8/89/Flag_of_Yemen.svg    </td></tr>\n",
       "\t<tr><td>Zambia   </td><td>Africa       </td><td>752612</td><td>15023315</td><td>2.14900e+10</td><td>Lusaka </td><td>.zm</td><td>//upload.wikimedia.org/wikipedia/commons/0/06/Flag_of_Zambia.svg   </td></tr>\n",
       "\t<tr><td>Zimbabwe </td><td>Africa       </td><td>390757</td><td>13061239</td><td>9.80200e+09</td><td>Harare </td><td>.zw</td><td>//upload.wikimedia.org/wikipedia/commons/6/6a/Flag_of_Zimbabwe.svg </td></tr>\n",
       "</tbody>\n",
       "</table>\n"
      ],
      "text/latex": [
       "A data.frame: 195 × 8\n",
       "\\begin{tabular}{llllllll}\n",
       " name & continent & area & population & gdp & capital & tld & flag\\\\\n",
       " <chr> & <chr> & <dbl> & <dbl> & <dbl> & <chr> & <chr> & <chr>\\\\\n",
       "\\hline\n",
       "\t Afghanistan & Asia   &  652230 & 25500100 & 2.03640e+10 & Kabul            & .af & //upload.wikimedia.org/wikipedia/commons/9/9a/Flag\\_of\\_Afghanistan.svg\\\\\n",
       "\t Albania     & Europe &   28748 &  2821977 & 1.20440e+10 & Tirana           & .al & //upload.wikimedia.org/wikipedia/commons/3/36/Flag\\_of\\_Albania.svg    \\\\\n",
       "\t Algeria     & Africa & 2381741 & 38700000 & 2.07021e+11 & Algiers          & .dz & //upload.wikimedia.org/wikipedia/commons/7/77/Flag\\_of\\_Algeria.svg    \\\\\n",
       "\t Andorra     & Europe &     468 &    76098 & 3.22200e+09 & Andorra la Vella & .ad & //upload.wikimedia.org/wikipedia/commons/1/19/Flag\\_of\\_Andorra.svg    \\\\\n",
       "\t Angola      & Africa & 1246700 & 19183590 & 1.16308e+11 & Luanda           & .ao & //upload.wikimedia.org/wikipedia/commons/9/9d/Flag\\_of\\_Angola.svg     \\\\\n",
       "\t ⋮ & ⋮ & ⋮ & ⋮ & ⋮ & ⋮ & ⋮ & ⋮\\\\\n",
       "\t Venezuela & South America & 916445 & 28946101 & 3.82424e+11 & Caracas & .ve & //upload.wikimedia.org/wikipedia/commons/0/06/Flag\\_of\\_Venezuela.svg\\\\\n",
       "\t Vietnam   & Asia          & 331212 & 89708900 & 1.55820e+11 & Hanoi   & .vn & //upload.wikimedia.org/wikipedia/commons/2/21/Flag\\_of\\_Vietnam.svg  \\\\\n",
       "\t Yemen     & Asia          & 527968 & 25235000 & 3.28310e+10 & Sana‘a & .ye & //upload.wikimedia.org/wikipedia/commons/8/89/Flag\\_of\\_Yemen.svg    \\\\\n",
       "\t Zambia    & Africa        & 752612 & 15023315 & 2.14900e+10 & Lusaka  & .zm & //upload.wikimedia.org/wikipedia/commons/0/06/Flag\\_of\\_Zambia.svg   \\\\\n",
       "\t Zimbabwe  & Africa        & 390757 & 13061239 & 9.80200e+09 & Harare  & .zw & //upload.wikimedia.org/wikipedia/commons/6/6a/Flag\\_of\\_Zimbabwe.svg \\\\\n",
       "\\end{tabular}\n"
      ],
      "text/markdown": [
       "\n",
       "A data.frame: 195 × 8\n",
       "\n",
       "| name &lt;chr&gt; | continent &lt;chr&gt; | area &lt;dbl&gt; | population &lt;dbl&gt; | gdp &lt;dbl&gt; | capital &lt;chr&gt; | tld &lt;chr&gt; | flag &lt;chr&gt; |\n",
       "|---|---|---|---|---|---|---|---|\n",
       "| Afghanistan | Asia   |  652230 | 25500100 | 2.03640e+10 | Kabul            | .af | //upload.wikimedia.org/wikipedia/commons/9/9a/Flag_of_Afghanistan.svg |\n",
       "| Albania     | Europe |   28748 |  2821977 | 1.20440e+10 | Tirana           | .al | //upload.wikimedia.org/wikipedia/commons/3/36/Flag_of_Albania.svg     |\n",
       "| Algeria     | Africa | 2381741 | 38700000 | 2.07021e+11 | Algiers          | .dz | //upload.wikimedia.org/wikipedia/commons/7/77/Flag_of_Algeria.svg     |\n",
       "| Andorra     | Europe |     468 |    76098 | 3.22200e+09 | Andorra la Vella | .ad | //upload.wikimedia.org/wikipedia/commons/1/19/Flag_of_Andorra.svg     |\n",
       "| Angola      | Africa | 1246700 | 19183590 | 1.16308e+11 | Luanda           | .ao | //upload.wikimedia.org/wikipedia/commons/9/9d/Flag_of_Angola.svg      |\n",
       "| ⋮ | ⋮ | ⋮ | ⋮ | ⋮ | ⋮ | ⋮ | ⋮ |\n",
       "| Venezuela | South America | 916445 | 28946101 | 3.82424e+11 | Caracas | .ve | //upload.wikimedia.org/wikipedia/commons/0/06/Flag_of_Venezuela.svg |\n",
       "| Vietnam   | Asia          | 331212 | 89708900 | 1.55820e+11 | Hanoi   | .vn | //upload.wikimedia.org/wikipedia/commons/2/21/Flag_of_Vietnam.svg   |\n",
       "| Yemen     | Asia          | 527968 | 25235000 | 3.28310e+10 | Sana‘a | .ye | //upload.wikimedia.org/wikipedia/commons/8/89/Flag_of_Yemen.svg     |\n",
       "| Zambia    | Africa        | 752612 | 15023315 | 2.14900e+10 | Lusaka  | .zm | //upload.wikimedia.org/wikipedia/commons/0/06/Flag_of_Zambia.svg    |\n",
       "| Zimbabwe  | Africa        | 390757 | 13061239 | 9.80200e+09 | Harare  | .zw | //upload.wikimedia.org/wikipedia/commons/6/6a/Flag_of_Zimbabwe.svg  |\n",
       "\n"
      ],
      "text/plain": [
       "    name        continent     area    population gdp         capital         \n",
       "1   Afghanistan Asia           652230 25500100   2.03640e+10 Kabul           \n",
       "2   Albania     Europe          28748  2821977   1.20440e+10 Tirana          \n",
       "3   Algeria     Africa        2381741 38700000   2.07021e+11 Algiers         \n",
       "4   Andorra     Europe            468    76098   3.22200e+09 Andorra la Vella\n",
       "5   Angola      Africa        1246700 19183590   1.16308e+11 Luanda          \n",
       "⋮   ⋮           ⋮             ⋮       ⋮          ⋮           ⋮               \n",
       "191 Venezuela   South America 916445  28946101   3.82424e+11 Caracas         \n",
       "192 Vietnam     Asia          331212  89708900   1.55820e+11 Hanoi           \n",
       "193 Yemen       Asia          527968  25235000   3.28310e+10 Sana‘a         \n",
       "194 Zambia      Africa        752612  15023315   2.14900e+10 Lusaka          \n",
       "195 Zimbabwe    Africa        390757  13061239   9.80200e+09 Harare          \n",
       "    tld flag                                                                 \n",
       "1   .af //upload.wikimedia.org/wikipedia/commons/9/9a/Flag_of_Afghanistan.svg\n",
       "2   .al //upload.wikimedia.org/wikipedia/commons/3/36/Flag_of_Albania.svg    \n",
       "3   .dz //upload.wikimedia.org/wikipedia/commons/7/77/Flag_of_Algeria.svg    \n",
       "4   .ad //upload.wikimedia.org/wikipedia/commons/1/19/Flag_of_Andorra.svg    \n",
       "5   .ao //upload.wikimedia.org/wikipedia/commons/9/9d/Flag_of_Angola.svg     \n",
       "⋮   ⋮   ⋮                                                                    \n",
       "191 .ve //upload.wikimedia.org/wikipedia/commons/0/06/Flag_of_Venezuela.svg  \n",
       "192 .vn //upload.wikimedia.org/wikipedia/commons/2/21/Flag_of_Vietnam.svg    \n",
       "193 .ye //upload.wikimedia.org/wikipedia/commons/8/89/Flag_of_Yemen.svg      \n",
       "194 .zm //upload.wikimedia.org/wikipedia/commons/0/06/Flag_of_Zambia.svg     \n",
       "195 .zw //upload.wikimedia.org/wikipedia/commons/6/6a/Flag_of_Zimbabwe.svg   "
      ]
     },
     "metadata": {},
     "output_type": "display_data"
    }
   ],
   "source": [
    "library(tidyverse)\n",
    "world <- dbReadTable(con, \"world\")\n",
    "world"
   ]
  },
  {
   "cell_type": "markdown",
   "metadata": {},
   "source": [
    "`world`表一共195行，但由于全局设置了`options(repr.matrix.max.rows)`，默认只显示了10行（前5+后5）。"
   ]
  },
  {
   "cell_type": "code",
   "execution_count": null,
   "metadata": {},
   "outputs": [],
   "source": []
  }
 ],
 "metadata": {
  "kernelspec": {
   "display_name": "R",
   "language": "R",
   "name": "ir"
  },
  "language_info": {
   "codemirror_mode": "r",
   "file_extension": ".r",
   "mimetype": "text/x-r-source",
   "name": "R",
   "pygments_lexer": "r",
   "version": "4.0.0"
  }
 },
 "nbformat": 4,
 "nbformat_minor": 4
}
