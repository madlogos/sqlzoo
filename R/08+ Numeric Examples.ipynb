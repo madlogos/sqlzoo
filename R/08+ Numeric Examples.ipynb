{
 "cells": [
  {
   "cell_type": "markdown",
   "metadata": {},
   "source": [
    "# NSS Tutorial\n",
    "\n",
    "Field\t| Type\n",
    "--------|-------\n",
    "ukprn\t| varchar(8)\n",
    "institution\t| varchar(100)\n",
    "subject\t| varchar(60)\n",
    "level\t| varchar(50)\n",
    "question\t| varchar(10)\n",
    "A_STRONGLY_DISAGREE\t| int(11)\n",
    "A_DISAGREE\t| int(11)\n",
    "A_NEUTRAL\t| int(11)\n",
    "A_AGREE\t| int(11)\n",
    "A_STRONGLY_AGREE\t| int(11)\n",
    "A_NA\t| int(11)\n",
    "CI_MIN\t| int(11)\n",
    "score\t| int(11)\n",
    "CI_MAX\t| int(11)\n",
    "response\t| int(11)\n",
    "sample\t| int(11)\n",
    "aggregate\t| char(1)\n",
    "\n",
    "National Student Survey 2012\n",
    "\n",
    "The National Student Survey <http://www.thestudentsurvey.com/> is presented to thousands of graduating students in UK Higher Education. The survey asks 22 questions, students can respond with STRONGLY DISAGREE, DISAGREE, NEUTRAL, AGREE or STRONGLY AGREE. The values in these columns represent PERCENTAGES of the total students who responded with that answer.\n",
    "\n",
    "The table `nss` has one row per institution, subject and question."
   ]
  },
  {
   "cell_type": "markdown",
   "metadata": {},
   "source": [
    "## 1. Check out one row\n",
    "\n",
    "The example shows the number who responded for:\n",
    "\n",
    "- question 1\n",
    "- at 'Edinburgh Napier University'\n",
    "- studying '(8) Computer Science'\n",
    "\n",
    "**Show the the percentage who STRONGLY AGREE**"
   ]
  },
  {
   "cell_type": "markdown",
   "metadata": {},
   "source": [
    "## 2. Calculate how many agree or strongly agree\n",
    "\n",
    "**Show the institution and subject where the score is at least 100 for question 15.**"
   ]
  },
  {
   "cell_type": "markdown",
   "metadata": {},
   "source": [
    "## 3. Unhappy Computer Students\n",
    "\n",
    "**Show the institution and score where the score for '(8) Computer Science' is less than 50 for question 'Q15'**"
   ]
  },
  {
   "cell_type": "markdown",
   "metadata": {},
   "source": [
    "## 4. More Computing or Creative Students?\n",
    "\n",
    "**Show the subject and total number of students who responded to question 22 for each of the subjects '(8) Computer Science' and '(H) Creative Arts and Design'.**\n",
    "\n",
    "> _HINT_    \n",
    "> You will need to use SUM over the response column and GROUP BY subject"
   ]
  },
  {
   "cell_type": "markdown",
   "metadata": {},
   "source": [
    "## 5. Strongly Agree Numbers\n",
    "\n",
    "**Show the subject and total number of students who A_STRONGLY_AGREE to question 22 for each of the subjects '(8) Computer Science' and '(H) Creative Arts and Design'.**\n",
    "\n",
    "> _HINT_    \n",
    "> The A_STRONGLY_AGREE column is a percentage. To work out the total number of students who strongly agree you must multiply this percentage by the number who responded (response) and divide by 100 - take the SUM of that."
   ]
  },
  {
   "cell_type": "markdown",
   "metadata": {},
   "source": [
    "## 6. Strongly Agree, Percentage\n",
    "\n",
    "**Show the percentage of students who A_STRONGLY_AGREE to question 22 for the subject '(8) Computer Science' show the same figure for the subject '(H) Creative Arts and Design'.**\n",
    "\n",
    "Use the **ROUND** function to show the percentage without decimal places."
   ]
  },
  {
   "cell_type": "markdown",
   "metadata": {},
   "source": [
    "## 7. Scores for Institutions in Manchester\n",
    "\n",
    "**Show the average scores for question 'Q22' for each institution that include 'Manchester' in the name.**\n",
    "\n",
    "The column **score** is a percentage - you must use the method outlined above to multiply the percentage by the **response** and divide by the total response. Give your answer rounded to the nearest whole number."
   ]
  },
  {
   "cell_type": "markdown",
   "metadata": {},
   "source": [
    "## 8.Number of Computing Students in Manchester\n",
    "\n",
    "**Show the institution, the total sample size and the number of computing students for institutions in Manchester for 'Q01'.**"
   ]
  },
  {
   "cell_type": "code",
   "execution_count": null,
   "metadata": {},
   "outputs": [],
   "source": []
  }
 ],
 "metadata": {
  "kernelspec": {
   "display_name": "Python 3",
   "language": "python",
   "name": "python3"
  },
  "language_info": {
   "codemirror_mode": {
    "name": "ipython",
    "version": 3
   },
   "file_extension": ".py",
   "mimetype": "text/x-python",
   "name": "python",
   "nbconvert_exporter": "python",
   "pygments_lexer": "ipython3",
   "version": "3.7.7"
  }
 },
 "nbformat": 4,
 "nbformat_minor": 4
}
